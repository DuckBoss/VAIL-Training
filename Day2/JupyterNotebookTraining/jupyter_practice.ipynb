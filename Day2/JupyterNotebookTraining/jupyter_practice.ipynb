{
 "cells": [
  {
   "cell_type": "markdown",
   "id": "irish-staff",
   "metadata": {},
   "source": [
    "### Day 2 - Jupyter Notebook Practice"
   ]
  },
  {
   "cell_type": "code",
   "execution_count": 1,
   "id": "imposed-aerospace",
   "metadata": {},
   "outputs": [
    {
     "name": "stdout",
     "output_type": "stream",
     "text": [
      "Basic numpy array: [1 2 3]\n",
      "\n"
     ]
    }
   ],
   "source": [
    "import numpy as np\n",
    "\n",
    "# Creating numpy arrays in a jupyter notebook.\n",
    "np_array = np.array([1, 2, 3])\n",
    "print(f\"Basic numpy array: {np_array}\\n\")\n"
   ]
  }
 ],
 "metadata": {
  "kernelspec": {
   "display_name": "Python 3",
   "language": "python",
   "name": "python3"
  },
  "language_info": {
   "codemirror_mode": {
    "name": "ipython",
    "version": 3
   },
   "file_extension": ".py",
   "mimetype": "text/x-python",
   "name": "python",
   "nbconvert_exporter": "python",
   "pygments_lexer": "ipython3",
   "version": "3.8.6"
  }
 },
 "nbformat": 4,
 "nbformat_minor": 5
}
