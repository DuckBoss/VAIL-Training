{
  "nbformat": 4,
  "nbformat_minor": 0,
  "metadata": {
    "colab": {
      "name": "day8_cnn_practice.ipynb",
      "provenance": [],
      "collapsed_sections": [],
      "toc_visible": true
    },
    "kernelspec": {
      "name": "python3",
      "display_name": "Python 3"
    },
    "accelerator": "GPU"
  },
  "cells": [
    {
      "cell_type": "markdown",
      "metadata": {
        "id": "PxbbJSCR89zl"
      },
      "source": [
        "### All References -\r\n",
        "\r\n",
        "1. one-hot-encoding explanation: https://www.machinecurve.com/index.php/2020/11/24/one-hot-encoding-for-machine-learning-with-tensorflow-and-keras/"
      ]
    },
    {
      "cell_type": "markdown",
      "metadata": {
        "id": "Deq0h0U5wuC-"
      },
      "source": [
        "### Import the required libraries -"
      ]
    },
    {
      "cell_type": "code",
      "metadata": {
        "colab": {
          "base_uri": "https://localhost:8080/"
        },
        "id": "m-KBucrS2Rrt",
        "outputId": "018c8ecf-2433-4a70-b1e8-1f707ae7f7c2"
      },
      "source": [
        "from google.colab import drive\n",
        "drive.mount('/content/drive')"
      ],
      "execution_count": 90,
      "outputs": [
        {
          "output_type": "stream",
          "text": [
            "Drive already mounted at /content/drive; to attempt to forcibly remount, call drive.mount(\"/content/drive\", force_remount=True).\n"
          ],
          "name": "stdout"
        }
      ]
    },
    {
      "cell_type": "code",
      "metadata": {
        "colab": {
          "base_uri": "https://localhost:8080/"
        },
        "id": "IDRDx554wrcz",
        "outputId": "347b2325-0774-43c6-c706-219292d403af"
      },
      "source": [
        "import numpy as np # linear algebra\r\n",
        "import pandas as pd # data processing, CSV file I/O (e.g. pd.read_csv)\r\n",
        "import seaborn as sns\r\n",
        "import matplotlib.pyplot as plt\r\n",
        "# import warnings\r\n",
        "import warnings\r\n",
        "# filter warnings\r\n",
        "warnings.filterwarnings('ignore')\r\n",
        "import os\r\n",
        "\r\n",
        "\r\n",
        "print(\"Imported libraries!\")"
      ],
      "execution_count": 91,
      "outputs": [
        {
          "output_type": "stream",
          "text": [
            "Imported libraries!\n"
          ],
          "name": "stdout"
        }
      ]
    },
    {
      "cell_type": "markdown",
      "metadata": {
        "id": "NKvVIUR8yUGc"
      },
      "source": [
        "### Check the dataset -"
      ]
    },
    {
      "cell_type": "code",
      "metadata": {
        "colab": {
          "base_uri": "https://localhost:8080/"
        },
        "id": "pcx7PjYVyUzK",
        "outputId": "4068250a-4429-4fd9-df78-0a43b455aada"
      },
      "source": [
        "# Make sure the dataset exists.\r\n",
        "from google.colab import files\r\n",
        "\r\n",
        "\r\n",
        "trainCSVExists = os.path.exists('/content/drive/MyDrive/SureStartTrainingData/train.csv')\r\n",
        "if trainCSVExists:\r\n",
        "  print(f\"train.csv dataset Exists: {trainCSVExists}\")\r\n",
        "else:\r\n",
        "  print(f\"train.csv dataset does not exist! Try importing it:\")\r\n",
        "  files.upload()\r\n",
        "\r\n",
        "testCSVExists = os.path.exists('/content/drive/MyDrive/SureStartTrainingData/test.csv')\r\n",
        "if testCSVExists:\r\n",
        "  print(f\"test.csv dataset Exists: {testCSVExists}\")\r\n",
        "else:\r\n",
        "  print(f\"test.csv dataset does not exist! Try importing it:\")\r\n",
        "  files.upload()\r\n",
        "\r\n",
        "sampleSubmissionCSVExists = os.path.exists('/content/drive/MyDrive/SureStartTrainingData/sample_submission.csv')\r\n",
        "if sampleSubmissionCSVExists:\r\n",
        "  print(f\"sample_submission.csv dataset Exists: {sampleSubmissionCSVExists}\")\r\n",
        "else:\r\n",
        "  print(f\"sample_submission.csv dataset does not exist! Try importing it:\")\r\n",
        "  files.upload()\r\n",
        "\r\n",
        "# Check for GPU\r\n",
        "import tensorflow as tf\r\n",
        "deviceName = tf.test.gpu_device_name()\r\n",
        "if deviceName != \"/device:GPU:0\":\r\n",
        "  print(f\"GPU not found!\")\r\n",
        "else:\r\n",
        "  print(f\"Found GPU: {deviceName}\")"
      ],
      "execution_count": 92,
      "outputs": [
        {
          "output_type": "stream",
          "text": [
            "train.csv dataset Exists: True\n",
            "test.csv dataset Exists: True\n",
            "sample_submission.csv dataset Exists: True\n",
            "Found GPU: /device:GPU:0\n"
          ],
          "name": "stdout"
        }
      ]
    },
    {
      "cell_type": "markdown",
      "metadata": {
        "id": "9cmUY04v25NS"
      },
      "source": [
        "### Load the dataset -"
      ]
    },
    {
      "cell_type": "code",
      "metadata": {
        "colab": {
          "base_uri": "https://localhost:8080/",
          "height": 287
        },
        "id": "fvFO08mw28PH",
        "outputId": "02746149-5608-4c94-ee21-c5483f5b288d"
      },
      "source": [
        "trainingData = pd.read_csv('/content/drive/MyDrive/SureStartTrainingData/train.csv')\r\n",
        "print(trainingData.shape)\r\n",
        "trainingData.head()\r\n",
        "\r\n",
        "testingData = pd.read_csv('/content/drive/MyDrive/SureStartTrainingData/test.csv')\r\n",
        "print(testingData.shape)\r\n",
        "testingData.head()\r\n"
      ],
      "execution_count": 93,
      "outputs": [
        {
          "output_type": "stream",
          "text": [
            "(42000, 785)\n",
            "(28000, 784)\n"
          ],
          "name": "stdout"
        },
        {
          "output_type": "execute_result",
          "data": {
            "text/html": [
              "<div>\n",
              "<style scoped>\n",
              "    .dataframe tbody tr th:only-of-type {\n",
              "        vertical-align: middle;\n",
              "    }\n",
              "\n",
              "    .dataframe tbody tr th {\n",
              "        vertical-align: top;\n",
              "    }\n",
              "\n",
              "    .dataframe thead th {\n",
              "        text-align: right;\n",
              "    }\n",
              "</style>\n",
              "<table border=\"1\" class=\"dataframe\">\n",
              "  <thead>\n",
              "    <tr style=\"text-align: right;\">\n",
              "      <th></th>\n",
              "      <th>pixel0</th>\n",
              "      <th>pixel1</th>\n",
              "      <th>pixel2</th>\n",
              "      <th>pixel3</th>\n",
              "      <th>pixel4</th>\n",
              "      <th>pixel5</th>\n",
              "      <th>pixel6</th>\n",
              "      <th>pixel7</th>\n",
              "      <th>pixel8</th>\n",
              "      <th>pixel9</th>\n",
              "      <th>pixel10</th>\n",
              "      <th>pixel11</th>\n",
              "      <th>pixel12</th>\n",
              "      <th>pixel13</th>\n",
              "      <th>pixel14</th>\n",
              "      <th>pixel15</th>\n",
              "      <th>pixel16</th>\n",
              "      <th>pixel17</th>\n",
              "      <th>pixel18</th>\n",
              "      <th>pixel19</th>\n",
              "      <th>pixel20</th>\n",
              "      <th>pixel21</th>\n",
              "      <th>pixel22</th>\n",
              "      <th>pixel23</th>\n",
              "      <th>pixel24</th>\n",
              "      <th>pixel25</th>\n",
              "      <th>pixel26</th>\n",
              "      <th>pixel27</th>\n",
              "      <th>pixel28</th>\n",
              "      <th>pixel29</th>\n",
              "      <th>pixel30</th>\n",
              "      <th>pixel31</th>\n",
              "      <th>pixel32</th>\n",
              "      <th>pixel33</th>\n",
              "      <th>pixel34</th>\n",
              "      <th>pixel35</th>\n",
              "      <th>pixel36</th>\n",
              "      <th>pixel37</th>\n",
              "      <th>pixel38</th>\n",
              "      <th>pixel39</th>\n",
              "      <th>...</th>\n",
              "      <th>pixel744</th>\n",
              "      <th>pixel745</th>\n",
              "      <th>pixel746</th>\n",
              "      <th>pixel747</th>\n",
              "      <th>pixel748</th>\n",
              "      <th>pixel749</th>\n",
              "      <th>pixel750</th>\n",
              "      <th>pixel751</th>\n",
              "      <th>pixel752</th>\n",
              "      <th>pixel753</th>\n",
              "      <th>pixel754</th>\n",
              "      <th>pixel755</th>\n",
              "      <th>pixel756</th>\n",
              "      <th>pixel757</th>\n",
              "      <th>pixel758</th>\n",
              "      <th>pixel759</th>\n",
              "      <th>pixel760</th>\n",
              "      <th>pixel761</th>\n",
              "      <th>pixel762</th>\n",
              "      <th>pixel763</th>\n",
              "      <th>pixel764</th>\n",
              "      <th>pixel765</th>\n",
              "      <th>pixel766</th>\n",
              "      <th>pixel767</th>\n",
              "      <th>pixel768</th>\n",
              "      <th>pixel769</th>\n",
              "      <th>pixel770</th>\n",
              "      <th>pixel771</th>\n",
              "      <th>pixel772</th>\n",
              "      <th>pixel773</th>\n",
              "      <th>pixel774</th>\n",
              "      <th>pixel775</th>\n",
              "      <th>pixel776</th>\n",
              "      <th>pixel777</th>\n",
              "      <th>pixel778</th>\n",
              "      <th>pixel779</th>\n",
              "      <th>pixel780</th>\n",
              "      <th>pixel781</th>\n",
              "      <th>pixel782</th>\n",
              "      <th>pixel783</th>\n",
              "    </tr>\n",
              "  </thead>\n",
              "  <tbody>\n",
              "    <tr>\n",
              "      <th>0</th>\n",
              "      <td>0</td>\n",
              "      <td>0</td>\n",
              "      <td>0</td>\n",
              "      <td>0</td>\n",
              "      <td>0</td>\n",
              "      <td>0</td>\n",
              "      <td>0</td>\n",
              "      <td>0</td>\n",
              "      <td>0</td>\n",
              "      <td>0</td>\n",
              "      <td>0</td>\n",
              "      <td>0</td>\n",
              "      <td>0</td>\n",
              "      <td>0</td>\n",
              "      <td>0</td>\n",
              "      <td>0</td>\n",
              "      <td>0</td>\n",
              "      <td>0</td>\n",
              "      <td>0</td>\n",
              "      <td>0</td>\n",
              "      <td>0</td>\n",
              "      <td>0</td>\n",
              "      <td>0</td>\n",
              "      <td>0</td>\n",
              "      <td>0</td>\n",
              "      <td>0</td>\n",
              "      <td>0</td>\n",
              "      <td>0</td>\n",
              "      <td>0</td>\n",
              "      <td>0</td>\n",
              "      <td>0</td>\n",
              "      <td>0</td>\n",
              "      <td>0</td>\n",
              "      <td>0</td>\n",
              "      <td>0</td>\n",
              "      <td>0</td>\n",
              "      <td>0</td>\n",
              "      <td>0</td>\n",
              "      <td>0</td>\n",
              "      <td>0</td>\n",
              "      <td>...</td>\n",
              "      <td>0</td>\n",
              "      <td>0</td>\n",
              "      <td>0</td>\n",
              "      <td>0</td>\n",
              "      <td>0</td>\n",
              "      <td>0</td>\n",
              "      <td>0</td>\n",
              "      <td>0</td>\n",
              "      <td>0</td>\n",
              "      <td>0</td>\n",
              "      <td>0</td>\n",
              "      <td>0</td>\n",
              "      <td>0</td>\n",
              "      <td>0</td>\n",
              "      <td>0</td>\n",
              "      <td>0</td>\n",
              "      <td>0</td>\n",
              "      <td>0</td>\n",
              "      <td>0</td>\n",
              "      <td>0</td>\n",
              "      <td>0</td>\n",
              "      <td>0</td>\n",
              "      <td>0</td>\n",
              "      <td>0</td>\n",
              "      <td>0</td>\n",
              "      <td>0</td>\n",
              "      <td>0</td>\n",
              "      <td>0</td>\n",
              "      <td>0</td>\n",
              "      <td>0</td>\n",
              "      <td>0</td>\n",
              "      <td>0</td>\n",
              "      <td>0</td>\n",
              "      <td>0</td>\n",
              "      <td>0</td>\n",
              "      <td>0</td>\n",
              "      <td>0</td>\n",
              "      <td>0</td>\n",
              "      <td>0</td>\n",
              "      <td>0</td>\n",
              "    </tr>\n",
              "    <tr>\n",
              "      <th>1</th>\n",
              "      <td>0</td>\n",
              "      <td>0</td>\n",
              "      <td>0</td>\n",
              "      <td>0</td>\n",
              "      <td>0</td>\n",
              "      <td>0</td>\n",
              "      <td>0</td>\n",
              "      <td>0</td>\n",
              "      <td>0</td>\n",
              "      <td>0</td>\n",
              "      <td>0</td>\n",
              "      <td>0</td>\n",
              "      <td>0</td>\n",
              "      <td>0</td>\n",
              "      <td>0</td>\n",
              "      <td>0</td>\n",
              "      <td>0</td>\n",
              "      <td>0</td>\n",
              "      <td>0</td>\n",
              "      <td>0</td>\n",
              "      <td>0</td>\n",
              "      <td>0</td>\n",
              "      <td>0</td>\n",
              "      <td>0</td>\n",
              "      <td>0</td>\n",
              "      <td>0</td>\n",
              "      <td>0</td>\n",
              "      <td>0</td>\n",
              "      <td>0</td>\n",
              "      <td>0</td>\n",
              "      <td>0</td>\n",
              "      <td>0</td>\n",
              "      <td>0</td>\n",
              "      <td>0</td>\n",
              "      <td>0</td>\n",
              "      <td>0</td>\n",
              "      <td>0</td>\n",
              "      <td>0</td>\n",
              "      <td>0</td>\n",
              "      <td>0</td>\n",
              "      <td>...</td>\n",
              "      <td>0</td>\n",
              "      <td>0</td>\n",
              "      <td>0</td>\n",
              "      <td>0</td>\n",
              "      <td>0</td>\n",
              "      <td>0</td>\n",
              "      <td>0</td>\n",
              "      <td>0</td>\n",
              "      <td>0</td>\n",
              "      <td>0</td>\n",
              "      <td>0</td>\n",
              "      <td>0</td>\n",
              "      <td>0</td>\n",
              "      <td>0</td>\n",
              "      <td>0</td>\n",
              "      <td>0</td>\n",
              "      <td>0</td>\n",
              "      <td>0</td>\n",
              "      <td>0</td>\n",
              "      <td>0</td>\n",
              "      <td>0</td>\n",
              "      <td>0</td>\n",
              "      <td>0</td>\n",
              "      <td>0</td>\n",
              "      <td>0</td>\n",
              "      <td>0</td>\n",
              "      <td>0</td>\n",
              "      <td>0</td>\n",
              "      <td>0</td>\n",
              "      <td>0</td>\n",
              "      <td>0</td>\n",
              "      <td>0</td>\n",
              "      <td>0</td>\n",
              "      <td>0</td>\n",
              "      <td>0</td>\n",
              "      <td>0</td>\n",
              "      <td>0</td>\n",
              "      <td>0</td>\n",
              "      <td>0</td>\n",
              "      <td>0</td>\n",
              "    </tr>\n",
              "    <tr>\n",
              "      <th>2</th>\n",
              "      <td>0</td>\n",
              "      <td>0</td>\n",
              "      <td>0</td>\n",
              "      <td>0</td>\n",
              "      <td>0</td>\n",
              "      <td>0</td>\n",
              "      <td>0</td>\n",
              "      <td>0</td>\n",
              "      <td>0</td>\n",
              "      <td>0</td>\n",
              "      <td>0</td>\n",
              "      <td>0</td>\n",
              "      <td>0</td>\n",
              "      <td>0</td>\n",
              "      <td>0</td>\n",
              "      <td>0</td>\n",
              "      <td>0</td>\n",
              "      <td>0</td>\n",
              "      <td>0</td>\n",
              "      <td>0</td>\n",
              "      <td>0</td>\n",
              "      <td>0</td>\n",
              "      <td>0</td>\n",
              "      <td>0</td>\n",
              "      <td>0</td>\n",
              "      <td>0</td>\n",
              "      <td>0</td>\n",
              "      <td>0</td>\n",
              "      <td>0</td>\n",
              "      <td>0</td>\n",
              "      <td>0</td>\n",
              "      <td>0</td>\n",
              "      <td>0</td>\n",
              "      <td>0</td>\n",
              "      <td>0</td>\n",
              "      <td>0</td>\n",
              "      <td>0</td>\n",
              "      <td>0</td>\n",
              "      <td>0</td>\n",
              "      <td>0</td>\n",
              "      <td>...</td>\n",
              "      <td>0</td>\n",
              "      <td>0</td>\n",
              "      <td>0</td>\n",
              "      <td>0</td>\n",
              "      <td>0</td>\n",
              "      <td>0</td>\n",
              "      <td>0</td>\n",
              "      <td>0</td>\n",
              "      <td>0</td>\n",
              "      <td>0</td>\n",
              "      <td>0</td>\n",
              "      <td>0</td>\n",
              "      <td>0</td>\n",
              "      <td>0</td>\n",
              "      <td>0</td>\n",
              "      <td>0</td>\n",
              "      <td>0</td>\n",
              "      <td>0</td>\n",
              "      <td>0</td>\n",
              "      <td>0</td>\n",
              "      <td>0</td>\n",
              "      <td>0</td>\n",
              "      <td>0</td>\n",
              "      <td>0</td>\n",
              "      <td>0</td>\n",
              "      <td>0</td>\n",
              "      <td>0</td>\n",
              "      <td>0</td>\n",
              "      <td>0</td>\n",
              "      <td>0</td>\n",
              "      <td>0</td>\n",
              "      <td>0</td>\n",
              "      <td>0</td>\n",
              "      <td>0</td>\n",
              "      <td>0</td>\n",
              "      <td>0</td>\n",
              "      <td>0</td>\n",
              "      <td>0</td>\n",
              "      <td>0</td>\n",
              "      <td>0</td>\n",
              "    </tr>\n",
              "    <tr>\n",
              "      <th>3</th>\n",
              "      <td>0</td>\n",
              "      <td>0</td>\n",
              "      <td>0</td>\n",
              "      <td>0</td>\n",
              "      <td>0</td>\n",
              "      <td>0</td>\n",
              "      <td>0</td>\n",
              "      <td>0</td>\n",
              "      <td>0</td>\n",
              "      <td>0</td>\n",
              "      <td>0</td>\n",
              "      <td>0</td>\n",
              "      <td>0</td>\n",
              "      <td>0</td>\n",
              "      <td>0</td>\n",
              "      <td>0</td>\n",
              "      <td>0</td>\n",
              "      <td>0</td>\n",
              "      <td>0</td>\n",
              "      <td>0</td>\n",
              "      <td>0</td>\n",
              "      <td>0</td>\n",
              "      <td>0</td>\n",
              "      <td>0</td>\n",
              "      <td>0</td>\n",
              "      <td>0</td>\n",
              "      <td>0</td>\n",
              "      <td>0</td>\n",
              "      <td>0</td>\n",
              "      <td>0</td>\n",
              "      <td>0</td>\n",
              "      <td>0</td>\n",
              "      <td>0</td>\n",
              "      <td>0</td>\n",
              "      <td>0</td>\n",
              "      <td>0</td>\n",
              "      <td>0</td>\n",
              "      <td>0</td>\n",
              "      <td>0</td>\n",
              "      <td>0</td>\n",
              "      <td>...</td>\n",
              "      <td>0</td>\n",
              "      <td>0</td>\n",
              "      <td>0</td>\n",
              "      <td>0</td>\n",
              "      <td>0</td>\n",
              "      <td>0</td>\n",
              "      <td>0</td>\n",
              "      <td>0</td>\n",
              "      <td>0</td>\n",
              "      <td>0</td>\n",
              "      <td>0</td>\n",
              "      <td>0</td>\n",
              "      <td>0</td>\n",
              "      <td>0</td>\n",
              "      <td>0</td>\n",
              "      <td>0</td>\n",
              "      <td>0</td>\n",
              "      <td>0</td>\n",
              "      <td>0</td>\n",
              "      <td>0</td>\n",
              "      <td>0</td>\n",
              "      <td>0</td>\n",
              "      <td>0</td>\n",
              "      <td>0</td>\n",
              "      <td>0</td>\n",
              "      <td>0</td>\n",
              "      <td>0</td>\n",
              "      <td>0</td>\n",
              "      <td>0</td>\n",
              "      <td>0</td>\n",
              "      <td>0</td>\n",
              "      <td>0</td>\n",
              "      <td>0</td>\n",
              "      <td>0</td>\n",
              "      <td>0</td>\n",
              "      <td>0</td>\n",
              "      <td>0</td>\n",
              "      <td>0</td>\n",
              "      <td>0</td>\n",
              "      <td>0</td>\n",
              "    </tr>\n",
              "    <tr>\n",
              "      <th>4</th>\n",
              "      <td>0</td>\n",
              "      <td>0</td>\n",
              "      <td>0</td>\n",
              "      <td>0</td>\n",
              "      <td>0</td>\n",
              "      <td>0</td>\n",
              "      <td>0</td>\n",
              "      <td>0</td>\n",
              "      <td>0</td>\n",
              "      <td>0</td>\n",
              "      <td>0</td>\n",
              "      <td>0</td>\n",
              "      <td>0</td>\n",
              "      <td>0</td>\n",
              "      <td>0</td>\n",
              "      <td>0</td>\n",
              "      <td>0</td>\n",
              "      <td>0</td>\n",
              "      <td>0</td>\n",
              "      <td>0</td>\n",
              "      <td>0</td>\n",
              "      <td>0</td>\n",
              "      <td>0</td>\n",
              "      <td>0</td>\n",
              "      <td>0</td>\n",
              "      <td>0</td>\n",
              "      <td>0</td>\n",
              "      <td>0</td>\n",
              "      <td>0</td>\n",
              "      <td>0</td>\n",
              "      <td>0</td>\n",
              "      <td>0</td>\n",
              "      <td>0</td>\n",
              "      <td>0</td>\n",
              "      <td>0</td>\n",
              "      <td>0</td>\n",
              "      <td>0</td>\n",
              "      <td>0</td>\n",
              "      <td>0</td>\n",
              "      <td>0</td>\n",
              "      <td>...</td>\n",
              "      <td>0</td>\n",
              "      <td>0</td>\n",
              "      <td>0</td>\n",
              "      <td>0</td>\n",
              "      <td>0</td>\n",
              "      <td>0</td>\n",
              "      <td>0</td>\n",
              "      <td>0</td>\n",
              "      <td>0</td>\n",
              "      <td>0</td>\n",
              "      <td>0</td>\n",
              "      <td>0</td>\n",
              "      <td>0</td>\n",
              "      <td>0</td>\n",
              "      <td>0</td>\n",
              "      <td>0</td>\n",
              "      <td>0</td>\n",
              "      <td>0</td>\n",
              "      <td>0</td>\n",
              "      <td>0</td>\n",
              "      <td>0</td>\n",
              "      <td>0</td>\n",
              "      <td>0</td>\n",
              "      <td>0</td>\n",
              "      <td>0</td>\n",
              "      <td>0</td>\n",
              "      <td>0</td>\n",
              "      <td>0</td>\n",
              "      <td>0</td>\n",
              "      <td>0</td>\n",
              "      <td>0</td>\n",
              "      <td>0</td>\n",
              "      <td>0</td>\n",
              "      <td>0</td>\n",
              "      <td>0</td>\n",
              "      <td>0</td>\n",
              "      <td>0</td>\n",
              "      <td>0</td>\n",
              "      <td>0</td>\n",
              "      <td>0</td>\n",
              "    </tr>\n",
              "  </tbody>\n",
              "</table>\n",
              "<p>5 rows × 784 columns</p>\n",
              "</div>"
            ],
            "text/plain": [
              "   pixel0  pixel1  pixel2  pixel3  ...  pixel780  pixel781  pixel782  pixel783\n",
              "0       0       0       0       0  ...         0         0         0         0\n",
              "1       0       0       0       0  ...         0         0         0         0\n",
              "2       0       0       0       0  ...         0         0         0         0\n",
              "3       0       0       0       0  ...         0         0         0         0\n",
              "4       0       0       0       0  ...         0         0         0         0\n",
              "\n",
              "[5 rows x 784 columns]"
            ]
          },
          "metadata": {
            "tags": []
          },
          "execution_count": 93
        }
      ]
    },
    {
      "cell_type": "markdown",
      "metadata": {
        "id": "UT0NudYz3fzM"
      },
      "source": [
        "### Retrieve the dataset into data frames -"
      ]
    },
    {
      "cell_type": "code",
      "metadata": {
        "colab": {
          "base_uri": "https://localhost:8080/",
          "height": 794
        },
        "id": "M25MEReN3l60",
        "outputId": "e8dc2ec7-3472-461f-841a-0ed704263827"
      },
      "source": [
        "# Add the labels from the train.csv file into trainY\r\n",
        "trainY = trainingData.label\r\n",
        "# Drop the label column from the dataset\r\n",
        "trainX = trainingData.drop(labels = ['label'], axis=1)\r\n",
        "\r\n",
        "# Plot the occurrences of each label\r\n",
        "print(\"Occurrences of each label:\")\r\n",
        "plt.figure(figsize=(15, 7))\r\n",
        "g = sns.countplot(trainY, palette=\"icefire\")\r\n",
        "plt.title(\"Number of digit classes\")\r\n",
        "trainY.value_counts()\r\n",
        "plt.show()\r\n",
        "\r\n",
        "# Plot a sample of the dataset\r\n",
        "print(\"Sample from dataset:\")\r\n",
        "plt.figure(figsize=(5,5))\r\n",
        "img = trainX.iloc[3].to_numpy()\r\n",
        "img = img.reshape((28, 28))\r\n",
        "plt.imshow(img, cmap='gray')\r\n",
        "plt.title(trainingData.iloc[0, 0])\r\n",
        "plt.axis(\"off\")\r\n",
        "plt.show()"
      ],
      "execution_count": 94,
      "outputs": [
        {
          "output_type": "stream",
          "text": [
            "Occurrences of each label:\n"
          ],
          "name": "stdout"
        },
        {
          "output_type": "display_data",
          "data": {
            "image/png": "[encoded data removed]",
            "text/plain": [
              "<Figure size 1080x504 with 1 Axes>"
            ]
          },
          "metadata": {
            "tags": [],
            "needs_background": "light"
          }
        },
        {
          "output_type": "stream",
          "text": [
            "Sample from dataset:\n"
          ],
          "name": "stdout"
        },
        {
          "output_type": "display_data",
          "data": {
            "image/png": "[encoded data removed]",
            "text/plain": [
              "<Figure size 360x360 with 1 Axes>"
            ]
          },
          "metadata": {
            "tags": [],
            "needs_background": "light"
          }
        }
      ]
    },
    {
      "cell_type": "markdown",
      "metadata": {
        "id": "towCLkPW5cDE"
      },
      "source": [
        "### Prepare the data -\r\n",
        "\r\n",
        "\r\n",
        "1.   Normalization: Make all images grayscale to improve speed.\r\n",
        "2.   Reshape: Reshape all images to 28x28x1 3D matrices.\r\n",
        "3.   Encode Labels: Encode the labels to one-hot-encoded vectors\r\n",
        "(one-hot-encoding reference: https://www.machinecurve.com/index.php/2020/11/24/one-hot-encoding-for-machine-learning-with-tensorflow-and-keras/)\r\n",
        "\r\n"
      ]
    },
    {
      "cell_type": "code",
      "metadata": {
        "colab": {
          "base_uri": "https://localhost:8080/"
        },
        "id": "U3YtMbW05g8_",
        "outputId": "c0897800-f826-40e0-f4d9-a2d0d16ec409"
      },
      "source": [
        "# Normalization\r\n",
        "print(\"Normalization:\")\r\n",
        "trainX = trainX / 255.0\r\n",
        "print(f\"# trainX normalized: {trainX.shape}\")\r\n",
        "testingData = testingData / 255.0\r\n",
        "print(f\"# testingData normalized: {testingData.shape}\\n\")\r\n",
        "\r\n",
        "# Reshape\r\n",
        "print(\"Reshape:\")\r\n",
        "trainXOld = trainX.copy()\r\n",
        "trainX = trainX.values.reshape(-1, 28, 28, 1)\r\n",
        "print(f\"# trainX reshaped: {trainXOld.shape} => {trainX.shape}\")\r\n",
        "testingDataOld = testingData.copy()\r\n",
        "testingData = testingData.values.reshape(-1, 28, 28, 1)\r\n",
        "print(f\"# testingData reshaped: {testingDataOld.shape} => {testingData.shape}\\n\")\r\n",
        "\r\n",
        "# Encode Labels\r\n",
        "\r\n",
        "# I am utiling the keras integration from tensorflow instead of the keras library as shown in the CNN tutorial from the curriculum\r\n",
        "from tensorflow.keras.utils import to_categorical\r\n",
        "\r\n",
        "print(\"Encode Labels:\")\r\n",
        "trainY = to_categorical(trainY, num_classes=10)\r\n",
        "print(f\"# trainY encoded: {trainY.shape}\")"
      ],
      "execution_count": 95,
      "outputs": [
        {
          "output_type": "stream",
          "text": [
            "Normalization:\n",
            "# trainX normalized: (42000, 784)\n",
            "# testingData normalized: (28000, 784)\n",
            "\n",
            "Reshape:\n",
            "# trainX reshaped: (42000, 784) => (42000, 28, 28, 1)\n",
            "# testingData reshaped: (28000, 784) => (28000, 28, 28, 1)\n",
            "\n",
            "Encode Labels:\n",
            "# trainY encoded: (42000, 10)\n"
          ],
          "name": "stdout"
        }
      ]
    },
    {
      "cell_type": "markdown",
      "metadata": {
        "id": "z9k7zpO89wSR"
      },
      "source": [
        "### Split the dataset into training and testing sets -"
      ]
    },
    {
      "cell_type": "code",
      "metadata": {
        "colab": {
          "base_uri": "https://localhost:8080/",
          "height": 265
        },
        "id": "dCBF5M2Q92xW",
        "outputId": "87a15c0f-52a8-4d0b-c3a3-60776809b1c8"
      },
      "source": [
        "from sklearn.model_selection import train_test_split\r\n",
        "trainX, valX, trainY, valY = train_test_split(trainX, trainY, test_size = 0.1, random_state=2)\r\n",
        "\r\n",
        "# Display example data as a plot\r\n",
        "plt.imshow(trainX[2][:,:,0], cmap='gray')\r\n",
        "plt.show()"
      ],
      "execution_count": 96,
      "outputs": [
        {
          "output_type": "display_data",
          "data": {
            "image/png": "[encoded data removed]",
            "text/plain": [
              "<Figure size 432x288 with 1 Axes>"
            ]
          },
          "metadata": {
            "tags": [],
            "needs_background": "light"
          }
        }
      ]
    },
    {
      "cell_type": "markdown",
      "metadata": {
        "id": "ajNP2hix-P1d"
      },
      "source": [
        "### Create the CNN model -"
      ]
    },
    {
      "cell_type": "code",
      "metadata": {
        "colab": {
          "base_uri": "https://localhost:8080/"
        },
        "id": "iSDWzFZI-SyW",
        "outputId": "f4133a7f-8672-4937-f7d5-b003eafe2ddc"
      },
      "source": [
        "from sklearn.metrics import confusion_matrix\r\n",
        "import itertools\r\n",
        "\r\n",
        "from tensorflow.keras.utils import to_categorical\r\n",
        "from tensorflow.keras.models import Sequential\r\n",
        "from tensorflow.keras.layers import Dense, Dropout, Flatten, Conv2D, MaxPool2D\r\n",
        "from tensorflow.keras.optimizers import RMSprop,Adam\r\n",
        "from tensorflow.keras.preprocessing.image import ImageDataGenerator\r\n",
        "from tensorflow.keras.callbacks import ReduceLROnPlateau\r\n",
        "\r\n",
        "# Create the model base\r\n",
        "cnnModel = Sequential()\r\n",
        "# Add the layers\r\n",
        "cnnModel.add(Conv2D(filters = 8, kernel_size=(5,5), padding='Same', activation='relu', input_shape=(28, 28, 1)))\r\n",
        "cnnModel.add(MaxPool2D(pool_size=(2,2)))\r\n",
        "cnnModel.add(Dropout(0.25))\r\n",
        "cnnModel.add(Conv2D(filters=16, kernel_size=(3,3), padding='Same', activation='relu'))\r\n",
        "cnnModel.add(MaxPool2D(pool_size=(2,2), strides=(2,2)))\r\n",
        "cnnModel.add(Dropout(0.25))\r\n",
        "\r\n",
        "cnnModel.add(Flatten())\r\n",
        "cnnModel.add(Dense(256, activation='relu'))\r\n",
        "cnnModel.add(Dropout(0.5))\r\n",
        "cnnModel.add(Dense(10, activation='softmax'))\r\n",
        "\r\n",
        "# Set the optimizer\r\n",
        "cnnOptimizer = Adam(lr=0.001, beta_1=0.9, beta_2=0.999)\r\n",
        "\r\n",
        "# Compile the model\r\n",
        "cnnModel.compile(optimizer=cnnOptimizer, loss='categorical_crossentropy', metrics=['accuracy'])\r\n",
        "\r\n",
        "# Data augmentation to prevent overfitting\r\n",
        "datagen = ImageDataGenerator(\r\n",
        "    featurewise_center=False,\r\n",
        "    samplewise_center=False,\r\n",
        "    featurewise_std_normalization=False,\r\n",
        "    samplewise_std_normalization=False,\r\n",
        "    zca_whitening=False,\r\n",
        "    rotation_range=5,\r\n",
        "    zoom_range=0.1,\r\n",
        "    width_shift_range=0.1,\r\n",
        "    height_shift_range=0.1,\r\n",
        "    horizontal_flip=False,\r\n",
        "    vertical_flip=False\r\n",
        ")\r\n",
        "datagen.fit(trainX)\r\n",
        "\r\n",
        "# Fit the model\r\n",
        "cnnHistory = cnnModel.fit_generator(datagen.flow(trainX, trainY, batch_size=250), epochs=10, validation_data=(valX, valY), steps_per_epoch=trainX.shape[0] // 250)\r\n"
      ],
      "execution_count": 97,
      "outputs": [
        {
          "output_type": "stream",
          "text": [
            "Epoch 1/10\n",
            "151/151 [==============================] - 9s 58ms/step - loss: 1.5814 - accuracy: 0.4555 - val_loss: 0.2432 - val_accuracy: 0.9371\n",
            "Epoch 2/10\n",
            "151/151 [==============================] - 9s 58ms/step - loss: 0.4975 - accuracy: 0.8409 - val_loss: 0.1376 - val_accuracy: 0.9626\n",
            "Epoch 3/10\n",
            "151/151 [==============================] - 9s 57ms/step - loss: 0.3300 - accuracy: 0.8967 - val_loss: 0.1145 - val_accuracy: 0.9695\n",
            "Epoch 4/10\n",
            "151/151 [==============================] - 9s 57ms/step - loss: 0.2797 - accuracy: 0.9120 - val_loss: 0.0977 - val_accuracy: 0.9714\n",
            "Epoch 5/10\n",
            "151/151 [==============================] - 9s 57ms/step - loss: 0.2477 - accuracy: 0.9209 - val_loss: 0.0868 - val_accuracy: 0.9731\n",
            "Epoch 6/10\n",
            "151/151 [==============================] - 8s 56ms/step - loss: 0.2261 - accuracy: 0.9322 - val_loss: 0.0786 - val_accuracy: 0.9752\n",
            "Epoch 7/10\n",
            "151/151 [==============================] - 9s 56ms/step - loss: 0.2059 - accuracy: 0.9368 - val_loss: 0.0718 - val_accuracy: 0.9802\n",
            "Epoch 8/10\n",
            "151/151 [==============================] - 9s 57ms/step - loss: 0.1937 - accuracy: 0.9397 - val_loss: 0.0645 - val_accuracy: 0.9817\n",
            "Epoch 9/10\n",
            "151/151 [==============================] - 9s 56ms/step - loss: 0.1813 - accuracy: 0.9458 - val_loss: 0.0608 - val_accuracy: 0.9829\n",
            "Epoch 10/10\n",
            "151/151 [==============================] - 9s 56ms/step - loss: 0.1664 - accuracy: 0.9483 - val_loss: 0.0590 - val_accuracy: 0.9829\n"
          ],
          "name": "stdout"
        }
      ]
    },
    {
      "cell_type": "markdown",
      "metadata": {
        "id": "_Pz2zqDaAXpG"
      },
      "source": [
        "### Visualize the model -"
      ]
    },
    {
      "cell_type": "code",
      "metadata": {
        "colab": {
          "base_uri": "https://localhost:8080/",
          "height": 350
        },
        "id": "Emfv1U_mAZGQ",
        "outputId": "ce24eb73-65db-4f4e-e9e8-999fe09e3c6c"
      },
      "source": [
        "plt.figure(figsize=(5,5))\r\n",
        "plt.plot(cnnHistory.history['val_loss'], color='b', label='validation loss')\r\n",
        "plt.title('Test Loss')\r\n",
        "plt.xlabel('Number of Epochs')\r\n",
        "plt.ylabel('Loss')\r\n",
        "plt.legend()\r\n",
        "plt.show()"
      ],
      "execution_count": 98,
      "outputs": [
        {
          "output_type": "display_data",
          "data": {
            "image/png": "[encoded data removed]",
            "text/plain": [
              "<Figure size 360x360 with 1 Axes>"
            ]
          },
          "metadata": {
            "tags": [],
            "needs_background": "light"
          }
        }
      ]
    },
    {
      "cell_type": "markdown",
      "metadata": {
        "id": "upPZwOASK3TR"
      },
      "source": [
        "### Visualize the Confusion Matrix -"
      ]
    },
    {
      "cell_type": "code",
      "metadata": {
        "colab": {
          "base_uri": "https://localhost:8080/",
          "height": 513
        },
        "id": "n4O35bLdK6XU",
        "outputId": "4902a2f6-a950-4f56-c2fb-a82f81f47ca5"
      },
      "source": [
        "# confusion matrix\r\n",
        "import seaborn as sns\r\n",
        "# Predict the values from the validation dataset\r\n",
        "predictY = cnnModel.predict(valX)\r\n",
        "# Convert predictions classes to one hot vectors \r\n",
        "predictYClasses = np.argmax(predictY,axis = 1) \r\n",
        "# Convert validation observations to one hot vectors\r\n",
        "trueY = np.argmax(valY,axis = 1) \r\n",
        "# compute the confusion matrix\r\n",
        "confusionMatrix = confusion_matrix(trueY, predictYClasses) \r\n",
        "# plot the confusion matrix\r\n",
        "f,ax = plt.subplots(figsize=(8, 8))\r\n",
        "sns.heatmap(confusionMatrix, annot=True, linewidths=0.01,cmap=\"Blues\",linecolor=\"gray\", fmt= '.1f',ax=ax)\r\n",
        "plt.xlabel(\"Predicted Label\")\r\n",
        "plt.ylabel(\"True Label\")\r\n",
        "plt.title(\"Confusion Matrix\")\r\n",
        "plt.show()"
      ],
      "execution_count": 99,
      "outputs": [
        {
          "output_type": "display_data",
          "data": {
            "image/png": "[encoded data removed]",
            "text/plain": [
              "<Figure size 576x576 with 2 Axes>"
            ]
          },
          "metadata": {
            "tags": [],
            "needs_background": "light"
          }
        }
      ]
    }
  ]
}