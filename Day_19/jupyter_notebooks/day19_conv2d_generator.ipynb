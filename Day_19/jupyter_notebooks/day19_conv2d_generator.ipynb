{
  "nbformat": 4,
  "nbformat_minor": 0,
  "metadata": {
    "colab": {
      "name": "day19_conv2d_generator.ipynb",
      "provenance": [],
      "collapsed_sections": []
    },
    "kernelspec": {
      "name": "python3",
      "display_name": "Python 3"
    }
  },
  "cells": [
    {
      "cell_type": "code",
      "metadata": {
        "id": "e65Ho-17ILw_"
      },
      "source": [
        "import pandas as pd\r\n",
        "from sklearn import preprocessing\r\n",
        "from sklearn.model_selection import train_test_split\r\n",
        "from tensorflow.keras.models import Sequential\r\n",
        "from tensorflow.keras.layers import Dense, Reshape, Conv2D, Conv2DTranspose\r\n",
        "from tensorflow.keras import regularizers\r\n",
        "import matplotlib.pyplot as plt\r\n",
        "import numpy as np\r\n",
        "from PIL import Image\r\n",
        "import IPython.display"
      ],
      "execution_count": 4,
      "outputs": []
    },
    {
      "cell_type": "markdown",
      "metadata": {
        "id": "8d27J556JFw1"
      },
      "source": [
        "### Define the model -"
      ]
    },
    {
      "cell_type": "code",
      "metadata": {
        "colab": {
          "base_uri": "https://localhost:8080/"
        },
        "id": "Txyy_Sc6IP7f",
        "outputId": "b8f3c3fb-59de-46e0-9f57-9adc41f71395"
      },
      "source": [
        "# define input data\r\n",
        "X = np.asarray([[1, 2],\r\n",
        "\t\t\t [3, 4]])\r\n",
        "# show input data for context\r\n",
        "print(X)\r\n",
        "# reshape input data into one sample a sample with a channel\r\n",
        "X = X.reshape((1, 2, 2, 1))\r\n",
        "\r\n",
        "# define model\r\n",
        "model = Sequential()\r\n",
        "# define input shape, output enough activations for for 128 5x5 image\r\n",
        "model.add(Dense(128 * 5 * 5, input_dim=100))\r\n",
        "# reshape vector of activations into 128 feature maps with 5x5\r\n",
        "model.add(Reshape((5, 5, 128)))\r\n",
        "# double input from 128 5x5 to 1 10x10 feature map\r\n",
        "model.add(Conv2DTranspose(1, (3,3), strides=(2,2), padding='same'))\r\n",
        "# summarize model\r\n",
        "model.summary()"
      ],
      "execution_count": 2,
      "outputs": [
        {
          "output_type": "stream",
          "text": [
            "[[1 2]\n",
            " [3 4]]\n",
            "Model: \"sequential\"\n",
            "_________________________________________________________________\n",
            "Layer (type)                 Output Shape              Param #   \n",
            "=================================================================\n",
            "dense (Dense)                (None, 3200)              323200    \n",
            "_________________________________________________________________\n",
            "reshape (Reshape)            (None, 5, 5, 128)         0         \n",
            "_________________________________________________________________\n",
            "conv2d_transpose (Conv2DTran (None, 10, 10, 1)         1153      \n",
            "=================================================================\n",
            "Total params: 324,353\n",
            "Trainable params: 324,353\n",
            "Non-trainable params: 0\n",
            "_________________________________________________________________\n"
          ],
          "name": "stdout"
        }
      ]
    },
    {
      "cell_type": "markdown",
      "metadata": {
        "id": "1WV8oz1QI-4I"
      },
      "source": [
        "### Generate a random image using CNN output -\r\n",
        "This isn't part of the guide, but I was just curious to see how the generated image would look, so I used a random input value and scaled the image to 100x100 to visualize it."
      ]
    },
    {
      "cell_type": "code",
      "metadata": {
        "colab": {
          "base_uri": "https://localhost:8080/",
          "height": 763
        },
        "id": "IQQBgAy8IzXl",
        "outputId": "fd038ab7-c777-4e15-cf25-d407c4374c4c"
      },
      "source": [
        "random_data = np.random.rand(1, 100)\r\n",
        "print(f\"Input data:\\n{random_data}\")\r\n",
        "\r\n",
        "output = model.predict(random_data)\r\n",
        "print(f\"Output data:\\n{output.reshape(1, 100)}\")\r\n",
        "reshaped_output = output.reshape(1, 10, 10)\r\n",
        "\r\n",
        "generated_image = Image.fromarray(reshaped_output, mode='RGB')\r\n",
        "generated_image = generated_image.resize((100, 100))\r\n",
        "print(f\"\\nGenerated Image: {reshaped_output.shape} => 100x100\")\r\n",
        "IPython.display.display(generated_image)"
      ],
      "execution_count": 21,
      "outputs": [
        {
          "output_type": "stream",
          "text": [
            "Input data:\n",
            "[[0.800485   0.6430514  0.66725407 0.92449353 0.76622626 0.01924043\n",
            "  0.37930603 0.297631   0.17139726 0.25141958 0.01197617 0.71829747\n",
            "  0.98081552 0.81771003 0.42551967 0.85748881 0.09775418 0.92371577\n",
            "  0.72778801 0.68904847 0.15528005 0.35322446 0.52932941 0.47579241\n",
            "  0.27954749 0.00948936 0.50988793 0.70436917 0.37289224 0.64184293\n",
            "  0.30216868 0.09777442 0.52389493 0.32088604 0.11691503 0.69681254\n",
            "  0.85126982 0.19189895 0.34268614 0.2941207  0.36512064 0.67516498\n",
            "  0.93014749 0.34490797 0.34979173 0.20239289 0.29458248 0.24740243\n",
            "  0.06036248 0.93466168 0.20985567 0.54107979 0.03497378 0.89230803\n",
            "  0.98105358 0.36442345 0.92602099 0.80298835 0.36357946 0.33929927\n",
            "  0.33316608 0.85703804 0.47860117 0.16526186 0.76401545 0.22184512\n",
            "  0.01424949 0.99751488 0.36019145 0.36665397 0.92011812 0.22163223\n",
            "  0.69503126 0.78669537 0.35429846 0.58435555 0.00301418 0.87454866\n",
            "  0.96981073 0.935637   0.81222106 0.56366206 0.64284436 0.03349451\n",
            "  0.08623999 0.03857996 0.1918134  0.05815635 0.61439825 0.09704283\n",
            "  0.84567095 0.73768738 0.89336129 0.29536257 0.54515326 0.83043082\n",
            "  0.21567047 0.59727442 0.512908   0.58418298]]\n",
            "Output data:\n",
            "[[-0.07470525 -0.0296261   0.08079161 -0.03919954  0.24578975 -0.04675365\n",
            "   0.00336581  0.02671365  0.00267111  0.03444983  0.0131923   0.07043299\n",
            "   0.16139615 -0.08740813 -0.06828111 -0.03275712  0.03811925 -0.05611194\n",
            "  -0.08608633  0.01977966  0.10721454  0.12566179 -0.12457468 -0.00326266\n",
            "  -0.05360872  0.04756973 -0.11770929 -0.0868113  -0.02857444  0.03244304\n",
            "  -0.08496429  0.03294931 -0.03136155  0.04230673 -0.09952533 -0.1099012\n",
            "   0.01697997  0.01574006 -0.08738529  0.11154571 -0.10870807 -0.12207343\n",
            "   0.04025625 -0.00882435 -0.05147604 -0.10976496  0.08700463 -0.08352889\n",
            "   0.12371933 -0.02505962 -0.06486056  0.03582533  0.13201317 -0.11672634\n",
            "   0.03080411 -0.05657696 -0.03458795 -0.00416221  0.10660461 -0.07074807\n",
            "   0.13897051  0.06082329 -0.21847367 -0.11260222  0.25075403 -0.07455207\n",
            "  -0.1819062  -0.15138856 -0.10345671  0.02152376  0.17427647 -0.05267645\n",
            "   0.02904974 -0.0215298   0.06621765  0.0061428   0.05401963 -0.03678251\n",
            "   0.04394928  0.02155125  0.03638253  0.22299679  0.21162978 -0.07910328\n",
            "   0.1350273   0.0374698  -0.13471204 -0.12672555 -0.14008306 -0.03351678\n",
            "   0.01944794  0.0595244  -0.06353393 -0.06608032  0.07007991  0.02269102\n",
            "   0.02956847 -0.02481177 -0.15205419 -0.0287179 ]]\n",
            "\n",
            "Generated Image: (1, 10, 10) => 100x100\n"
          ],
          "name": "stdout"
        },
        {
          "output_type": "display_data",
          "data": {
            "image/png": "[encoded data removed]",
            "text/plain": [
              "<PIL.Image.Image image mode=RGB size=100x100 at 0x7F5936322D10>"
            ]
          },
          "metadata": {
            "tags": []
          }
        }
      ]
    }
  ]
}