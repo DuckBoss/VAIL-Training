{
  "nbformat": 4,
  "nbformat_minor": 0,
  "metadata": {
    "colab": {
      "name": "day19_upsampling2d_generator.ipynb",
      "provenance": [],
      "collapsed_sections": []
    },
    "kernelspec": {
      "name": "python3",
      "display_name": "Python 3"
    }
  },
  "cells": [
    {
      "cell_type": "code",
      "metadata": {
        "id": "3AgjciKe3BZ-"
      },
      "source": [
        "import pandas as pd\r\n",
        "from sklearn import preprocessing\r\n",
        "from sklearn.model_selection import train_test_split\r\n",
        "from tensorflow.keras.models import Sequential\r\n",
        "from tensorflow.keras.layers import Dense, Dropout, UpSampling2D, Reshape, Conv2D\r\n",
        "from tensorflow.keras import regularizers\r\n",
        "import matplotlib.pyplot as plt\r\n",
        "import numpy as np\r\n",
        "from PIL import Image\r\n",
        "import IPython.display"
      ],
      "execution_count": 129,
      "outputs": []
    },
    {
      "cell_type": "markdown",
      "metadata": {
        "id": "6boyY0jcJDcu"
      },
      "source": [
        "### Define the model -"
      ]
    },
    {
      "cell_type": "code",
      "metadata": {
        "colab": {
          "base_uri": "https://localhost:8080/"
        },
        "id": "EzWRxfm93ESg",
        "outputId": "860bcdd3-5168-4ece-ddb8-0de549439be1"
      },
      "source": [
        "# define model\r\n",
        "model = Sequential()\r\n",
        "# define input shape, output enough activations for 128 5x5 image\r\n",
        "model.add(Dense(128 * 5 * 5, input_dim=100))\r\n",
        "# reshape vector of activations into 128 feature maps with 5x5\r\n",
        "model.add(Reshape((5, 5, 128)))\r\n",
        "# double input from 128 5x5 to 1 10x10 feature map\r\n",
        "model.add(UpSampling2D())\r\n",
        "# fill in detail in the upsampled feature maps and output a single image\r\n",
        "model.add(Conv2D(1, (3,3), padding='same'))\r\n",
        "model.summary()"
      ],
      "execution_count": 130,
      "outputs": [
        {
          "output_type": "stream",
          "text": [
            "Model: \"sequential_46\"\n",
            "_________________________________________________________________\n",
            "Layer (type)                 Output Shape              Param #   \n",
            "=================================================================\n",
            "dense_46 (Dense)             (None, 3200)              323200    \n",
            "_________________________________________________________________\n",
            "reshape_45 (Reshape)         (None, 5, 5, 128)         0         \n",
            "_________________________________________________________________\n",
            "up_sampling2d_45 (UpSampling (None, 10, 10, 128)       0         \n",
            "_________________________________________________________________\n",
            "conv2d_44 (Conv2D)           (None, 10, 10, 1)         1153      \n",
            "=================================================================\n",
            "Total params: 324,353\n",
            "Trainable params: 324,353\n",
            "Non-trainable params: 0\n",
            "_________________________________________________________________\n"
          ],
          "name": "stdout"
        }
      ]
    },
    {
      "cell_type": "markdown",
      "metadata": {
        "id": "HxE5bCKG8GYD"
      },
      "source": [
        "### Generate a random image using CNN output -\r\n",
        "This isn't part of the guide, but I was just curious to see how the generated image would look, so I used a random input value and scaled the image to visualize it."
      ]
    },
    {
      "cell_type": "code",
      "metadata": {
        "colab": {
          "base_uri": "https://localhost:8080/",
          "height": 763
        },
        "id": "U_yM6C4B8Kzq",
        "outputId": "8447588e-bf68-48ef-cbb2-b44107e0b562"
      },
      "source": [
        "random_data = np.random.rand(1, 100)\r\n",
        "print(f\"Input data:\\n{random_data}\")\r\n",
        "\r\n",
        "output = model.predict(random_data)\r\n",
        "print(f\"Output data:\\n{output.reshape(1, 100)}\")\r\n",
        "reshaped_output = output.reshape(1, 10, 10)\r\n",
        "\r\n",
        "generated_image = Image.fromarray(reshaped_output, mode='RGB')\r\n",
        "generated_image = generated_image.resize((100, 100))\r\n",
        "print(f\"\\nGenerated Image: {reshaped_output.shape} => 100x100\")\r\n",
        "IPython.display.display(generated_image)\r\n"
      ],
      "execution_count": 186,
      "outputs": [
        {
          "output_type": "stream",
          "text": [
            "Input data:\n",
            "[[0.83652717 0.1988508  0.88748328 0.62298956 0.72752847 0.51967617\n",
            "  0.904566   0.67791303 0.03796654 0.50797005 0.67065713 0.65622127\n",
            "  0.47442677 0.80463647 0.26827972 0.75599043 0.92265241 0.36316937\n",
            "  0.51750865 0.03701922 0.61713418 0.81343909 0.65612283 0.05754485\n",
            "  0.10312473 0.25903722 0.97689997 0.16122417 0.36782798 0.65893724\n",
            "  0.82969388 0.50683842 0.26561069 0.11554565 0.39662495 0.75258708\n",
            "  0.48606579 0.85210463 0.62624472 0.51248718 0.52931061 0.99503841\n",
            "  0.36990234 0.80188768 0.36129699 0.63809451 0.1572384  0.7554225\n",
            "  0.24653105 0.83460992 0.16354709 0.39785135 0.76291277 0.02256579\n",
            "  0.45321546 0.20037259 0.79636457 0.87000925 0.01588747 0.2826866\n",
            "  0.48675474 0.4310996  0.02101861 0.78283404 0.5769403  0.29218199\n",
            "  0.08338083 0.18888368 0.7175837  0.25858179 0.41123945 0.17288384\n",
            "  0.02026009 0.12493396 0.14496813 0.94534323 0.80453098 0.21131731\n",
            "  0.06519102 0.77603541 0.93155532 0.97323603 0.0430968  0.49701468\n",
            "  0.88232422 0.56237865 0.13094417 0.19285436 0.94099157 0.77367098\n",
            "  0.67177222 0.31164734 0.43577677 0.59449973 0.94710567 0.52439176\n",
            "  0.60699526 0.01316634 0.38954994 0.071671  ]]\n",
            "Output data:\n",
            "[[ 0.05831032  0.1705104   0.07669033 -0.11205621 -0.00446075  0.10020395\n",
            "   0.01389559 -0.04083702  0.12648945  0.11135621  0.24668379  0.20949489\n",
            "   0.0046979  -0.0160532   0.06191126  0.07387436  0.11689059 -0.04635141\n",
            "   0.0576209   0.3689779   0.15894659  0.16926977  0.20252019  0.05334406\n",
            "   0.05208202 -0.06924652 -0.1376796  -0.08591756  0.05304267  0.17233552\n",
            "   0.0007958  -0.01301864  0.18061355  0.16195796  0.2730561   0.09128587\n",
            "  -0.21108559 -0.3997676  -0.33202732 -0.1736561  -0.09461213 -0.21209389\n",
            "   0.00646286  0.19821492  0.18412091  0.06173702 -0.1326299  -0.5447847\n",
            "  -0.4104606  -0.03781076 -0.10085667 -0.05928611  0.16866592  0.18992221\n",
            "  -0.0649342  -0.35192794 -0.3009771  -0.05757826  0.24662253  0.40071997\n",
            "  -0.04867801  0.14919448  0.21641003  0.27521634  0.1719236  -0.3993886\n",
            "  -0.379144    0.13453612  0.20912322  0.19103459  0.02558224  0.18678212\n",
            "   0.13311657 -0.12890053 -0.06848472 -0.03609648 -0.09622248  0.13976192\n",
            "   0.18846011  0.13933048  0.07224721  0.06762327  0.16751814 -0.18160245\n",
            "  -0.27714184  0.0884666   0.01709647  0.05570252  0.12836552  0.15135676\n",
            "  -0.06301083  0.05528401  0.23554099  0.01615093 -0.20740642 -0.00667159\n",
            "   0.10161394  0.24017426  0.2251344   0.00224669]]\n",
            "\n",
            "Generated Image: (1, 10, 10) => 100x100\n"
          ],
          "name": "stdout"
        },
        {
          "output_type": "display_data",
          "data": {
            "image/png": "[encoded data removed]",
            "text/plain": [
              "<PIL.Image.Image image mode=RGB size=100x100 at 0x7FC75C576310>"
            ]
          },
          "metadata": {
            "tags": []
          }
        }
      ]
    }
  ]
}