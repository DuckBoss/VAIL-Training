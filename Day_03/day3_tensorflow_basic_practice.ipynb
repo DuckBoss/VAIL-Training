{
  "nbformat": 4,
  "nbformat_minor": 0,
  "metadata": {
    "colab": {
      "name": "day3_tensorflow_basic_practice.ipynb",
      "provenance": []
    },
    "kernelspec": {
      "name": "python3",
      "display_name": "Python 3"
    }
  },
  "cells": [
    {
      "cell_type": "markdown",
      "metadata": {
        "id": "KsV71Kwp3t-Z"
      },
      "source": [
        "### General Note: \r\n",
        "To use the Session object, I had to use a v1.x of tensor flow."
      ]
    },
    {
      "cell_type": "code",
      "metadata": {
        "id": "WUDppsf0tZcg",
        "colab": {
          "base_uri": "https://localhost:8080/"
        },
        "outputId": "2b8498c5-0970-4272-c064-90f9fed7c729"
      },
      "source": [
        "%tensorflow_version 1.x\r\n",
        "\r\n",
        "# Import `tensorflow`\r\n",
        "import tensorflow as tf\r\n",
        "# Use this to confirm the tensorflow version is v1.x\r\n",
        "print(tf.__version__)\r\n",
        "\r\n",
        "\r\n",
        "# Initialize two constants\r\n",
        "x1 = tf.constant([1,2,3,4])\r\n",
        "x2 = tf.constant([5,6,7,8])\r\n",
        "\r\n",
        "# Multiply\r\n",
        "result = tf.multiply(x1, x2)\r\n",
        "\r\n",
        "# Initialize Session and run `result`\r\n",
        "with tf.Session() as sess:\r\n",
        "    output = sess.run(result)\r\n",
        "    print(output)"
      ],
      "execution_count": 1,
      "outputs": [
        {
          "output_type": "stream",
          "text": [
            "TensorFlow 1.x selected.\n",
            "1.15.2\n",
            "[ 5 12 21 32]\n"
          ],
          "name": "stdout"
        }
      ]
    }
  ]
}