{
  "nbformat": 4,
  "nbformat_minor": 0,
  "metadata": {
    "colab": {
      "name": "day17_nn_practice.ipynb",
      "provenance": []
    },
    "kernelspec": {
      "name": "python3",
      "display_name": "Python 3"
    }
  },
  "cells": [
    {
      "cell_type": "markdown",
      "metadata": {
        "id": "DC5hkBrz6yyZ"
      },
      "source": [
        "### Import required libraries -"
      ]
    },
    {
      "cell_type": "code",
      "metadata": {
        "id": "Oa3ZLu026ynr"
      },
      "source": [
        "import pandas as pd\r\n",
        "from sklearn import preprocessing\r\n",
        "from sklearn.model_selection import train_test_split\r\n",
        "from tensorflow.keras.models import Sequential\r\n",
        "from tensorflow.keras.layers import Dense\r\n",
        "import matplotlib.pyplot as plt\r\n"
      ],
      "execution_count": 17,
      "outputs": []
    },
    {
      "cell_type": "markdown",
      "metadata": {
        "id": "tGFLLwQr6wtt"
      },
      "source": [
        "### Read the dataset -"
      ]
    },
    {
      "cell_type": "code",
      "metadata": {
        "colab": {
          "base_uri": "https://localhost:8080/",
          "height": 527
        },
        "id": "Rq-B6nHZ6nKn",
        "outputId": "65cd0bad-6dff-41d0-fd7b-229a80eccf97"
      },
      "source": [
        "from google.colab import drive\r\n",
        "drive.mount('/content/drive')\r\n",
        "        \r\n",
        "house_df = pd.read_csv(\"/content/drive/MyDrive/SureStartTrainingData/housepricedata.csv\")\r\n",
        "house_df.info()\r\n",
        "house_df.head()"
      ],
      "execution_count": 3,
      "outputs": [
        {
          "output_type": "stream",
          "text": [
            "Drive already mounted at /content/drive; to attempt to forcibly remount, call drive.mount(\"/content/drive\", force_remount=True).\n",
            "<class 'pandas.core.frame.DataFrame'>\n",
            "RangeIndex: 1460 entries, 0 to 1459\n",
            "Data columns (total 11 columns):\n",
            " #   Column            Non-Null Count  Dtype\n",
            "---  ------            --------------  -----\n",
            " 0   LotArea           1460 non-null   int64\n",
            " 1   OverallQual       1460 non-null   int64\n",
            " 2   OverallCond       1460 non-null   int64\n",
            " 3   TotalBsmtSF       1460 non-null   int64\n",
            " 4   FullBath          1460 non-null   int64\n",
            " 5   HalfBath          1460 non-null   int64\n",
            " 6   BedroomAbvGr      1460 non-null   int64\n",
            " 7   TotRmsAbvGrd      1460 non-null   int64\n",
            " 8   Fireplaces        1460 non-null   int64\n",
            " 9   GarageArea        1460 non-null   int64\n",
            " 10  AboveMedianPrice  1460 non-null   int64\n",
            "dtypes: int64(11)\n",
            "memory usage: 125.6 KB\n"
          ],
          "name": "stdout"
        },
        {
          "output_type": "execute_result",
          "data": {
            "text/html": [
              "<div>\n",
              "<style scoped>\n",
              "    .dataframe tbody tr th:only-of-type {\n",
              "        vertical-align: middle;\n",
              "    }\n",
              "\n",
              "    .dataframe tbody tr th {\n",
              "        vertical-align: top;\n",
              "    }\n",
              "\n",
              "    .dataframe thead th {\n",
              "        text-align: right;\n",
              "    }\n",
              "</style>\n",
              "<table border=\"1\" class=\"dataframe\">\n",
              "  <thead>\n",
              "    <tr style=\"text-align: right;\">\n",
              "      <th></th>\n",
              "      <th>LotArea</th>\n",
              "      <th>OverallQual</th>\n",
              "      <th>OverallCond</th>\n",
              "      <th>TotalBsmtSF</th>\n",
              "      <th>FullBath</th>\n",
              "      <th>HalfBath</th>\n",
              "      <th>BedroomAbvGr</th>\n",
              "      <th>TotRmsAbvGrd</th>\n",
              "      <th>Fireplaces</th>\n",
              "      <th>GarageArea</th>\n",
              "      <th>AboveMedianPrice</th>\n",
              "    </tr>\n",
              "  </thead>\n",
              "  <tbody>\n",
              "    <tr>\n",
              "      <th>0</th>\n",
              "      <td>8450</td>\n",
              "      <td>7</td>\n",
              "      <td>5</td>\n",
              "      <td>856</td>\n",
              "      <td>2</td>\n",
              "      <td>1</td>\n",
              "      <td>3</td>\n",
              "      <td>8</td>\n",
              "      <td>0</td>\n",
              "      <td>548</td>\n",
              "      <td>1</td>\n",
              "    </tr>\n",
              "    <tr>\n",
              "      <th>1</th>\n",
              "      <td>9600</td>\n",
              "      <td>6</td>\n",
              "      <td>8</td>\n",
              "      <td>1262</td>\n",
              "      <td>2</td>\n",
              "      <td>0</td>\n",
              "      <td>3</td>\n",
              "      <td>6</td>\n",
              "      <td>1</td>\n",
              "      <td>460</td>\n",
              "      <td>1</td>\n",
              "    </tr>\n",
              "    <tr>\n",
              "      <th>2</th>\n",
              "      <td>11250</td>\n",
              "      <td>7</td>\n",
              "      <td>5</td>\n",
              "      <td>920</td>\n",
              "      <td>2</td>\n",
              "      <td>1</td>\n",
              "      <td>3</td>\n",
              "      <td>6</td>\n",
              "      <td>1</td>\n",
              "      <td>608</td>\n",
              "      <td>1</td>\n",
              "    </tr>\n",
              "    <tr>\n",
              "      <th>3</th>\n",
              "      <td>9550</td>\n",
              "      <td>7</td>\n",
              "      <td>5</td>\n",
              "      <td>756</td>\n",
              "      <td>1</td>\n",
              "      <td>0</td>\n",
              "      <td>3</td>\n",
              "      <td>7</td>\n",
              "      <td>1</td>\n",
              "      <td>642</td>\n",
              "      <td>0</td>\n",
              "    </tr>\n",
              "    <tr>\n",
              "      <th>4</th>\n",
              "      <td>14260</td>\n",
              "      <td>8</td>\n",
              "      <td>5</td>\n",
              "      <td>1145</td>\n",
              "      <td>2</td>\n",
              "      <td>1</td>\n",
              "      <td>4</td>\n",
              "      <td>9</td>\n",
              "      <td>1</td>\n",
              "      <td>836</td>\n",
              "      <td>1</td>\n",
              "    </tr>\n",
              "  </tbody>\n",
              "</table>\n",
              "</div>"
            ],
            "text/plain": [
              "   LotArea  OverallQual  OverallCond  ...  Fireplaces  GarageArea  AboveMedianPrice\n",
              "0     8450            7            5  ...           0         548                 1\n",
              "1     9600            6            8  ...           1         460                 1\n",
              "2    11250            7            5  ...           1         608                 1\n",
              "3     9550            7            5  ...           1         642                 0\n",
              "4    14260            8            5  ...           1         836                 1\n",
              "\n",
              "[5 rows x 11 columns]"
            ]
          },
          "metadata": {
            "tags": []
          },
          "execution_count": 3
        }
      ]
    },
    {
      "cell_type": "markdown",
      "metadata": {
        "id": "87C8o5Dx7dXl"
      },
      "source": [
        "### Prepare the dataset -\r\n",
        "Split the dataset into input features and labels, then scale and normalize the data, and finally split the dataset into training, validation, and testing sets."
      ]
    },
    {
      "cell_type": "code",
      "metadata": {
        "colab": {
          "base_uri": "https://localhost:8080/"
        },
        "id": "1xuZbCM-7d2I",
        "outputId": "2b7092ac-e477-4151-c92d-6bc24a69b861"
      },
      "source": [
        "house_dataset = house_df.values\r\n",
        "\r\n",
        "X = house_dataset[:,0:10]\r\n",
        "Y = house_dataset[:,10]\r\n",
        "\r\n",
        "# Normalize the X values into 0 to 1\r\n",
        "min_max_scaler = preprocessing.MinMaxScaler()\r\n",
        "X_scale = min_max_scaler.fit_transform(X)\r\n",
        "\r\n",
        "X_train, X_val_and_test, Y_train, Y_val_and_test = train_test_split(X_scale, Y, test_size=0.3)\r\n",
        "# Split the dataset again for a training, validation and testing set\r\n",
        "X_val, X_test, Y_val, Y_test = train_test_split(X_val_and_test, Y_val_and_test, test_size=0.5)\r\n",
        "print(X_train.shape, X_val.shape, X_test.shape, Y_train.shape, Y_val.shape, Y_test.shape)\r\n"
      ],
      "execution_count": 12,
      "outputs": [
        {
          "output_type": "stream",
          "text": [
            "(1022, 10) (219, 10) (219, 10) (1022,) (219,) (219,)\n"
          ],
          "name": "stdout"
        }
      ]
    },
    {
      "cell_type": "markdown",
      "metadata": {
        "id": "9I_OviS4MEh4"
      },
      "source": [
        "### Define the model -"
      ]
    },
    {
      "cell_type": "code",
      "metadata": {
        "colab": {
          "base_uri": "https://localhost:8080/"
        },
        "id": "oQ7ON7ZCME2c",
        "outputId": "f2aa36ab-ceb0-496f-fd36-17ff436e267a"
      },
      "source": [
        "# Define the model - 3 layers (ReLu, ReLu, Sigmoid)\r\n",
        "model = Sequential([\r\n",
        "    Dense(32, activation='relu', input_shape=(10,)),\r\n",
        "    Dense(32, activation='relu'),\r\n",
        "    Dense(1, activation='sigmoid'),\r\n",
        "])\r\n",
        "# Compile the model\r\n",
        "model.compile(optimizer='sgd',\r\n",
        "              loss='binary_crossentropy',\r\n",
        "              metrics=['accuracy'])\r\n",
        "print(\"Model defined and compiled!\")"
      ],
      "execution_count": 16,
      "outputs": [
        {
          "output_type": "stream",
          "text": [
            "Model defined and compiled!\n"
          ],
          "name": "stdout"
        }
      ]
    },
    {
      "cell_type": "markdown",
      "metadata": {
        "id": "ouxCJ0-IM4Oe"
      },
      "source": [
        "### Train the model -"
      ]
    },
    {
      "cell_type": "code",
      "metadata": {
        "colab": {
          "base_uri": "https://localhost:8080/"
        },
        "id": "FWSCQLw-M4iY",
        "outputId": "a89cae48-8f2c-4cf0-82c2-7827263cfe91"
      },
      "source": [
        "# Train the moodel for 100 epochs -\r\n",
        "hist = model.fit(X_train, Y_train,\r\n",
        "          batch_size=32, epochs=100,\r\n",
        "          validation_data=(X_val, Y_val))"
      ],
      "execution_count": 18,
      "outputs": [
        {
          "output_type": "stream",
          "text": [
            "Epoch 1/100\n",
            "32/32 [==============================] - 1s 8ms/step - loss: 0.6585 - accuracy: 0.5140 - val_loss: 0.6727 - val_accuracy: 0.4566\n",
            "Epoch 2/100\n",
            "32/32 [==============================] - 0s 2ms/step - loss: 0.6560 - accuracy: 0.5009 - val_loss: 0.6627 - val_accuracy: 0.4749\n",
            "Epoch 3/100\n",
            "32/32 [==============================] - 0s 2ms/step - loss: 0.6404 - accuracy: 0.5682 - val_loss: 0.6532 - val_accuracy: 0.5845\n",
            "Epoch 4/100\n",
            "32/32 [==============================] - 0s 2ms/step - loss: 0.6345 - accuracy: 0.6637 - val_loss: 0.6443 - val_accuracy: 0.6575\n",
            "Epoch 5/100\n",
            "32/32 [==============================] - 0s 2ms/step - loss: 0.6228 - accuracy: 0.6925 - val_loss: 0.6354 - val_accuracy: 0.7032\n",
            "Epoch 6/100\n",
            "32/32 [==============================] - 0s 2ms/step - loss: 0.6182 - accuracy: 0.7313 - val_loss: 0.6271 - val_accuracy: 0.7352\n",
            "Epoch 7/100\n",
            "32/32 [==============================] - 0s 2ms/step - loss: 0.6044 - accuracy: 0.7617 - val_loss: 0.6187 - val_accuracy: 0.7626\n",
            "Epoch 8/100\n",
            "32/32 [==============================] - 0s 2ms/step - loss: 0.6080 - accuracy: 0.7539 - val_loss: 0.6112 - val_accuracy: 0.7763\n",
            "Epoch 9/100\n",
            "32/32 [==============================] - 0s 2ms/step - loss: 0.5933 - accuracy: 0.7728 - val_loss: 0.6036 - val_accuracy: 0.7945\n",
            "Epoch 10/100\n",
            "32/32 [==============================] - 0s 2ms/step - loss: 0.5840 - accuracy: 0.7874 - val_loss: 0.5962 - val_accuracy: 0.7991\n",
            "Epoch 11/100\n",
            "32/32 [==============================] - 0s 2ms/step - loss: 0.5690 - accuracy: 0.8036 - val_loss: 0.5882 - val_accuracy: 0.8128\n",
            "Epoch 12/100\n",
            "32/32 [==============================] - 0s 2ms/step - loss: 0.5578 - accuracy: 0.8207 - val_loss: 0.5806 - val_accuracy: 0.8174\n",
            "Epoch 13/100\n",
            "32/32 [==============================] - 0s 2ms/step - loss: 0.5627 - accuracy: 0.8037 - val_loss: 0.5733 - val_accuracy: 0.8174\n",
            "Epoch 14/100\n",
            "32/32 [==============================] - 0s 2ms/step - loss: 0.5435 - accuracy: 0.8404 - val_loss: 0.5650 - val_accuracy: 0.8128\n",
            "Epoch 15/100\n",
            "32/32 [==============================] - 0s 2ms/step - loss: 0.5406 - accuracy: 0.8326 - val_loss: 0.5574 - val_accuracy: 0.8082\n",
            "Epoch 16/100\n",
            "32/32 [==============================] - 0s 2ms/step - loss: 0.5330 - accuracy: 0.8326 - val_loss: 0.5496 - val_accuracy: 0.8082\n",
            "Epoch 17/100\n",
            "32/32 [==============================] - 0s 2ms/step - loss: 0.5355 - accuracy: 0.8261 - val_loss: 0.5420 - val_accuracy: 0.8128\n",
            "Epoch 18/100\n",
            "32/32 [==============================] - 0s 2ms/step - loss: 0.5082 - accuracy: 0.8584 - val_loss: 0.5341 - val_accuracy: 0.8174\n",
            "Epoch 19/100\n",
            "32/32 [==============================] - 0s 2ms/step - loss: 0.4980 - accuracy: 0.8484 - val_loss: 0.5260 - val_accuracy: 0.8265\n",
            "Epoch 20/100\n",
            "32/32 [==============================] - 0s 2ms/step - loss: 0.5018 - accuracy: 0.8354 - val_loss: 0.5185 - val_accuracy: 0.8265\n",
            "Epoch 21/100\n",
            "32/32 [==============================] - 0s 2ms/step - loss: 0.4817 - accuracy: 0.8609 - val_loss: 0.5105 - val_accuracy: 0.8219\n",
            "Epoch 22/100\n",
            "32/32 [==============================] - 0s 2ms/step - loss: 0.4806 - accuracy: 0.8642 - val_loss: 0.5035 - val_accuracy: 0.8219\n",
            "Epoch 23/100\n",
            "32/32 [==============================] - 0s 2ms/step - loss: 0.4740 - accuracy: 0.8461 - val_loss: 0.4971 - val_accuracy: 0.8219\n",
            "Epoch 24/100\n",
            "32/32 [==============================] - 0s 2ms/step - loss: 0.4686 - accuracy: 0.8387 - val_loss: 0.4882 - val_accuracy: 0.8128\n",
            "Epoch 25/100\n",
            "32/32 [==============================] - 0s 2ms/step - loss: 0.4663 - accuracy: 0.8643 - val_loss: 0.4822 - val_accuracy: 0.8128\n",
            "Epoch 26/100\n",
            "32/32 [==============================] - 0s 2ms/step - loss: 0.4746 - accuracy: 0.8494 - val_loss: 0.4762 - val_accuracy: 0.8128\n",
            "Epoch 27/100\n",
            "32/32 [==============================] - 0s 2ms/step - loss: 0.4472 - accuracy: 0.8714 - val_loss: 0.4685 - val_accuracy: 0.8128\n",
            "Epoch 28/100\n",
            "32/32 [==============================] - 0s 3ms/step - loss: 0.4341 - accuracy: 0.8766 - val_loss: 0.4627 - val_accuracy: 0.8128\n",
            "Epoch 29/100\n",
            "32/32 [==============================] - 0s 2ms/step - loss: 0.4392 - accuracy: 0.8598 - val_loss: 0.4587 - val_accuracy: 0.8174\n",
            "Epoch 30/100\n",
            "32/32 [==============================] - 0s 2ms/step - loss: 0.4305 - accuracy: 0.8713 - val_loss: 0.4493 - val_accuracy: 0.8174\n",
            "Epoch 31/100\n",
            "32/32 [==============================] - 0s 3ms/step - loss: 0.4219 - accuracy: 0.8718 - val_loss: 0.4457 - val_accuracy: 0.8128\n",
            "Epoch 32/100\n",
            "32/32 [==============================] - 0s 2ms/step - loss: 0.4145 - accuracy: 0.8642 - val_loss: 0.4386 - val_accuracy: 0.8174\n",
            "Epoch 33/100\n",
            "32/32 [==============================] - 0s 2ms/step - loss: 0.4195 - accuracy: 0.8712 - val_loss: 0.4345 - val_accuracy: 0.8174\n",
            "Epoch 34/100\n",
            "32/32 [==============================] - 0s 2ms/step - loss: 0.4300 - accuracy: 0.8560 - val_loss: 0.4285 - val_accuracy: 0.8219\n",
            "Epoch 35/100\n",
            "32/32 [==============================] - 0s 2ms/step - loss: 0.3923 - accuracy: 0.8660 - val_loss: 0.4222 - val_accuracy: 0.8265\n",
            "Epoch 36/100\n",
            "32/32 [==============================] - 0s 3ms/step - loss: 0.4036 - accuracy: 0.8606 - val_loss: 0.4189 - val_accuracy: 0.8265\n",
            "Epoch 37/100\n",
            "32/32 [==============================] - 0s 2ms/step - loss: 0.3961 - accuracy: 0.8665 - val_loss: 0.4144 - val_accuracy: 0.8265\n",
            "Epoch 38/100\n",
            "32/32 [==============================] - 0s 2ms/step - loss: 0.3857 - accuracy: 0.8678 - val_loss: 0.4091 - val_accuracy: 0.8311\n",
            "Epoch 39/100\n",
            "32/32 [==============================] - 0s 2ms/step - loss: 0.3853 - accuracy: 0.8628 - val_loss: 0.4065 - val_accuracy: 0.8265\n",
            "Epoch 40/100\n",
            "32/32 [==============================] - 0s 2ms/step - loss: 0.3624 - accuracy: 0.8861 - val_loss: 0.4054 - val_accuracy: 0.8265\n",
            "Epoch 41/100\n",
            "32/32 [==============================] - 0s 2ms/step - loss: 0.3472 - accuracy: 0.8882 - val_loss: 0.3985 - val_accuracy: 0.8311\n",
            "Epoch 42/100\n",
            "32/32 [==============================] - 0s 2ms/step - loss: 0.3832 - accuracy: 0.8597 - val_loss: 0.3967 - val_accuracy: 0.8311\n",
            "Epoch 43/100\n",
            "32/32 [==============================] - 0s 2ms/step - loss: 0.3653 - accuracy: 0.8799 - val_loss: 0.3902 - val_accuracy: 0.8265\n",
            "Epoch 44/100\n",
            "32/32 [==============================] - 0s 2ms/step - loss: 0.3573 - accuracy: 0.8697 - val_loss: 0.3889 - val_accuracy: 0.8311\n",
            "Epoch 45/100\n",
            "32/32 [==============================] - 0s 2ms/step - loss: 0.3606 - accuracy: 0.8712 - val_loss: 0.3877 - val_accuracy: 0.8356\n",
            "Epoch 46/100\n",
            "32/32 [==============================] - 0s 3ms/step - loss: 0.3495 - accuracy: 0.8761 - val_loss: 0.3834 - val_accuracy: 0.8356\n",
            "Epoch 47/100\n",
            "32/32 [==============================] - 0s 2ms/step - loss: 0.3543 - accuracy: 0.8711 - val_loss: 0.3810 - val_accuracy: 0.8356\n",
            "Epoch 48/100\n",
            "32/32 [==============================] - 0s 2ms/step - loss: 0.3381 - accuracy: 0.8805 - val_loss: 0.3763 - val_accuracy: 0.8311\n",
            "Epoch 49/100\n",
            "32/32 [==============================] - 0s 3ms/step - loss: 0.3454 - accuracy: 0.8702 - val_loss: 0.3762 - val_accuracy: 0.8356\n",
            "Epoch 50/100\n",
            "32/32 [==============================] - 0s 2ms/step - loss: 0.3263 - accuracy: 0.8753 - val_loss: 0.3733 - val_accuracy: 0.8356\n",
            "Epoch 51/100\n",
            "32/32 [==============================] - 0s 2ms/step - loss: 0.3287 - accuracy: 0.8804 - val_loss: 0.3696 - val_accuracy: 0.8356\n",
            "Epoch 52/100\n",
            "32/32 [==============================] - 0s 2ms/step - loss: 0.3614 - accuracy: 0.8574 - val_loss: 0.3711 - val_accuracy: 0.8356\n",
            "Epoch 53/100\n",
            "32/32 [==============================] - 0s 3ms/step - loss: 0.3535 - accuracy: 0.8672 - val_loss: 0.3675 - val_accuracy: 0.8356\n",
            "Epoch 54/100\n",
            "32/32 [==============================] - 0s 2ms/step - loss: 0.3170 - accuracy: 0.8901 - val_loss: 0.3605 - val_accuracy: 0.8402\n",
            "Epoch 55/100\n",
            "32/32 [==============================] - 0s 2ms/step - loss: 0.3419 - accuracy: 0.8604 - val_loss: 0.3587 - val_accuracy: 0.8447\n",
            "Epoch 56/100\n",
            "32/32 [==============================] - 0s 2ms/step - loss: 0.3365 - accuracy: 0.8618 - val_loss: 0.3571 - val_accuracy: 0.8493\n",
            "Epoch 57/100\n",
            "32/32 [==============================] - 0s 2ms/step - loss: 0.3417 - accuracy: 0.8700 - val_loss: 0.3556 - val_accuracy: 0.8493\n",
            "Epoch 58/100\n",
            "32/32 [==============================] - 0s 2ms/step - loss: 0.3360 - accuracy: 0.8598 - val_loss: 0.3542 - val_accuracy: 0.8493\n",
            "Epoch 59/100\n",
            "32/32 [==============================] - 0s 2ms/step - loss: 0.3109 - accuracy: 0.8859 - val_loss: 0.3556 - val_accuracy: 0.8402\n",
            "Epoch 60/100\n",
            "32/32 [==============================] - 0s 2ms/step - loss: 0.3457 - accuracy: 0.8661 - val_loss: 0.3511 - val_accuracy: 0.8493\n",
            "Epoch 61/100\n",
            "32/32 [==============================] - 0s 2ms/step - loss: 0.3329 - accuracy: 0.8697 - val_loss: 0.3505 - val_accuracy: 0.8447\n",
            "Epoch 62/100\n",
            "32/32 [==============================] - 0s 2ms/step - loss: 0.3287 - accuracy: 0.8827 - val_loss: 0.3443 - val_accuracy: 0.8539\n",
            "Epoch 63/100\n",
            "32/32 [==============================] - 0s 2ms/step - loss: 0.3447 - accuracy: 0.8654 - val_loss: 0.3459 - val_accuracy: 0.8539\n",
            "Epoch 64/100\n",
            "32/32 [==============================] - 0s 2ms/step - loss: 0.3397 - accuracy: 0.8653 - val_loss: 0.3456 - val_accuracy: 0.8539\n",
            "Epoch 65/100\n",
            "32/32 [==============================] - 0s 2ms/step - loss: 0.3122 - accuracy: 0.8853 - val_loss: 0.3445 - val_accuracy: 0.8493\n",
            "Epoch 66/100\n",
            "32/32 [==============================] - 0s 2ms/step - loss: 0.3341 - accuracy: 0.8678 - val_loss: 0.3417 - val_accuracy: 0.8539\n",
            "Epoch 67/100\n",
            "32/32 [==============================] - 0s 2ms/step - loss: 0.3210 - accuracy: 0.8780 - val_loss: 0.3409 - val_accuracy: 0.8539\n",
            "Epoch 68/100\n",
            "32/32 [==============================] - 0s 2ms/step - loss: 0.3170 - accuracy: 0.8727 - val_loss: 0.3377 - val_accuracy: 0.8539\n",
            "Epoch 69/100\n",
            "32/32 [==============================] - 0s 2ms/step - loss: 0.3216 - accuracy: 0.8632 - val_loss: 0.3412 - val_accuracy: 0.8493\n",
            "Epoch 70/100\n",
            "32/32 [==============================] - 0s 2ms/step - loss: 0.3081 - accuracy: 0.8805 - val_loss: 0.3339 - val_accuracy: 0.8584\n",
            "Epoch 71/100\n",
            "32/32 [==============================] - 0s 2ms/step - loss: 0.3218 - accuracy: 0.8764 - val_loss: 0.3355 - val_accuracy: 0.8539\n",
            "Epoch 72/100\n",
            "32/32 [==============================] - 0s 2ms/step - loss: 0.3294 - accuracy: 0.8665 - val_loss: 0.3323 - val_accuracy: 0.8584\n",
            "Epoch 73/100\n",
            "32/32 [==============================] - 0s 2ms/step - loss: 0.3264 - accuracy: 0.8610 - val_loss: 0.3304 - val_accuracy: 0.8584\n",
            "Epoch 74/100\n",
            "32/32 [==============================] - 0s 2ms/step - loss: 0.3534 - accuracy: 0.8568 - val_loss: 0.3356 - val_accuracy: 0.8539\n",
            "Epoch 75/100\n",
            "32/32 [==============================] - 0s 2ms/step - loss: 0.3269 - accuracy: 0.8715 - val_loss: 0.3334 - val_accuracy: 0.8493\n",
            "Epoch 76/100\n",
            "32/32 [==============================] - 0s 2ms/step - loss: 0.3077 - accuracy: 0.8803 - val_loss: 0.3280 - val_accuracy: 0.8584\n",
            "Epoch 77/100\n",
            "32/32 [==============================] - 0s 2ms/step - loss: 0.3129 - accuracy: 0.8715 - val_loss: 0.3275 - val_accuracy: 0.8539\n",
            "Epoch 78/100\n",
            "32/32 [==============================] - 0s 2ms/step - loss: 0.3196 - accuracy: 0.8714 - val_loss: 0.3263 - val_accuracy: 0.8539\n",
            "Epoch 79/100\n",
            "32/32 [==============================] - 0s 2ms/step - loss: 0.3009 - accuracy: 0.8863 - val_loss: 0.3257 - val_accuracy: 0.8493\n",
            "Epoch 80/100\n",
            "32/32 [==============================] - 0s 2ms/step - loss: 0.3044 - accuracy: 0.8792 - val_loss: 0.3240 - val_accuracy: 0.8539\n",
            "Epoch 81/100\n",
            "32/32 [==============================] - 0s 2ms/step - loss: 0.3169 - accuracy: 0.8772 - val_loss: 0.3222 - val_accuracy: 0.8630\n",
            "Epoch 82/100\n",
            "32/32 [==============================] - 0s 2ms/step - loss: 0.3356 - accuracy: 0.8667 - val_loss: 0.3203 - val_accuracy: 0.8630\n",
            "Epoch 83/100\n",
            "32/32 [==============================] - 0s 2ms/step - loss: 0.3013 - accuracy: 0.8771 - val_loss: 0.3225 - val_accuracy: 0.8493\n",
            "Epoch 84/100\n",
            "32/32 [==============================] - 0s 3ms/step - loss: 0.3146 - accuracy: 0.8784 - val_loss: 0.3201 - val_accuracy: 0.8584\n",
            "Epoch 85/100\n",
            "32/32 [==============================] - 0s 2ms/step - loss: 0.3045 - accuracy: 0.8830 - val_loss: 0.3192 - val_accuracy: 0.8584\n",
            "Epoch 86/100\n",
            "32/32 [==============================] - 0s 2ms/step - loss: 0.2856 - accuracy: 0.8876 - val_loss: 0.3215 - val_accuracy: 0.8584\n",
            "Epoch 87/100\n",
            "32/32 [==============================] - 0s 3ms/step - loss: 0.3098 - accuracy: 0.8635 - val_loss: 0.3173 - val_accuracy: 0.8630\n",
            "Epoch 88/100\n",
            "32/32 [==============================] - 0s 2ms/step - loss: 0.3024 - accuracy: 0.8785 - val_loss: 0.3186 - val_accuracy: 0.8630\n",
            "Epoch 89/100\n",
            "32/32 [==============================] - 0s 2ms/step - loss: 0.3039 - accuracy: 0.8796 - val_loss: 0.3155 - val_accuracy: 0.8676\n",
            "Epoch 90/100\n",
            "32/32 [==============================] - 0s 3ms/step - loss: 0.3095 - accuracy: 0.8637 - val_loss: 0.3127 - val_accuracy: 0.8676\n",
            "Epoch 91/100\n",
            "32/32 [==============================] - 0s 2ms/step - loss: 0.3018 - accuracy: 0.8744 - val_loss: 0.3166 - val_accuracy: 0.8630\n",
            "Epoch 92/100\n",
            "32/32 [==============================] - 0s 2ms/step - loss: 0.3017 - accuracy: 0.8769 - val_loss: 0.3140 - val_accuracy: 0.8676\n",
            "Epoch 93/100\n",
            "32/32 [==============================] - 0s 3ms/step - loss: 0.3377 - accuracy: 0.8636 - val_loss: 0.3142 - val_accuracy: 0.8630\n",
            "Epoch 94/100\n",
            "32/32 [==============================] - 0s 2ms/step - loss: 0.3148 - accuracy: 0.8617 - val_loss: 0.3090 - val_accuracy: 0.8676\n",
            "Epoch 95/100\n",
            "32/32 [==============================] - 0s 2ms/step - loss: 0.2934 - accuracy: 0.8801 - val_loss: 0.3131 - val_accuracy: 0.8630\n",
            "Epoch 96/100\n",
            "32/32 [==============================] - 0s 3ms/step - loss: 0.2892 - accuracy: 0.8733 - val_loss: 0.3085 - val_accuracy: 0.8767\n",
            "Epoch 97/100\n",
            "32/32 [==============================] - 0s 2ms/step - loss: 0.3152 - accuracy: 0.8690 - val_loss: 0.3064 - val_accuracy: 0.8721\n",
            "Epoch 98/100\n",
            "32/32 [==============================] - 0s 2ms/step - loss: 0.3296 - accuracy: 0.8739 - val_loss: 0.3109 - val_accuracy: 0.8630\n",
            "Epoch 99/100\n",
            "32/32 [==============================] - 0s 2ms/step - loss: 0.2978 - accuracy: 0.8782 - val_loss: 0.3063 - val_accuracy: 0.8767\n",
            "Epoch 100/100\n",
            "32/32 [==============================] - 0s 2ms/step - loss: 0.3033 - accuracy: 0.8667 - val_loss: 0.3064 - val_accuracy: 0.8813\n"
          ],
          "name": "stdout"
        }
      ]
    },
    {
      "cell_type": "markdown",
      "metadata": {
        "id": "7awxeMiwNGTX"
      },
      "source": [
        "### Evaluate the model and visualize the results -"
      ]
    },
    {
      "cell_type": "code",
      "metadata": {
        "colab": {
          "base_uri": "https://localhost:8080/",
          "height": 590
        },
        "id": "pjeh2LCLNIEy",
        "outputId": "e41ff336-85bd-43b0-ee52-58f65fd9d7d4"
      },
      "source": [
        "model.evaluate(X_test, Y_test)[1]\r\n",
        "\r\n",
        "plt.plot(hist.history['loss'])\r\n",
        "plt.plot(hist.history['val_loss'])\r\n",
        "plt.title('Model loss')\r\n",
        "plt.ylabel('Loss')\r\n",
        "plt.xlabel('Epoch')\r\n",
        "plt.legend(['Train', 'Val'], loc='upper right')\r\n",
        "plt.show()\r\n",
        "\r\n",
        "plt.plot(hist.history['accuracy'])\r\n",
        "plt.plot(hist.history['val_accuracy'])\r\n",
        "plt.title('Model accuracy')\r\n",
        "plt.ylabel('Accuracy')\r\n",
        "plt.xlabel('Epoch')\r\n",
        "plt.legend(['Train', 'Val'], loc='lower right')\r\n",
        "plt.show()"
      ],
      "execution_count": 22,
      "outputs": [
        {
          "output_type": "stream",
          "text": [
            "7/7 [==============================] - 0s 2ms/step - loss: 0.2161 - accuracy: 0.9224\n"
          ],
          "name": "stdout"
        },
        {
          "output_type": "display_data",
          "data": {
            "image/png": "[encoded data removed]",
            "text/plain": [
              "<Figure size 432x288 with 1 Axes>"
            ]
          },
          "metadata": {
            "tags": [],
            "needs_background": "light"
          }
        },
        {
          "output_type": "display_data",
          "data": {
            "image/png": "[encoded data removed]",
            "text/plain": [
              "<Figure size 432x288 with 1 Axes>"
            ]
          },
          "metadata": {
            "tags": [],
            "needs_background": "light"
          }
        }
      ]
    }
  ]
}