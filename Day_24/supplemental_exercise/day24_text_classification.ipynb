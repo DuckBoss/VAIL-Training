{
  "nbformat": 4,
  "nbformat_minor": 0,
  "metadata": {
    "colab": {
      "name": "day24_text_classification.ipynb",
      "provenance": [],
      "toc_visible": true
    },
    "kernelspec": {
      "name": "python3",
      "display_name": "Python 3"
    },
    "accelerator": "GPU"
  },
  "cells": [
    {
      "cell_type": "markdown",
      "metadata": {
        "id": "xbMj2ezRZ2Fv"
      },
      "source": [
        "### Import the required libraries -"
      ]
    },
    {
      "cell_type": "code",
      "metadata": {
        "id": "9SFHFZMrZ0uP"
      },
      "source": [
        "import numpy as np # linear algebra\r\n",
        "import pandas as pd # data processing, CSV file I/O (e.g. pd.read_csv)\r\n",
        "import matplotlib.pyplot as plt\r\n",
        "plt.style.use('ggplot')\r\n",
        "\r\n",
        "from sklearn.feature_extraction.text import CountVectorizer\r\n",
        "from sklearn.model_selection import train_test_split\r\n",
        "from sklearn.linear_model import LogisticRegression\r\n",
        "from sklearn.preprocessing import LabelEncoder\r\n",
        "from sklearn.preprocessing import OneHotEncoder\r\n",
        "from sklearn.model_selection import RandomizedSearchCV\r\n",
        "\r\n",
        "from keras.models import Sequential\r\n",
        "from keras import layers\r\n",
        "from keras.preprocessing.text import Tokenizer\r\n",
        "from keras.preprocessing.sequence import pad_sequences\r\n",
        "from keras.wrappers.scikit_learn import KerasClassifier\r\n",
        "\r\n",
        "import os"
      ],
      "execution_count": 3,
      "outputs": []
    },
    {
      "cell_type": "markdown",
      "metadata": {
        "id": "XN8ytvlQagOI"
      },
      "source": [
        "### Load the dataset -"
      ]
    },
    {
      "cell_type": "code",
      "metadata": {
        "colab": {
          "base_uri": "https://localhost:8080/"
        },
        "id": "KwnzFHn1aiUZ",
        "outputId": "1c154f87-916a-45fd-e5a4-8fd0dc6038de"
      },
      "source": [
        "import pandas as pd\r\n",
        "\r\n",
        "filepath_dict = {'yelp':   '/content/yelp_labelled.txt',\r\n",
        "                 'amazon': '/content/amazon_cells_labelled.txt',\r\n",
        "                 'imdb':   '/content/imdb_labelled.txt'}\r\n",
        "\r\n",
        "df_list = []\r\n",
        "for source, filepath in filepath_dict.items():\r\n",
        "    df = pd.read_csv(filepath, names=['sentence', 'label'], sep='\\t')\r\n",
        "    df['source'] = source  # Add another column filled with the source name\r\n",
        "    df_list.append(df)\r\n",
        "\r\n",
        "df = pd.concat(df_list)\r\n",
        "print(f\"{df.head()}\\n\\n{df.tail()}\")"
      ],
      "execution_count": 4,
      "outputs": [
        {
          "output_type": "stream",
          "text": [
            "                                            sentence  label source\n",
            "0                           Wow... Loved this place.      1   yelp\n",
            "1                                 Crust is not good.      0   yelp\n",
            "2          Not tasty and the texture was just nasty.      0   yelp\n",
            "3  Stopped by during the late May bank holiday of...      1   yelp\n",
            "4  The selection on the menu was great and so wer...      1   yelp\n",
            "\n",
            "                                              sentence  label source\n",
            "743  I just got bored watching Jessice Lange take h...      0   imdb\n",
            "744  Unfortunately, any virtue in this film's produ...      0   imdb\n",
            "745                   In a word, it is embarrassing.        0   imdb\n",
            "746                               Exceptionally bad!        0   imdb\n",
            "747  All in all its an insult to one's intelligence...      0   imdb\n"
          ],
          "name": "stdout"
        }
      ]
    },
    {
      "cell_type": "markdown",
      "metadata": {
        "id": "JBDmb7x0bP6_"
      },
      "source": [
        "### Split the data into training/testing sets -"
      ]
    },
    {
      "cell_type": "code",
      "metadata": {
        "colab": {
          "base_uri": "https://localhost:8080/"
        },
        "id": "Abd0r4w4bRby",
        "outputId": "51d0a986-825a-4e36-be2a-8e061970d8f5"
      },
      "source": [
        "df_yelp = df[df['source'] == 'yelp']\r\n",
        "sentences = df_yelp['sentence'].values\r\n",
        "y = df_yelp['label'].values\r\n",
        "\r\n",
        "# Split the data into training/testing sets\r\n",
        "sentences_train, sentences_test, y_train, y_test = train_test_split(sentences, y, test_size=0.25, random_state=1000)\r\n",
        "\r\n",
        "# Tokenize the data\r\n",
        "tokenizer = Tokenizer(num_words=5000)\r\n",
        "tokenizer.fit_on_texts(sentences_train)\r\n",
        "\r\n",
        "X_train = tokenizer.texts_to_sequences(sentences_train)\r\n",
        "X_test = tokenizer.texts_to_sequences(sentences_test)\r\n",
        "\r\n",
        "vocab_size = len(tokenizer.word_index) + 1  # Adding 1 because of reserved 0 index\r\n",
        "\r\n",
        "print(sentences_train[2])\r\n",
        "print(X_train[2])\r\n",
        "for word in ['the', 'all','dishes']:\r\n",
        "    print(f'{word}: {tokenizer.word_index[word]}')\r\n",
        "\r\n",
        "# Pad the sequences\r\n",
        "maxlen = 100\r\n",
        "X_train = pad_sequences(X_train, padding='post', maxlen=maxlen)\r\n",
        "X_test = pad_sequences(X_test, padding='post', maxlen=maxlen)\r\n",
        "\r\n",
        "print(f\"\\n{X_train[0, :]}\")"
      ],
      "execution_count": 20,
      "outputs": [
        {
          "output_type": "stream",
          "text": [
            "Of all the dishes, the salmon was the best, but all were great.\n",
            "[11, 43, 1, 171, 1, 283, 3, 1, 47, 26, 43, 24, 22]\n",
            "the: 1\n",
            "all: 43\n",
            "dishes: 171\n",
            "\n",
            "[  1  10   3 282 739  25   8 208  30  64 459 230  13   1 124   5 231   8\n",
            "  58   5  67   0   0   0   0   0   0   0   0   0   0   0   0   0   0   0\n",
            "   0   0   0   0   0   0   0   0   0   0   0   0   0   0   0   0   0   0\n",
            "   0   0   0   0   0   0   0   0   0   0   0   0   0   0   0   0   0   0\n",
            "   0   0   0   0   0   0   0   0   0   0   0   0   0   0   0   0   0   0\n",
            "   0   0   0   0   0   0   0   0   0   0]\n"
          ],
          "name": "stdout"
        }
      ]
    },
    {
      "cell_type": "markdown",
      "metadata": {
        "id": "QtCIiy3Wb4Vd"
      },
      "source": [
        "### Define the model -"
      ]
    },
    {
      "cell_type": "code",
      "metadata": {
        "colab": {
          "base_uri": "https://localhost:8080/"
        },
        "id": "DvnjOpc_b5vv",
        "outputId": "1d2189ef-871e-4e55-ee5f-3fa1526cb896"
      },
      "source": [
        "embedding_dim = 100\r\n",
        "\r\n",
        "model = Sequential()\r\n",
        "model.add(layers.Embedding(vocab_size, embedding_dim, input_length=maxlen))\r\n",
        "model.add(layers.Conv1D(128, 5, activation='relu'))\r\n",
        "model.add(layers.GlobalMaxPooling1D())\r\n",
        "model.add(layers.Dense(10, activation='relu'))\r\n",
        "model.add(layers.Dense(1, activation='sigmoid'))\r\n",
        "model.compile(optimizer='adam',\r\n",
        "              loss='binary_crossentropy',\r\n",
        "              metrics=['accuracy'])\r\n",
        "model.summary()"
      ],
      "execution_count": 21,
      "outputs": [
        {
          "output_type": "stream",
          "text": [
            "Model: \"sequential_2\"\n",
            "_________________________________________________________________\n",
            "Layer (type)                 Output Shape              Param #   \n",
            "=================================================================\n",
            "embedding (Embedding)        (None, 100, 100)          174700    \n",
            "_________________________________________________________________\n",
            "conv1d (Conv1D)              (None, 96, 128)           64128     \n",
            "_________________________________________________________________\n",
            "global_max_pooling1d (Global (None, 128)               0         \n",
            "_________________________________________________________________\n",
            "dense_2 (Dense)              (None, 10)                1290      \n",
            "_________________________________________________________________\n",
            "dense_3 (Dense)              (None, 1)                 11        \n",
            "=================================================================\n",
            "Total params: 240,129\n",
            "Trainable params: 240,129\n",
            "Non-trainable params: 0\n",
            "_________________________________________________________________\n"
          ],
          "name": "stdout"
        }
      ]
    },
    {
      "cell_type": "markdown",
      "metadata": {
        "id": "ASAfvbjhb-Ol"
      },
      "source": [
        "### Train the model -"
      ]
    },
    {
      "cell_type": "code",
      "metadata": {
        "colab": {
          "base_uri": "https://localhost:8080/"
        },
        "id": "L3og_-aBb_gm",
        "outputId": "d7ebab75-5488-4c86-99c8-f8d2214596c4"
      },
      "source": [
        "history = model.fit(X_train, y_train,\r\n",
        "                    epochs=100,\r\n",
        "                    verbose=True,\r\n",
        "                    validation_data=(X_test, y_test),\r\n",
        "                    batch_size=10)"
      ],
      "execution_count": 22,
      "outputs": [
        {
          "output_type": "stream",
          "text": [
            "Epoch 1/100\n",
            "75/75 [==============================] - 31s 8ms/step - loss: 0.6912 - accuracy: 0.5306 - val_loss: 0.6683 - val_accuracy: 0.5920\n",
            "Epoch 2/100\n",
            "75/75 [==============================] - 0s 6ms/step - loss: 0.5735 - accuracy: 0.8436 - val_loss: 0.5146 - val_accuracy: 0.7240\n",
            "Epoch 3/100\n",
            "75/75 [==============================] - 0s 6ms/step - loss: 0.1984 - accuracy: 0.9422 - val_loss: 0.4692 - val_accuracy: 0.8200\n",
            "Epoch 4/100\n",
            "75/75 [==============================] - 0s 6ms/step - loss: 0.0407 - accuracy: 0.9939 - val_loss: 0.4733 - val_accuracy: 0.7960\n",
            "Epoch 5/100\n",
            "75/75 [==============================] - 0s 6ms/step - loss: 0.0109 - accuracy: 1.0000 - val_loss: 0.5415 - val_accuracy: 0.8160\n",
            "Epoch 6/100\n",
            "75/75 [==============================] - 0s 6ms/step - loss: 0.0040 - accuracy: 1.0000 - val_loss: 0.5484 - val_accuracy: 0.8040\n",
            "Epoch 7/100\n",
            "75/75 [==============================] - 0s 6ms/step - loss: 0.0026 - accuracy: 1.0000 - val_loss: 0.5794 - val_accuracy: 0.8200\n",
            "Epoch 8/100\n",
            "75/75 [==============================] - 0s 5ms/step - loss: 0.0015 - accuracy: 1.0000 - val_loss: 0.5959 - val_accuracy: 0.8160\n",
            "Epoch 9/100\n",
            "75/75 [==============================] - 0s 6ms/step - loss: 0.0011 - accuracy: 1.0000 - val_loss: 0.6110 - val_accuracy: 0.8120\n",
            "Epoch 10/100\n",
            "75/75 [==============================] - 0s 6ms/step - loss: 8.2082e-04 - accuracy: 1.0000 - val_loss: 0.6296 - val_accuracy: 0.8120\n",
            "Epoch 11/100\n",
            "75/75 [==============================] - 0s 6ms/step - loss: 7.0579e-04 - accuracy: 1.0000 - val_loss: 0.6437 - val_accuracy: 0.8120\n",
            "Epoch 12/100\n",
            "75/75 [==============================] - 0s 6ms/step - loss: 5.6414e-04 - accuracy: 1.0000 - val_loss: 0.6544 - val_accuracy: 0.8120\n",
            "Epoch 13/100\n",
            "75/75 [==============================] - 0s 6ms/step - loss: 4.4941e-04 - accuracy: 1.0000 - val_loss: 0.6698 - val_accuracy: 0.8120\n",
            "Epoch 14/100\n",
            "75/75 [==============================] - 0s 6ms/step - loss: 3.7028e-04 - accuracy: 1.0000 - val_loss: 0.6792 - val_accuracy: 0.8080\n",
            "Epoch 15/100\n",
            "75/75 [==============================] - 0s 5ms/step - loss: 2.8722e-04 - accuracy: 1.0000 - val_loss: 0.6907 - val_accuracy: 0.8080\n",
            "Epoch 16/100\n",
            "75/75 [==============================] - 0s 6ms/step - loss: 2.8940e-04 - accuracy: 1.0000 - val_loss: 0.7022 - val_accuracy: 0.8040\n",
            "Epoch 17/100\n",
            "75/75 [==============================] - 0s 5ms/step - loss: 2.4286e-04 - accuracy: 1.0000 - val_loss: 0.7150 - val_accuracy: 0.8120\n",
            "Epoch 18/100\n",
            "75/75 [==============================] - 0s 6ms/step - loss: 1.9673e-04 - accuracy: 1.0000 - val_loss: 0.7227 - val_accuracy: 0.8040\n",
            "Epoch 19/100\n",
            "75/75 [==============================] - 0s 6ms/step - loss: 2.1419e-04 - accuracy: 1.0000 - val_loss: 0.7319 - val_accuracy: 0.8080\n",
            "Epoch 20/100\n",
            "75/75 [==============================] - 0s 6ms/step - loss: 1.8625e-04 - accuracy: 1.0000 - val_loss: 0.7401 - val_accuracy: 0.8040\n",
            "Epoch 21/100\n",
            "75/75 [==============================] - 0s 6ms/step - loss: 1.4764e-04 - accuracy: 1.0000 - val_loss: 0.7479 - val_accuracy: 0.8080\n",
            "Epoch 22/100\n",
            "75/75 [==============================] - 0s 6ms/step - loss: 1.2572e-04 - accuracy: 1.0000 - val_loss: 0.7574 - val_accuracy: 0.8080\n",
            "Epoch 23/100\n",
            "75/75 [==============================] - 0s 6ms/step - loss: 1.1487e-04 - accuracy: 1.0000 - val_loss: 0.7647 - val_accuracy: 0.8080\n",
            "Epoch 24/100\n",
            "75/75 [==============================] - 0s 6ms/step - loss: 1.0853e-04 - accuracy: 1.0000 - val_loss: 0.7721 - val_accuracy: 0.8080\n",
            "Epoch 25/100\n",
            "75/75 [==============================] - 0s 6ms/step - loss: 9.3130e-05 - accuracy: 1.0000 - val_loss: 0.7774 - val_accuracy: 0.8080\n",
            "Epoch 26/100\n",
            "75/75 [==============================] - 0s 5ms/step - loss: 8.6387e-05 - accuracy: 1.0000 - val_loss: 0.7871 - val_accuracy: 0.8080\n",
            "Epoch 27/100\n",
            "75/75 [==============================] - 0s 6ms/step - loss: 8.7688e-05 - accuracy: 1.0000 - val_loss: 0.7936 - val_accuracy: 0.8080\n",
            "Epoch 28/100\n",
            "75/75 [==============================] - 0s 6ms/step - loss: 6.5871e-05 - accuracy: 1.0000 - val_loss: 0.7984 - val_accuracy: 0.8080\n",
            "Epoch 29/100\n",
            "75/75 [==============================] - 0s 6ms/step - loss: 6.8927e-05 - accuracy: 1.0000 - val_loss: 0.8067 - val_accuracy: 0.8080\n",
            "Epoch 30/100\n",
            "75/75 [==============================] - 0s 6ms/step - loss: 6.3536e-05 - accuracy: 1.0000 - val_loss: 0.8141 - val_accuracy: 0.8080\n",
            "Epoch 31/100\n",
            "75/75 [==============================] - 0s 6ms/step - loss: 5.7843e-05 - accuracy: 1.0000 - val_loss: 0.8188 - val_accuracy: 0.8080\n",
            "Epoch 32/100\n",
            "75/75 [==============================] - 0s 6ms/step - loss: 5.3492e-05 - accuracy: 1.0000 - val_loss: 0.8261 - val_accuracy: 0.8080\n",
            "Epoch 33/100\n",
            "75/75 [==============================] - 0s 6ms/step - loss: 5.0877e-05 - accuracy: 1.0000 - val_loss: 0.8326 - val_accuracy: 0.8080\n",
            "Epoch 34/100\n",
            "75/75 [==============================] - 0s 6ms/step - loss: 3.9898e-05 - accuracy: 1.0000 - val_loss: 0.8385 - val_accuracy: 0.8080\n",
            "Epoch 35/100\n",
            "75/75 [==============================] - 0s 6ms/step - loss: 4.0221e-05 - accuracy: 1.0000 - val_loss: 0.8437 - val_accuracy: 0.8080\n",
            "Epoch 36/100\n",
            "75/75 [==============================] - 0s 6ms/step - loss: 3.6854e-05 - accuracy: 1.0000 - val_loss: 0.8504 - val_accuracy: 0.8080\n",
            "Epoch 37/100\n",
            "75/75 [==============================] - 0s 6ms/step - loss: 3.3075e-05 - accuracy: 1.0000 - val_loss: 0.8542 - val_accuracy: 0.8080\n",
            "Epoch 38/100\n",
            "75/75 [==============================] - 0s 6ms/step - loss: 3.1242e-05 - accuracy: 1.0000 - val_loss: 0.8605 - val_accuracy: 0.8080\n",
            "Epoch 39/100\n",
            "75/75 [==============================] - 0s 6ms/step - loss: 3.2474e-05 - accuracy: 1.0000 - val_loss: 0.8672 - val_accuracy: 0.8080\n",
            "Epoch 40/100\n",
            "75/75 [==============================] - 0s 6ms/step - loss: 2.8734e-05 - accuracy: 1.0000 - val_loss: 0.8722 - val_accuracy: 0.8080\n",
            "Epoch 41/100\n",
            "75/75 [==============================] - 0s 6ms/step - loss: 2.6455e-05 - accuracy: 1.0000 - val_loss: 0.8773 - val_accuracy: 0.8080\n",
            "Epoch 42/100\n",
            "75/75 [==============================] - 0s 6ms/step - loss: 2.4306e-05 - accuracy: 1.0000 - val_loss: 0.8826 - val_accuracy: 0.8080\n",
            "Epoch 43/100\n",
            "75/75 [==============================] - 0s 6ms/step - loss: 2.2794e-05 - accuracy: 1.0000 - val_loss: 0.8883 - val_accuracy: 0.8080\n",
            "Epoch 44/100\n",
            "75/75 [==============================] - 0s 6ms/step - loss: 2.3072e-05 - accuracy: 1.0000 - val_loss: 0.8920 - val_accuracy: 0.8080\n",
            "Epoch 45/100\n",
            "75/75 [==============================] - 0s 6ms/step - loss: 2.0857e-05 - accuracy: 1.0000 - val_loss: 0.8968 - val_accuracy: 0.8080\n",
            "Epoch 46/100\n",
            "75/75 [==============================] - 0s 6ms/step - loss: 1.8559e-05 - accuracy: 1.0000 - val_loss: 0.9018 - val_accuracy: 0.8040\n",
            "Epoch 47/100\n",
            "75/75 [==============================] - 0s 6ms/step - loss: 1.7729e-05 - accuracy: 1.0000 - val_loss: 0.9083 - val_accuracy: 0.8040\n",
            "Epoch 48/100\n",
            "75/75 [==============================] - 0s 6ms/step - loss: 1.8001e-05 - accuracy: 1.0000 - val_loss: 0.9116 - val_accuracy: 0.8040\n",
            "Epoch 49/100\n",
            "75/75 [==============================] - 0s 6ms/step - loss: 1.6668e-05 - accuracy: 1.0000 - val_loss: 0.9174 - val_accuracy: 0.8040\n",
            "Epoch 50/100\n",
            "75/75 [==============================] - 0s 6ms/step - loss: 1.6401e-05 - accuracy: 1.0000 - val_loss: 0.9217 - val_accuracy: 0.8080\n",
            "Epoch 51/100\n",
            "75/75 [==============================] - 0s 6ms/step - loss: 1.5278e-05 - accuracy: 1.0000 - val_loss: 0.9276 - val_accuracy: 0.8040\n",
            "Epoch 52/100\n",
            "75/75 [==============================] - 0s 6ms/step - loss: 1.6010e-05 - accuracy: 1.0000 - val_loss: 0.9319 - val_accuracy: 0.8080\n",
            "Epoch 53/100\n",
            "75/75 [==============================] - 0s 6ms/step - loss: 1.3514e-05 - accuracy: 1.0000 - val_loss: 0.9361 - val_accuracy: 0.8080\n",
            "Epoch 54/100\n",
            "75/75 [==============================] - 0s 6ms/step - loss: 1.4431e-05 - accuracy: 1.0000 - val_loss: 0.9404 - val_accuracy: 0.8080\n",
            "Epoch 55/100\n",
            "75/75 [==============================] - 0s 6ms/step - loss: 1.0377e-05 - accuracy: 1.0000 - val_loss: 0.9449 - val_accuracy: 0.8080\n",
            "Epoch 56/100\n",
            "75/75 [==============================] - 0s 6ms/step - loss: 1.0542e-05 - accuracy: 1.0000 - val_loss: 0.9496 - val_accuracy: 0.8080\n",
            "Epoch 57/100\n",
            "75/75 [==============================] - 0s 6ms/step - loss: 1.0670e-05 - accuracy: 1.0000 - val_loss: 0.9539 - val_accuracy: 0.8080\n",
            "Epoch 58/100\n",
            "75/75 [==============================] - 0s 6ms/step - loss: 1.0617e-05 - accuracy: 1.0000 - val_loss: 0.9592 - val_accuracy: 0.8080\n",
            "Epoch 59/100\n",
            "75/75 [==============================] - 0s 6ms/step - loss: 9.2057e-06 - accuracy: 1.0000 - val_loss: 0.9632 - val_accuracy: 0.8080\n",
            "Epoch 60/100\n",
            "75/75 [==============================] - 0s 6ms/step - loss: 7.8971e-06 - accuracy: 1.0000 - val_loss: 0.9678 - val_accuracy: 0.8080\n",
            "Epoch 61/100\n",
            "75/75 [==============================] - 0s 6ms/step - loss: 8.5151e-06 - accuracy: 1.0000 - val_loss: 0.9712 - val_accuracy: 0.8120\n",
            "Epoch 62/100\n",
            "75/75 [==============================] - 0s 6ms/step - loss: 7.9930e-06 - accuracy: 1.0000 - val_loss: 0.9760 - val_accuracy: 0.8080\n",
            "Epoch 63/100\n",
            "75/75 [==============================] - 0s 6ms/step - loss: 8.3823e-06 - accuracy: 1.0000 - val_loss: 0.9808 - val_accuracy: 0.8080\n",
            "Epoch 64/100\n",
            "75/75 [==============================] - 0s 6ms/step - loss: 6.6991e-06 - accuracy: 1.0000 - val_loss: 0.9845 - val_accuracy: 0.8080\n",
            "Epoch 65/100\n",
            "75/75 [==============================] - 0s 6ms/step - loss: 6.7443e-06 - accuracy: 1.0000 - val_loss: 0.9880 - val_accuracy: 0.8080\n",
            "Epoch 66/100\n",
            "75/75 [==============================] - 0s 6ms/step - loss: 6.4673e-06 - accuracy: 1.0000 - val_loss: 0.9931 - val_accuracy: 0.8080\n",
            "Epoch 67/100\n",
            "75/75 [==============================] - 0s 6ms/step - loss: 5.7873e-06 - accuracy: 1.0000 - val_loss: 0.9970 - val_accuracy: 0.8080\n",
            "Epoch 68/100\n",
            "75/75 [==============================] - 0s 6ms/step - loss: 5.6042e-06 - accuracy: 1.0000 - val_loss: 1.0018 - val_accuracy: 0.8080\n",
            "Epoch 69/100\n",
            "75/75 [==============================] - 0s 6ms/step - loss: 5.2735e-06 - accuracy: 1.0000 - val_loss: 1.0057 - val_accuracy: 0.8080\n",
            "Epoch 70/100\n",
            "75/75 [==============================] - 0s 6ms/step - loss: 4.5582e-06 - accuracy: 1.0000 - val_loss: 1.0094 - val_accuracy: 0.8080\n",
            "Epoch 71/100\n",
            "75/75 [==============================] - 0s 6ms/step - loss: 5.1493e-06 - accuracy: 1.0000 - val_loss: 1.0142 - val_accuracy: 0.8040\n",
            "Epoch 72/100\n",
            "75/75 [==============================] - 1s 7ms/step - loss: 4.9817e-06 - accuracy: 1.0000 - val_loss: 1.0184 - val_accuracy: 0.8040\n",
            "Epoch 73/100\n",
            "75/75 [==============================] - 1s 7ms/step - loss: 4.7786e-06 - accuracy: 1.0000 - val_loss: 1.0226 - val_accuracy: 0.8080\n",
            "Epoch 74/100\n",
            "75/75 [==============================] - 0s 7ms/step - loss: 4.1076e-06 - accuracy: 1.0000 - val_loss: 1.0271 - val_accuracy: 0.8080\n",
            "Epoch 75/100\n",
            "75/75 [==============================] - 0s 7ms/step - loss: 4.0098e-06 - accuracy: 1.0000 - val_loss: 1.0301 - val_accuracy: 0.8080\n",
            "Epoch 76/100\n",
            "75/75 [==============================] - 0s 7ms/step - loss: 3.9816e-06 - accuracy: 1.0000 - val_loss: 1.0340 - val_accuracy: 0.8080\n",
            "Epoch 77/100\n",
            "75/75 [==============================] - 0s 6ms/step - loss: 3.4041e-06 - accuracy: 1.0000 - val_loss: 1.0393 - val_accuracy: 0.8080\n",
            "Epoch 78/100\n",
            "75/75 [==============================] - 0s 7ms/step - loss: 3.4946e-06 - accuracy: 1.0000 - val_loss: 1.0428 - val_accuracy: 0.8080\n",
            "Epoch 79/100\n",
            "75/75 [==============================] - 1s 7ms/step - loss: 3.3491e-06 - accuracy: 1.0000 - val_loss: 1.0468 - val_accuracy: 0.8080\n",
            "Epoch 80/100\n",
            "75/75 [==============================] - 1s 7ms/step - loss: 3.2015e-06 - accuracy: 1.0000 - val_loss: 1.0505 - val_accuracy: 0.8080\n",
            "Epoch 81/100\n",
            "75/75 [==============================] - 1s 7ms/step - loss: 3.0673e-06 - accuracy: 1.0000 - val_loss: 1.0547 - val_accuracy: 0.8040\n",
            "Epoch 82/100\n",
            "75/75 [==============================] - 0s 6ms/step - loss: 3.1344e-06 - accuracy: 1.0000 - val_loss: 1.0589 - val_accuracy: 0.8040\n",
            "Epoch 83/100\n",
            "75/75 [==============================] - 0s 6ms/step - loss: 2.8258e-06 - accuracy: 1.0000 - val_loss: 1.0626 - val_accuracy: 0.8040\n",
            "Epoch 84/100\n",
            "75/75 [==============================] - 0s 7ms/step - loss: 2.7834e-06 - accuracy: 1.0000 - val_loss: 1.0677 - val_accuracy: 0.8040\n",
            "Epoch 85/100\n",
            "75/75 [==============================] - 0s 6ms/step - loss: 2.7760e-06 - accuracy: 1.0000 - val_loss: 1.0712 - val_accuracy: 0.8040\n",
            "Epoch 86/100\n",
            "75/75 [==============================] - 0s 6ms/step - loss: 2.5887e-06 - accuracy: 1.0000 - val_loss: 1.0753 - val_accuracy: 0.8040\n",
            "Epoch 87/100\n",
            "75/75 [==============================] - 0s 7ms/step - loss: 2.2179e-06 - accuracy: 1.0000 - val_loss: 1.0788 - val_accuracy: 0.8040\n",
            "Epoch 88/100\n",
            "75/75 [==============================] - 1s 7ms/step - loss: 1.9342e-06 - accuracy: 1.0000 - val_loss: 1.0831 - val_accuracy: 0.8040\n",
            "Epoch 89/100\n",
            "75/75 [==============================] - 1s 7ms/step - loss: 2.0049e-06 - accuracy: 1.0000 - val_loss: 1.0872 - val_accuracy: 0.8040\n",
            "Epoch 90/100\n",
            "75/75 [==============================] - 0s 6ms/step - loss: 1.7583e-06 - accuracy: 1.0000 - val_loss: 1.0898 - val_accuracy: 0.8040\n",
            "Epoch 91/100\n",
            "75/75 [==============================] - 0s 6ms/step - loss: 1.9241e-06 - accuracy: 1.0000 - val_loss: 1.0950 - val_accuracy: 0.8040\n",
            "Epoch 92/100\n",
            "75/75 [==============================] - 1s 7ms/step - loss: 1.9670e-06 - accuracy: 1.0000 - val_loss: 1.0979 - val_accuracy: 0.8040\n",
            "Epoch 93/100\n",
            "75/75 [==============================] - 0s 6ms/step - loss: 1.4579e-06 - accuracy: 1.0000 - val_loss: 1.1018 - val_accuracy: 0.8040\n",
            "Epoch 94/100\n",
            "75/75 [==============================] - 0s 6ms/step - loss: 1.6979e-06 - accuracy: 1.0000 - val_loss: 1.1064 - val_accuracy: 0.8040\n",
            "Epoch 95/100\n",
            "75/75 [==============================] - 0s 6ms/step - loss: 1.4389e-06 - accuracy: 1.0000 - val_loss: 1.1105 - val_accuracy: 0.8040\n",
            "Epoch 96/100\n",
            "75/75 [==============================] - 0s 6ms/step - loss: 1.4188e-06 - accuracy: 1.0000 - val_loss: 1.1143 - val_accuracy: 0.8040\n",
            "Epoch 97/100\n",
            "75/75 [==============================] - 0s 6ms/step - loss: 1.5490e-06 - accuracy: 1.0000 - val_loss: 1.1181 - val_accuracy: 0.8040\n",
            "Epoch 98/100\n",
            "75/75 [==============================] - 0s 6ms/step - loss: 1.4015e-06 - accuracy: 1.0000 - val_loss: 1.1219 - val_accuracy: 0.8040\n",
            "Epoch 99/100\n",
            "75/75 [==============================] - 0s 6ms/step - loss: 1.3043e-06 - accuracy: 1.0000 - val_loss: 1.1253 - val_accuracy: 0.8040\n",
            "Epoch 100/100\n",
            "75/75 [==============================] - 0s 6ms/step - loss: 1.1976e-06 - accuracy: 1.0000 - val_loss: 1.1289 - val_accuracy: 0.8040\n"
          ],
          "name": "stdout"
        }
      ]
    },
    {
      "cell_type": "markdown",
      "metadata": {
        "id": "UmS0PG3FcZMF"
      },
      "source": [
        "### Evaluate and visualize the model -"
      ]
    },
    {
      "cell_type": "code",
      "metadata": {
        "colab": {
          "base_uri": "https://localhost:8080/",
          "height": 371
        },
        "id": "sweEwQFZcZi8",
        "outputId": "b7271f40-2cb9-48f6-bf0b-8431088b57d8"
      },
      "source": [
        "def plot_history(history):\r\n",
        "    acc = history.history['accuracy']\r\n",
        "    val_acc = history.history['val_accuracy']\r\n",
        "    loss = history.history['loss']\r\n",
        "    val_loss = history.history['val_loss']\r\n",
        "    x = range(1, len(acc) + 1)\r\n",
        "\r\n",
        "    plt.figure(figsize=(12, 5))\r\n",
        "    plt.subplot(1, 2, 1)\r\n",
        "    plt.plot(x, acc, 'b', label='Training acc')\r\n",
        "    plt.plot(x, val_acc, 'r', label='Validation acc')\r\n",
        "    plt.title('Training and validation accuracy')\r\n",
        "    plt.legend()\r\n",
        "    plt.subplot(1, 2, 2)\r\n",
        "    plt.plot(x, loss, 'b', label='Training loss')\r\n",
        "    plt.plot(x, val_loss, 'r', label='Validation loss')\r\n",
        "    plt.title('Training and validation loss')\r\n",
        "    plt.legend()\r\n",
        "\r\n",
        "\r\n",
        "loss, accuracy = model.evaluate(X_train, y_train, verbose=False)\r\n",
        "print(\"Training Accuracy: {:.4f}\".format(accuracy))\r\n",
        "loss, accuracy = model.evaluate(X_test, y_test, verbose=False)\r\n",
        "print(\"Testing Accuracy:  {:.4f}\".format(accuracy))\r\n",
        "plot_history(history)"
      ],
      "execution_count": 23,
      "outputs": [
        {
          "output_type": "stream",
          "text": [
            "Training Accuracy: 1.0000\n",
            "Testing Accuracy:  0.8040\n"
          ],
          "name": "stdout"
        },
        {
          "output_type": "display_data",
          "data": {
            "image/png": "[encoded data removed]",
            "text/plain": [
              "<Figure size 864x360 with 2 Axes>"
            ]
          },
          "metadata": {
            "tags": []
          }
        }
      ]
    }
  ]
}