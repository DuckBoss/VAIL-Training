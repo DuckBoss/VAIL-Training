{
  "nbformat": 4,
  "nbformat_minor": 0,
  "metadata": {
    "colab": {
      "name": "day24_emotion_analyzer.ipynb",
      "provenance": [],
      "collapsed_sections": []
    },
    "kernelspec": {
      "name": "python3",
      "display_name": "Python 3"
    }
  },
  "cells": [
    {
      "cell_type": "markdown",
      "metadata": {
        "id": "80HryyapXNwN"
      },
      "source": [
        "### Import required libraries -"
      ]
    },
    {
      "cell_type": "code",
      "metadata": {
        "id": "qxjzWGt9KIr_"
      },
      "source": [
        "import librosa\r\n",
        "import glob \r\n",
        "import librosa.display\r\n",
        "import numpy as np\r\n",
        "import pandas as pd\r\n",
        "import matplotlib.pyplot as plt\r\n",
        "import tensorflow as tf\r\n",
        "from matplotlib.pyplot import specgram\r\n",
        "import tensorflow.keras\r\n",
        "from tensorflow.keras.models import load_model\r\n",
        "from tensorflow.keras.optimizers import RMSprop\r\n",
        "from sklearn.metrics import confusion_matrix\r\n",
        "from sklearn.preprocessing import LabelEncoder\r\n",
        "import os"
      ],
      "execution_count": 80,
      "outputs": []
    },
    {
      "cell_type": "markdown",
      "metadata": {
        "id": "q2Cj945gXPq-"
      },
      "source": [
        "### Import the testing data (wav file) -"
      ]
    },
    {
      "cell_type": "code",
      "metadata": {
        "colab": {
          "base_uri": "https://localhost:8080/",
          "height": 351
        },
        "id": "xPJ88mYlKRE-",
        "outputId": "87144c4b-bb6b-4b36-b8a8-21a593bf8ca0"
      },
      "source": [
        "data, sampling_rate = librosa.load('/content/output10.wav')\r\n",
        "\r\n",
        "plt.figure(figsize=(15, 5))\r\n",
        "librosa.display.waveplot(data, sr=sampling_rate)"
      ],
      "execution_count": 81,
      "outputs": [
        {
          "output_type": "execute_result",
          "data": {
            "text/plain": [
              "<matplotlib.collections.PolyCollection at 0x7fb786173450>"
            ]
          },
          "metadata": {
            "tags": []
          },
          "execution_count": 81
        },
        {
          "output_type": "display_data",
          "data": {
            "image/png": "[encoded data removed]",
            "text/plain": [
              "<Figure size 1080x360 with 1 Axes>"
            ]
          },
          "metadata": {
            "tags": [],
            "needs_background": "light"
          }
        }
      ]
    },
    {
      "cell_type": "markdown",
      "metadata": {
        "id": "O9MDPliKXVnb"
      },
      "source": [
        "### Load the trained model -"
      ]
    },
    {
      "cell_type": "code",
      "metadata": {
        "colab": {
          "base_uri": "https://localhost:8080/"
        },
        "id": "HtQ1AHb3NAP8",
        "outputId": "e3adbe15-f738-4db0-94b5-70c5c10d328c"
      },
      "source": [
        "\r\n",
        "# Import the model from the h5 file\r\n",
        "# loaded_model = load_model('/content/Emotion_Voice_Detection_Model.h5')\r\n",
        "# loaded_model.summary()\r\n",
        "\r\n",
        "# loading json and creating model\r\n",
        "from tensorflow.keras.models import model_from_json\r\n",
        "with open('/content/model.json', 'r') as json_file:\r\n",
        "  loaded_model_json = json_file.read()\r\n",
        "loaded_model = model_from_json(loaded_model_json)\r\n",
        "# load weights into new model\r\n",
        "loaded_model.load_weights(\"/content/Emotion_Voice_Detection_Model.h5\")\r\n",
        "\r\n",
        "opt = RMSprop(lr=0.00001, decay=1e-6)\r\n",
        "loaded_model.compile(loss='categorical_crossentropy', optimizer=opt, metrics=['accuracy'])\r\n",
        "print(\"Loaded model from disk\")"
      ],
      "execution_count": 82,
      "outputs": [
        {
          "output_type": "stream",
          "text": [
            "Loaded model from disk\n"
          ],
          "name": "stdout"
        }
      ]
    },
    {
      "cell_type": "markdown",
      "metadata": {
        "id": "lrGlUZS_Xb2h"
      },
      "source": [
        "### Read and prepare audio data from the file -"
      ]
    },
    {
      "cell_type": "code",
      "metadata": {
        "colab": {
          "base_uri": "https://localhost:8080/"
        },
        "id": "5e8M2DM0Nlcf",
        "outputId": "a1248c6e-a9e1-4b07-b04e-829e05e02b7a"
      },
      "source": [
        "#livedf= pd.DataFrame(columns=['feature'])\r\n",
        "X, sample_rate = librosa.load('/content/output10.wav', res_type='kaiser_fast', duration=2.5,sr=22050*2,offset=0.5)\r\n",
        "sample_rate = np.array(sample_rate)\r\n",
        "mfccs = np.mean(librosa.feature.mfcc(y=X, sr=sample_rate, n_mfcc=13),axis=0)\r\n",
        "featurelive = mfccs\r\n",
        "livedf2 = pd.DataFrame(data=featurelive)\r\n",
        "livedf2 = livedf2.stack().to_frame().T\r\n",
        "\r\n",
        "print(livedf2)"
      ],
      "execution_count": 83,
      "outputs": [
        {
          "output_type": "stream",
          "text": [
            "         0          1          2    ...        213        214        215\n",
            "           0          0          0  ...          0          0          0\n",
            "0 -18.203562 -21.471832 -22.522209  ... -22.579805 -22.314659 -21.552433\n",
            "\n",
            "[1 rows x 216 columns]\n"
          ],
          "name": "stdout"
        }
      ]
    },
    {
      "cell_type": "markdown",
      "metadata": {
        "id": "bKJtxxiHXhsc"
      },
      "source": [
        "### Make a prediction -"
      ]
    },
    {
      "cell_type": "code",
      "metadata": {
        "colab": {
          "base_uri": "https://localhost:8080/"
        },
        "id": "15dYMsHlUzPG",
        "outputId": "f2aaa8e1-9ed4-4b12-aedd-246fcf3032d7"
      },
      "source": [
        "twodim= np.expand_dims(livedf2, axis=2)\r\n",
        "livepreds = loaded_model.predict(twodim, \r\n",
        "                         batch_size=32, \r\n",
        "                         verbose=1)\r\n",
        "livepreds"
      ],
      "execution_count": 84,
      "outputs": [
        {
          "output_type": "stream",
          "text": [
            "1/1 [==============================] - 0s 113ms/step\n"
          ],
          "name": "stdout"
        },
        {
          "output_type": "execute_result",
          "data": {
            "text/plain": [
              "array([[9.24087871e-22, 0.00000000e+00, 3.62410527e-26, 1.30689175e-36,\n",
              "        4.47260830e-28, 1.00000000e+00, 1.80201516e-30, 2.76888791e-27,\n",
              "        3.62224449e-23, 1.67395368e-11]], dtype=float32)"
            ]
          },
          "metadata": {
            "tags": []
          },
          "execution_count": 84
        }
      ]
    },
    {
      "cell_type": "markdown",
      "metadata": {
        "id": "csdXe_kbXs6j"
      },
      "source": [
        "### Convert the prediction into a readable format -"
      ]
    },
    {
      "cell_type": "code",
      "metadata": {
        "colab": {
          "base_uri": "https://localhost:8080/"
        },
        "id": "FnWvva_TU03B",
        "outputId": "4d1bf1ba-5c8c-4657-d381-43b65c865f05"
      },
      "source": [
        "prediction_classes = [\"female_angry\", \"female_calm\", \"female_fearful\", \"female_happy\", \"female_sad\", \"male_angry\", \"male_calm\", \"male_fearful\", \"male_happy\", \"male_sad\"]\r\n",
        "\r\n",
        "livepreds1=livepreds.argmax(axis=1)\r\n",
        "liveabc = livepreds1.astype(int).flatten()\r\n",
        "print(f\"Predicted emotion: {prediction_classes[liveabc[0]]}\")"
      ],
      "execution_count": 85,
      "outputs": [
        {
          "output_type": "stream",
          "text": [
            "Predicted emotion: male_angry\n"
          ],
          "name": "stdout"
        }
      ]
    }
  ]
}