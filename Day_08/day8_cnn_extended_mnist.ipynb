{
  "nbformat": 4,
  "nbformat_minor": 0,
  "metadata": {
    "colab": {
      "name": "day8_cnn_extended_mnist.ipynb",
      "provenance": [],
      "collapsed_sections": [],
      "toc_visible": true
    },
    "kernelspec": {
      "name": "python3",
      "display_name": "Python 3"
    },
    "accelerator": "GPU"
  },
  "cells": [
    {
      "cell_type": "markdown",
      "metadata": {
        "id": "PxbbJSCR89zl"
      },
      "source": [
        "### All References -\r\n",
        "\r\n",
        "1. one-hot-encoding explanation: https://www.machinecurve.com/index.php/2020/11/24/one-hot-encoding-for-machine-learning-with-tensorflow-and-keras/\r\n",
        "2. importing mnist data in tensorflow: https://medium.com/the-data-science-publication/how-to-import-the-mnist-dataset-using-tensorflow-a972322991a6"
      ]
    },
    {
      "cell_type": "markdown",
      "metadata": {
        "id": "Deq0h0U5wuC-"
      },
      "source": [
        "### Import the required libraries -"
      ]
    },
    {
      "cell_type": "code",
      "metadata": {
        "colab": {
          "base_uri": "https://localhost:8080/"
        },
        "id": "IDRDx554wrcz",
        "outputId": "8ae60559-fb99-484e-f509-a495ad834828"
      },
      "source": [
        "import numpy as np # linear algebra\r\n",
        "import pandas as pd # data processing, CSV file I/O (e.g. pd.read_csv)\r\n",
        "import seaborn as sns\r\n",
        "import matplotlib.pyplot as plt\r\n",
        "# import warnings\r\n",
        "import warnings\r\n",
        "# filter warnings\r\n",
        "warnings.filterwarnings('ignore')\r\n",
        "import os\r\n",
        "\r\n",
        "\r\n",
        "print(\"Imported libraries!\")"
      ],
      "execution_count": 29,
      "outputs": [
        {
          "output_type": "stream",
          "text": [
            "Imported libraries!\n"
          ],
          "name": "stdout"
        }
      ]
    },
    {
      "cell_type": "markdown",
      "metadata": {
        "id": "towCLkPW5cDE"
      },
      "source": [
        "### Prepare the data -\r\n",
        "\r\n",
        "0.   Import the MNIST data from tensorflow.\r\n",
        "1.   Normalization: Make all images grayscale to improve speed.\r\n",
        "2.   Reshape: Reshape all images to 28x28x1 3D matrices.\r\n",
        "3.   Encode Labels: Encode the labels to one-hot-encoded vectors\r\n",
        "(one-hot-encoding reference: https://www.machinecurve.com/index.php/2020/11/24/one-hot-encoding-for-machine-learning-with-tensorflow-and-keras/)\r\n",
        "\r\n"
      ]
    },
    {
      "cell_type": "code",
      "metadata": {
        "colab": {
          "base_uri": "https://localhost:8080/",
          "height": 503
        },
        "id": "dCBF5M2Q92xW",
        "outputId": "1a6e20f2-c9ce-4ec5-d57c-c6084b57c791"
      },
      "source": [
        "from sklearn.model_selection import train_test_split\r\n",
        "from tensorflow.keras.datasets import mnist\r\n",
        "\r\n",
        "# Import MNIST dataset\r\n",
        "(trainX, trainY), (valX, valY) = mnist.load_data()\r\n",
        "\r\n",
        "# Normalization\r\n",
        "trainX, valX = trainX[..., np.newaxis]/255.0, valX[..., np.newaxis]/255.0\r\n",
        "print(f\"trainX normalized: {trainX.shape}\")\r\n",
        "print(f\"valX normalized: {valX.shape}\\n\")\r\n",
        "\r\n",
        "# Reshape\r\n",
        "print(\"Reshape:\")\r\n",
        "trainXOld = trainX.copy()\r\n",
        "trainX = trainX.reshape(-1, 28, 28, 1)\r\n",
        "print(f\"# trainX reshaped: {trainXOld.shape} => {trainX.shape}\")\r\n",
        "valXOld = valX.copy()\r\n",
        "valX = valX.reshape(-1, 28, 28, 1)\r\n",
        "print(f\"# valX reshaped: {valXOld.shape} => {valX.shape}\\n\")\r\n",
        "\r\n",
        "# Encode Labels\r\n",
        "# I am utilizing the keras integration from tensorflow instead of the keras library as shown in the CNN tutorial from the curriculum\r\n",
        "from tensorflow.keras.utils import to_categorical\r\n",
        "\r\n",
        "print(\"Encode Labels:\")\r\n",
        "trainY = to_categorical(trainY, num_classes=10)\r\n",
        "print(f\"# trainY encoded: {trainY.shape}\\n\")\r\n",
        "\r\n",
        "\r\n",
        "# Display example data as a plot\r\n",
        "print(f\"trainX shape: {trainX.shape}\")\r\n",
        "print(f\"valX shape: {valX.shape}\")\r\n",
        "print(f\"trainY shape: {trainY.shape}\")\r\n",
        "print(f\"valY shape: {valY.shape}\")\r\n",
        "plt.imshow(trainX[0,:,:,0], cmap='gray')\r\n",
        "plt.show()"
      ],
      "execution_count": 35,
      "outputs": [
        {
          "output_type": "stream",
          "text": [
            "trainX normalized: (60000, 28, 28, 1)\n",
            "valX normalized: (10000, 28, 28, 1)\n",
            "\n",
            "Reshape:\n",
            "# trainX reshaped: (60000, 28, 28, 1) => (60000, 28, 28, 1)\n",
            "# valX reshaped: (10000, 28, 28, 1) => (10000, 28, 28, 1)\n",
            "\n",
            "Encode Labels:\n",
            "# trainY encoded: (60000, 10)\n",
            "\n",
            "trainX shape: (60000, 28, 28, 1)\n",
            "valX shape: (10000, 28, 28, 1)\n",
            "trainY shape: (60000, 10)\n",
            "valY shape: (10000,)\n"
          ],
          "name": "stdout"
        },
        {
          "output_type": "display_data",
          "data": {
            "image/png": "[encoded data removed]",
            "text/plain": [
              "<Figure size 432x288 with 1 Axes>"
            ]
          },
          "metadata": {
            "tags": [],
            "needs_background": "light"
          }
        }
      ]
    },
    {
      "cell_type": "markdown",
      "metadata": {
        "id": "E9bCdOvhRbBu"
      },
      "source": [
        "### Split the dataset into training/testing -"
      ]
    },
    {
      "cell_type": "code",
      "metadata": {
        "colab": {
          "base_uri": "https://localhost:8080/",
          "height": 265
        },
        "id": "CJUtFxsMReD_",
        "outputId": "f3ae4700-8a2c-4a64-acd4-5c8db1d7f541"
      },
      "source": [
        "from sklearn.model_selection import train_test_split\r\n",
        "trainX, valX, trainY, valY = train_test_split(trainX, trainY, test_size = 0.1, random_state=2)\r\n",
        "\r\n",
        "# Display example data as a plot\r\n",
        "plt.imshow(trainX[5][:,:,0], cmap='gray')\r\n",
        "plt.show()"
      ],
      "execution_count": 39,
      "outputs": [
        {
          "output_type": "display_data",
          "data": {
            "image/png": "[encoded data removed]",
            "text/plain": [
              "<Figure size 432x288 with 1 Axes>"
            ]
          },
          "metadata": {
            "tags": [],
            "needs_background": "light"
          }
        }
      ]
    },
    {
      "cell_type": "markdown",
      "metadata": {
        "id": "ajNP2hix-P1d"
      },
      "source": [
        "### Create the CNN model -"
      ]
    },
    {
      "cell_type": "code",
      "metadata": {
        "colab": {
          "base_uri": "https://localhost:8080/"
        },
        "id": "iSDWzFZI-SyW",
        "outputId": "9bffb7a8-b935-41b1-e987-c45f940b6ea5"
      },
      "source": [
        "from sklearn.metrics import confusion_matrix\r\n",
        "import itertools\r\n",
        "\r\n",
        "from tensorflow.keras.utils import to_categorical\r\n",
        "from tensorflow.keras.models import Sequential\r\n",
        "from tensorflow.keras.layers import Dense, Dropout, Flatten, Conv2D, MaxPool2D\r\n",
        "from tensorflow.keras.optimizers import RMSprop,Adam\r\n",
        "from tensorflow.keras.preprocessing.image import ImageDataGenerator\r\n",
        "from tensorflow.keras.callbacks import ReduceLROnPlateau\r\n",
        "\r\n",
        "# Create the model base\r\n",
        "cnnModel = Sequential()\r\n",
        "# Add the layers\r\n",
        "cnnModel.add(Conv2D(filters = 8, kernel_size=(5,5), padding='Same', activation='relu', input_shape=(28, 28, 1)))\r\n",
        "cnnModel.add(MaxPool2D(pool_size=(2,2)))\r\n",
        "cnnModel.add(Dropout(0.25))\r\n",
        "cnnModel.add(Conv2D(filters=16, kernel_size=(3,3), padding='Same', activation='relu'))\r\n",
        "cnnModel.add(MaxPool2D(pool_size=(2,2), strides=(2,2)))\r\n",
        "cnnModel.add(Dropout(0.25))\r\n",
        "\r\n",
        "cnnModel.add(Flatten())\r\n",
        "cnnModel.add(Dense(256, activation='relu'))\r\n",
        "cnnModel.add(Dropout(0.5))\r\n",
        "cnnModel.add(Dense(10, activation='softmax'))\r\n",
        "\r\n",
        "# Set the optimizer\r\n",
        "cnnOptimizer = Adam(lr=0.001, beta_1=0.9, beta_2=0.999)\r\n",
        "\r\n",
        "# Compile the model\r\n",
        "cnnModel.compile(optimizer=cnnOptimizer, loss='categorical_crossentropy', metrics=['accuracy'])\r\n",
        "cnnModel.summary()"
      ],
      "execution_count": 40,
      "outputs": [
        {
          "output_type": "stream",
          "text": [
            "Model: \"sequential_6\"\n",
            "_________________________________________________________________\n",
            "Layer (type)                 Output Shape              Param #   \n",
            "=================================================================\n",
            "conv2d_12 (Conv2D)           (None, 28, 28, 8)         208       \n",
            "_________________________________________________________________\n",
            "max_pooling2d_12 (MaxPooling (None, 14, 14, 8)         0         \n",
            "_________________________________________________________________\n",
            "dropout_18 (Dropout)         (None, 14, 14, 8)         0         \n",
            "_________________________________________________________________\n",
            "conv2d_13 (Conv2D)           (None, 14, 14, 16)        1168      \n",
            "_________________________________________________________________\n",
            "max_pooling2d_13 (MaxPooling (None, 7, 7, 16)          0         \n",
            "_________________________________________________________________\n",
            "dropout_19 (Dropout)         (None, 7, 7, 16)          0         \n",
            "_________________________________________________________________\n",
            "flatten_6 (Flatten)          (None, 784)               0         \n",
            "_________________________________________________________________\n",
            "dense_12 (Dense)             (None, 256)               200960    \n",
            "_________________________________________________________________\n",
            "dropout_20 (Dropout)         (None, 256)               0         \n",
            "_________________________________________________________________\n",
            "dense_13 (Dense)             (None, 10)                2570      \n",
            "=================================================================\n",
            "Total params: 204,906\n",
            "Trainable params: 204,906\n",
            "Non-trainable params: 0\n",
            "_________________________________________________________________\n"
          ],
          "name": "stdout"
        }
      ]
    },
    {
      "cell_type": "markdown",
      "metadata": {
        "id": "fQJJhBB4Palt"
      },
      "source": [
        "### Fit the model -"
      ]
    },
    {
      "cell_type": "code",
      "metadata": {
        "colab": {
          "base_uri": "https://localhost:8080/"
        },
        "id": "OWB9sFlMPdD3",
        "outputId": "57adc5ab-ab1d-47c1-865a-105a4e8e6f0c"
      },
      "source": [
        "# Data augmentation to prevent overfitting\r\n",
        "datagen = ImageDataGenerator(\r\n",
        "    featurewise_center=False,\r\n",
        "    samplewise_center=False,\r\n",
        "    featurewise_std_normalization=False,\r\n",
        "    samplewise_std_normalization=False,\r\n",
        "    zca_whitening=False,\r\n",
        "    rotation_range=5,\r\n",
        "    zoom_range=0.1,\r\n",
        "    width_shift_range=0.1,\r\n",
        "    height_shift_range=0.1,\r\n",
        "    horizontal_flip=False,\r\n",
        "    vertical_flip=False\r\n",
        ")\r\n",
        "datagen.fit(trainX)\r\n",
        "\r\n",
        "# Fit the model\r\n",
        "cnnHistory = cnnModel.fit_generator(datagen.flow(trainX, trainY, batch_size=250), epochs=10, validation_data=(valX, valY), steps_per_epoch=trainX.shape[0] // 250)\r\n"
      ],
      "execution_count": 41,
      "outputs": [
        {
          "output_type": "stream",
          "text": [
            "Epoch 1/10\n",
            "157/157 [==============================] - 16s 57ms/step - loss: 1.5782 - accuracy: 0.4561 - val_loss: 0.2422 - val_accuracy: 0.9355\n",
            "Epoch 2/10\n",
            "157/157 [==============================] - 9s 59ms/step - loss: 0.5045 - accuracy: 0.8404 - val_loss: 0.1355 - val_accuracy: 0.9611\n",
            "Epoch 3/10\n",
            "157/157 [==============================] - 9s 57ms/step - loss: 0.3586 - accuracy: 0.8872 - val_loss: 0.1135 - val_accuracy: 0.9701\n",
            "Epoch 4/10\n",
            "157/157 [==============================] - 9s 56ms/step - loss: 0.2879 - accuracy: 0.9110 - val_loss: 0.0884 - val_accuracy: 0.9742\n",
            "Epoch 5/10\n",
            "157/157 [==============================] - 9s 56ms/step - loss: 0.2572 - accuracy: 0.9205 - val_loss: 0.0825 - val_accuracy: 0.9778\n",
            "Epoch 6/10\n",
            "157/157 [==============================] - 9s 55ms/step - loss: 0.2334 - accuracy: 0.9291 - val_loss: 0.0709 - val_accuracy: 0.9801\n",
            "Epoch 7/10\n",
            "157/157 [==============================] - 9s 57ms/step - loss: 0.2033 - accuracy: 0.9344 - val_loss: 0.0672 - val_accuracy: 0.9808\n",
            "Epoch 8/10\n",
            "157/157 [==============================] - 9s 57ms/step - loss: 0.1979 - accuracy: 0.9400 - val_loss: 0.0596 - val_accuracy: 0.9833\n",
            "Epoch 9/10\n",
            "157/157 [==============================] - 9s 56ms/step - loss: 0.1873 - accuracy: 0.9422 - val_loss: 0.0576 - val_accuracy: 0.9829\n",
            "Epoch 10/10\n",
            "157/157 [==============================] - 9s 55ms/step - loss: 0.1727 - accuracy: 0.9476 - val_loss: 0.0537 - val_accuracy: 0.9856\n"
          ],
          "name": "stdout"
        }
      ]
    },
    {
      "cell_type": "markdown",
      "metadata": {
        "id": "_Pz2zqDaAXpG"
      },
      "source": [
        "### Visualize the model -"
      ]
    },
    {
      "cell_type": "code",
      "metadata": {
        "colab": {
          "base_uri": "https://localhost:8080/",
          "height": 350
        },
        "id": "Emfv1U_mAZGQ",
        "outputId": "e390f5df-3fb2-468d-9614-ed8556766d7a"
      },
      "source": [
        "plt.figure(figsize=(5,5))\r\n",
        "plt.plot(cnnHistory.history['val_loss'], color='b', label='validation loss')\r\n",
        "plt.title('Test Loss')\r\n",
        "plt.xlabel('Number of Epochs')\r\n",
        "plt.ylabel('Loss')\r\n",
        "plt.legend()\r\n",
        "plt.show()"
      ],
      "execution_count": 42,
      "outputs": [
        {
          "output_type": "display_data",
          "data": {
            "image/png": "[encoded data removed]",
            "text/plain": [
              "<Figure size 360x360 with 1 Axes>"
            ]
          },
          "metadata": {
            "tags": [],
            "needs_background": "light"
          }
        }
      ]
    },
    {
      "cell_type": "markdown",
      "metadata": {
        "id": "upPZwOASK3TR"
      },
      "source": [
        "### Visualize the Confusion Matrix -"
      ]
    },
    {
      "cell_type": "code",
      "metadata": {
        "colab": {
          "base_uri": "https://localhost:8080/",
          "height": 513
        },
        "id": "n4O35bLdK6XU",
        "outputId": "364e659d-02ac-4e34-cef8-3e918a108ae5"
      },
      "source": [
        "# confusion matrix\r\n",
        "import seaborn as sns\r\n",
        "# Predict the values from the validation dataset\r\n",
        "predictY = cnnModel.predict(valX)\r\n",
        "# Convert predictions classes to one hot vectors \r\n",
        "predictYClasses = np.argmax(predictY,axis = 1) \r\n",
        "# Convert validation observations to one hot vectors\r\n",
        "trueY = np.argmax(valY,axis = 1) \r\n",
        "# compute the confusion matrix\r\n",
        "confusionMatrix = confusion_matrix(trueY, predictYClasses) \r\n",
        "# plot the confusion matrix\r\n",
        "f,ax = plt.subplots(figsize=(8, 8))\r\n",
        "sns.heatmap(confusionMatrix, annot=True, linewidths=0.01,cmap=\"Blues\",linecolor=\"gray\", fmt= '.1f',ax=ax)\r\n",
        "plt.xlabel(\"Predicted Label\")\r\n",
        "plt.ylabel(\"True Label\")\r\n",
        "plt.title(\"Confusion Matrix\")\r\n",
        "plt.show()"
      ],
      "execution_count": 43,
      "outputs": [
        {
          "output_type": "display_data",
          "data": {
            "image/png": "[encoded data removed]",
            "text/plain": [
              "<Figure size 576x576 with 2 Axes>"
            ]
          },
          "metadata": {
            "tags": [],
            "needs_background": "light"
          }
        }
      ]
    }
  ]
}