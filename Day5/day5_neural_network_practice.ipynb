{
  "nbformat": 4,
  "nbformat_minor": 0,
  "metadata": {
    "colab": {
      "name": "day5_neural_network_practice.ipynb",
      "provenance": [],
      "collapsed_sections": []
    },
    "kernelspec": {
      "name": "python3",
      "display_name": "Python 3"
    },
    "accelerator": "GPU"
  },
  "cells": [
    {
      "cell_type": "markdown",
      "metadata": {
        "id": "vRzLjNJBOkzQ"
      },
      "source": [
        "### All References -\r\n",
        "I still don't fully understand what the tensorflow functions are doing behind the scenes to generate the data that it does, so I used a lot of examples/references in an effort to learn as much as possible. I have listed all of these references below:\r\n",
        "\r\n",
        "\r\n",
        "1.   Dynamic json dataset file uploads: https://towardsdatascience.com/importing-data-to-google-colab-the-clean-way-5ceef9e9e3c8\r\n",
        "2.   Natural language processing youtube tutorial with TensorFlow/Keras: https://youtu.be/Y_hzMnRXjhI\r\n",
        "3.   Kaggles sarcasm LSTM reference: https://www.kaggle.com/yosrbali/sarcasm\r\n",
        "4.   Kaggle sarcasm Feed-Forward reference: https://www.kaggle.com/aaakk5/sarcasm-feedforward-nn-and-exploratory-analysis\r\n",
        "5.   Kaggle sarcasm notebook (specifically the model testing cell at the end) reference: https://www.kaggle.com/abhinavschwarz/sarcasm-detection-86-accuracy\r\n",
        "5.   Short 10 min tensorflow neural network youtube video: https://www.youtube.com/watch?v=NxNrIwejnPI  \r\n",
        "6.   SureStart curriculum DeepLearning/NeuralNetwork article: https://serokell.io/blog/deep-learning-and-neural-network-guide\r\n",
        "7.   SureStart curriculum Keras article: https://www.datacamp.com/community/tutorials/deep-learning-python\r\n",
        "8.   SureStart curriculum TensorFlow article: https://www.datacamp.com/community/tutorials/tensorflow-tutorial\r\n",
        "\r\n"
      ]
    },
    {
      "cell_type": "markdown",
      "metadata": {
        "id": "Q-yCwC1QNIia"
      },
      "source": [
        "### Import Libraries -"
      ]
    },
    {
      "cell_type": "code",
      "metadata": {
        "colab": {
          "base_uri": "https://localhost:8080/"
        },
        "id": "DtNGeEh1J3Ie",
        "outputId": "969c5362-2900-4307-f67b-13ad544f1343"
      },
      "source": [
        "import numpy as np\r\n",
        "import pandas as pd\r\n",
        "from tensorflow.keras.models import Sequential\r\n",
        "from tensorflow.keras.layers import Dense, Embedding, LSTM\r\n",
        "from tensorflow.keras.preprocessing.sequence import pad_sequences\r\n",
        "from tensorflow.keras.preprocessing.text import Tokenizer\r\n",
        "from sklearn.model_selection import train_test_split\r\n",
        "\r\n",
        "print(\"Libraries imported!\")"
      ],
      "execution_count": 2,
      "outputs": [
        {
          "output_type": "stream",
          "text": [
            "Libraries imported!\n"
          ],
          "name": "stdout"
        }
      ]
    },
    {
      "cell_type": "markdown",
      "metadata": {
        "id": "o2FZk4KENNID"
      },
      "source": [
        "### Test the environment for all the required items -\r\n"
      ]
    },
    {
      "cell_type": "code",
      "metadata": {
        "colab": {
          "base_uri": "https://localhost:8080/"
        },
        "id": "MZ4ZRyYlNSko",
        "outputId": "bbce9d8c-9595-468a-d2cb-5eabd0e4382c"
      },
      "source": [
        "# Make sure the dataset exists.\r\n",
        "import os\r\n",
        "dataExists = os.path.exists('/content/Sarcasm_Headlines_Dataset_v2.json')\r\n",
        "if dataExists:\r\n",
        "  print(f\"Dataset Exists: {dataExists}\")\r\n",
        "else:\r\n",
        "  print(f\"Dataset does not exist! Try importing it:\")\r\n",
        "  from google.colab import files\r\n",
        "  uploaded = files.upload()\r\n",
        "\r\n",
        "\r\n",
        "# Check for GPU\r\n",
        "import tensorflow as tf\r\n",
        "deviceName = tf.test.gpu_device_name()\r\n",
        "if deviceName != \"/device:GPU:0\":\r\n",
        "  print(f\"GPU not found!\")\r\n",
        "print(f\"Found GPU: {deviceName}\")"
      ],
      "execution_count": 5,
      "outputs": [
        {
          "output_type": "stream",
          "text": [
            "Dataset Exists: True\n",
            "Found GPU: /device:GPU:0\n"
          ],
          "name": "stdout"
        }
      ]
    },
    {
      "cell_type": "markdown",
      "metadata": {
        "id": "RmWugWK_LA-7"
      },
      "source": [
        "### Read Data -"
      ]
    },
    {
      "cell_type": "code",
      "metadata": {
        "colab": {
          "base_uri": "https://localhost:8080/",
          "height": 204
        },
        "id": "6zVxCt8yK9FL",
        "outputId": "51590288-d670-4729-c70c-81817ba3410b"
      },
      "source": [
        "\r\n",
        "pd_dataframe = pd.read_json(\"/content/Sarcasm_Headlines_Dataset_v2.json\", lines=True)\r\n",
        "pd_dataframe.head()"
      ],
      "execution_count": 6,
      "outputs": [
        {
          "output_type": "execute_result",
          "data": {
            "text/html": [
              "<div>\n",
              "<style scoped>\n",
              "    .dataframe tbody tr th:only-of-type {\n",
              "        vertical-align: middle;\n",
              "    }\n",
              "\n",
              "    .dataframe tbody tr th {\n",
              "        vertical-align: top;\n",
              "    }\n",
              "\n",
              "    .dataframe thead th {\n",
              "        text-align: right;\n",
              "    }\n",
              "</style>\n",
              "<table border=\"1\" class=\"dataframe\">\n",
              "  <thead>\n",
              "    <tr style=\"text-align: right;\">\n",
              "      <th></th>\n",
              "      <th>is_sarcastic</th>\n",
              "      <th>headline</th>\n",
              "      <th>article_link</th>\n",
              "    </tr>\n",
              "  </thead>\n",
              "  <tbody>\n",
              "    <tr>\n",
              "      <th>0</th>\n",
              "      <td>1</td>\n",
              "      <td>thirtysomething scientists unveil doomsday clo...</td>\n",
              "      <td>https://www.theonion.com/thirtysomething-scien...</td>\n",
              "    </tr>\n",
              "    <tr>\n",
              "      <th>1</th>\n",
              "      <td>0</td>\n",
              "      <td>dem rep. totally nails why congress is falling...</td>\n",
              "      <td>https://www.huffingtonpost.com/entry/donna-edw...</td>\n",
              "    </tr>\n",
              "    <tr>\n",
              "      <th>2</th>\n",
              "      <td>0</td>\n",
              "      <td>eat your veggies: 9 deliciously different recipes</td>\n",
              "      <td>https://www.huffingtonpost.com/entry/eat-your-...</td>\n",
              "    </tr>\n",
              "    <tr>\n",
              "      <th>3</th>\n",
              "      <td>1</td>\n",
              "      <td>inclement weather prevents liar from getting t...</td>\n",
              "      <td>https://local.theonion.com/inclement-weather-p...</td>\n",
              "    </tr>\n",
              "    <tr>\n",
              "      <th>4</th>\n",
              "      <td>1</td>\n",
              "      <td>mother comes pretty close to using word 'strea...</td>\n",
              "      <td>https://www.theonion.com/mother-comes-pretty-c...</td>\n",
              "    </tr>\n",
              "  </tbody>\n",
              "</table>\n",
              "</div>"
            ],
            "text/plain": [
              "   is_sarcastic  ...                                       article_link\n",
              "0             1  ...  https://www.theonion.com/thirtysomething-scien...\n",
              "1             0  ...  https://www.huffingtonpost.com/entry/donna-edw...\n",
              "2             0  ...  https://www.huffingtonpost.com/entry/eat-your-...\n",
              "3             1  ...  https://local.theonion.com/inclement-weather-p...\n",
              "4             1  ...  https://www.theonion.com/mother-comes-pretty-c...\n",
              "\n",
              "[5 rows x 3 columns]"
            ]
          },
          "metadata": {
            "tags": []
          },
          "execution_count": 6
        }
      ]
    },
    {
      "cell_type": "markdown",
      "metadata": {
        "id": "RdK9kloILf-J"
      },
      "source": [
        "### Split the data into training data and testing data (90:10 split) -\r\n",
        "I chose an arbritrary split of 90:10, but I'm not sure how much that ratio matters."
      ]
    },
    {
      "cell_type": "code",
      "metadata": {
        "colab": {
          "base_uri": "https://localhost:8080/"
        },
        "id": "vgBWNc83Ldap",
        "outputId": "dedf3cbb-46ef-4ffd-eec4-2e96c14ed652"
      },
      "source": [
        "trainX, testX, trainY, testY = train_test_split(pd_dataframe['is_sarcastic'], pd_dataframe['headline'], test_size=0.1)\r\n",
        "trainX = trainX.to_numpy()\r\n",
        "testX = testX.to_numpy()\r\n",
        "trainY = trainY.to_numpy()\r\n",
        "testY = testY.to_numpy()\r\n",
        "\r\n",
        "# print(testX)\r\n",
        "print(len(trainX), len(testX))\r\n",
        "print(len(trainY), len(testY))"
      ],
      "execution_count": 7,
      "outputs": [
        {
          "output_type": "stream",
          "text": [
            "25757 2862\n",
            "25757 2862\n"
          ],
          "name": "stdout"
        }
      ]
    },
    {
      "cell_type": "markdown",
      "metadata": {
        "id": "uJ5BOmO4LzUz"
      },
      "source": [
        "### Tokenize the training data strings and sequence them -"
      ]
    },
    {
      "cell_type": "code",
      "metadata": {
        "id": "cbsblfqdL6hB"
      },
      "source": [
        "model_tokenizer = Tokenizer()\r\n",
        "model_tokenizer.fit_on_texts(trainY)\r\n",
        "\r\n",
        "trainingSequences = model_tokenizer.texts_to_sequences(trainY)\r\n",
        "trainingPadded = pad_sequences(trainingSequences, 100)\r\n",
        "\r\n",
        "testingSequences = model_tokenizer.texts_to_sequences(testY)\r\n",
        "testingPadded = pad_sequences(testingSequences, 100)\r\n",
        "\r\n",
        "# print(trainingSequences)\r\n",
        "# print(trainY)\r\n",
        "# print(testingSequences)\r\n",
        "# print(trainX)"
      ],
      "execution_count": 8,
      "outputs": []
    },
    {
      "cell_type": "markdown",
      "metadata": {
        "id": "R9YnkIMIMIR3"
      },
      "source": [
        "### Create the model and layers, then compile and fit -\r\n"
      ]
    },
    {
      "cell_type": "code",
      "metadata": {
        "colab": {
          "base_uri": "https://localhost:8080/"
        },
        "id": "X3pp628rK6wY",
        "outputId": "4294ae14-85f1-43c9-879f-9a653a31bce7"
      },
      "source": [
        "model = Sequential()\r\n",
        "\r\n",
        "model.add(Embedding(100000, 12, input_length=100))\r\n",
        "model.add(LSTM(128))\r\n",
        "model.add(Dense(64, activation='relu'))\r\n",
        "model.add(Dense(1, activation='sigmoid'))\r\n",
        "\r\n",
        "model.compile(optimizer='adam', loss='binary_crossentropy', metrics=['accuracy'])\r\n",
        "trainingHistory = model.fit(trainingPadded, trainX, epochs=25, validation_data=(testingPadded, testX), batch_size=256)\r\n"
      ],
      "execution_count": 14,
      "outputs": [
        {
          "output_type": "stream",
          "text": [
            "Epoch 1/25\n",
            "101/101 [==============================] - 4s 29ms/step - loss: 0.6488 - accuracy: 0.5986 - val_loss: 0.3717 - val_accuracy: 0.8326\n",
            "Epoch 2/25\n",
            "101/101 [==============================] - 2s 23ms/step - loss: 0.2550 - accuracy: 0.8989 - val_loss: 0.3480 - val_accuracy: 0.8477\n",
            "Epoch 3/25\n",
            "101/101 [==============================] - 2s 22ms/step - loss: 0.1412 - accuracy: 0.9500 - val_loss: 0.4074 - val_accuracy: 0.8414\n",
            "Epoch 4/25\n",
            "101/101 [==============================] - 2s 22ms/step - loss: 0.0745 - accuracy: 0.9775 - val_loss: 0.4607 - val_accuracy: 0.8393\n",
            "Epoch 5/25\n",
            "101/101 [==============================] - 2s 22ms/step - loss: 0.0432 - accuracy: 0.9886 - val_loss: 0.6018 - val_accuracy: 0.8358\n",
            "Epoch 6/25\n",
            "101/101 [==============================] - 2s 23ms/step - loss: 0.0318 - accuracy: 0.9908 - val_loss: 0.6378 - val_accuracy: 0.8382\n",
            "Epoch 7/25\n",
            "101/101 [==============================] - 2s 24ms/step - loss: 0.0193 - accuracy: 0.9950 - val_loss: 0.7787 - val_accuracy: 0.8351\n",
            "Epoch 8/25\n",
            "101/101 [==============================] - 2s 23ms/step - loss: 0.0099 - accuracy: 0.9978 - val_loss: 0.8944 - val_accuracy: 0.8312\n",
            "Epoch 9/25\n",
            "101/101 [==============================] - 2s 22ms/step - loss: 0.0063 - accuracy: 0.9983 - val_loss: 0.9378 - val_accuracy: 0.8326\n",
            "Epoch 10/25\n",
            "101/101 [==============================] - 2s 23ms/step - loss: 0.0043 - accuracy: 0.9991 - val_loss: 0.9632 - val_accuracy: 0.8312\n",
            "Epoch 11/25\n",
            "101/101 [==============================] - 2s 23ms/step - loss: 0.0040 - accuracy: 0.9992 - val_loss: 1.1327 - val_accuracy: 0.8316\n",
            "Epoch 12/25\n",
            "101/101 [==============================] - 2s 23ms/step - loss: 0.0014 - accuracy: 0.9997 - val_loss: 1.2161 - val_accuracy: 0.8291\n",
            "Epoch 13/25\n",
            "101/101 [==============================] - 2s 23ms/step - loss: 7.2934e-04 - accuracy: 0.9999 - val_loss: 1.2841 - val_accuracy: 0.8291\n",
            "Epoch 14/25\n",
            "101/101 [==============================] - 2s 23ms/step - loss: 2.7802e-04 - accuracy: 1.0000 - val_loss: 1.3650 - val_accuracy: 0.8305\n",
            "Epoch 15/25\n",
            "101/101 [==============================] - 2s 22ms/step - loss: 1.5320e-04 - accuracy: 1.0000 - val_loss: 1.4119 - val_accuracy: 0.8323\n",
            "Epoch 16/25\n",
            "101/101 [==============================] - 2s 22ms/step - loss: 1.0493e-04 - accuracy: 1.0000 - val_loss: 1.4748 - val_accuracy: 0.8302\n",
            "Epoch 17/25\n",
            "101/101 [==============================] - 2s 22ms/step - loss: 7.2354e-05 - accuracy: 1.0000 - val_loss: 1.5353 - val_accuracy: 0.8305\n",
            "Epoch 18/25\n",
            "101/101 [==============================] - 2s 23ms/step - loss: 5.5864e-05 - accuracy: 1.0000 - val_loss: 1.5893 - val_accuracy: 0.8288\n",
            "Epoch 19/25\n",
            "101/101 [==============================] - 2s 23ms/step - loss: 4.4786e-05 - accuracy: 1.0000 - val_loss: 1.6432 - val_accuracy: 0.8302\n",
            "Epoch 20/25\n",
            "101/101 [==============================] - 2s 23ms/step - loss: 3.4789e-05 - accuracy: 1.0000 - val_loss: 1.6891 - val_accuracy: 0.8295\n",
            "Epoch 21/25\n",
            "101/101 [==============================] - 2s 23ms/step - loss: 2.6891e-05 - accuracy: 1.0000 - val_loss: 1.7414 - val_accuracy: 0.8305\n",
            "Epoch 22/25\n",
            "101/101 [==============================] - 2s 24ms/step - loss: 2.4614e-05 - accuracy: 1.0000 - val_loss: 1.7886 - val_accuracy: 0.8288\n",
            "Epoch 23/25\n",
            "101/101 [==============================] - 2s 23ms/step - loss: 1.9138e-05 - accuracy: 1.0000 - val_loss: 1.8395 - val_accuracy: 0.8302\n",
            "Epoch 24/25\n",
            "101/101 [==============================] - 2s 23ms/step - loss: 1.7723e-05 - accuracy: 1.0000 - val_loss: 1.8881 - val_accuracy: 0.8305\n",
            "Epoch 25/25\n",
            "101/101 [==============================] - 2s 24ms/step - loss: 1.3082e-05 - accuracy: 1.0000 - val_loss: 1.9279 - val_accuracy: 0.8305\n"
          ],
          "name": "stdout"
        }
      ]
    },
    {
      "cell_type": "markdown",
      "metadata": {
        "id": "AIhcLTi6MocL"
      },
      "source": [
        "### Visualize the training history -"
      ]
    },
    {
      "cell_type": "code",
      "metadata": {
        "colab": {
          "base_uri": "https://localhost:8080/",
          "height": 543
        },
        "id": "QYf4zWrAMrfq",
        "outputId": "bf0dce4b-80e8-4a48-9da9-6b47247b084b"
      },
      "source": [
        "import matplotlib.pyplot as plt\r\n",
        "def plot_graphs(history, string):\r\n",
        "  plt.plot(trainingHistory.history[string])\r\n",
        "  plt.plot(trainingHistory.history['val_'+string])\r\n",
        "  plt.xlabel(\"Epochs\")\r\n",
        "  plt.ylabel(string)\r\n",
        "  plt.legend([string, 'val_'+string])\r\n",
        "  plt.show()\r\n",
        "  \r\n",
        "plot_graphs(trainingHistory, \"accuracy\")\r\n",
        "plot_graphs(trainingHistory, \"loss\")"
      ],
      "execution_count": 15,
      "outputs": [
        {
          "output_type": "display_data",
          "data": {
            "image/png": "[encoded data removed]",
            "text/plain": [
              "<Figure size 432x288 with 1 Axes>"
            ]
          },
          "metadata": {
            "tags": [],
            "needs_background": "light"
          }
        },
        {
          "output_type": "display_data",
          "data": {
            "image/png": "[encoded data removed]",
            "text/plain": [
              "<Figure size 432x288 with 1 Axes>"
            ]
          },
          "metadata": {
            "tags": [],
            "needs_background": "light"
          }
        }
      ]
    },
    {
      "cell_type": "markdown",
      "metadata": {
        "id": "hC0As5nlSIby"
      },
      "source": [
        "### Testing -"
      ]
    },
    {
      "cell_type": "code",
      "metadata": {
        "colab": {
          "base_uri": "https://localhost:8080/"
        },
        "id": "Tadtr7ItSMBd",
        "outputId": "9dd4d80d-5d8d-4504-cdf8-f2215b26a1cf"
      },
      "source": [
        "# I didn't know what to write for example sentences :P\r\n",
        "testSentences = [\"Man finds himself falling off a cliff after working a late shift at an Amazon warehouse\", \"Elon Musk is now the richest man in the world!\"]\r\n",
        "testSequences = model_tokenizer.texts_to_sequences(testSentences)\r\n",
        "testPadded = pad_sequences(testSequences, maxlen=2, padding='post')\r\n",
        "print(model.predict(testPadded))\r\n",
        "\r\n",
        "# modelEvaluation = model.evaluate(testingPadded, testX)\r\n",
        "# print(f'Validation_loss: {modelEvaluation[0]}')\r\n",
        "# print(f'Accuracy: {modelEvaluation[1]}')\r\n"
      ],
      "execution_count": 17,
      "outputs": [
        {
          "output_type": "stream",
          "text": [
            "[[0.963659  ]\n",
            " [0.00323778]]\n"
          ],
          "name": "stdout"
        }
      ]
    }
  ]
}