{
  "nbformat": 4,
  "nbformat_minor": 0,
  "metadata": {
    "colab": {
      "name": "day5_neural_network_practice.ipynb",
      "provenance": [],
      "collapsed_sections": []
    },
    "kernelspec": {
      "name": "python3",
      "display_name": "Python 3"
    },
    "accelerator": "GPU"
  },
  "cells": [
    {
      "cell_type": "markdown",
      "metadata": {
        "id": "vRzLjNJBOkzQ"
      },
      "source": [
        "### All References -\r\n",
        "I still don't fully understand what the tensorflow functions are doing behind the scenes to generate the data that it does, so I used a lot of examples/references in an effort to learn as much as possible. I have listed all of these references below:\r\n",
        "\r\n",
        "\r\n",
        "1.   Dynamic json dataset file uploads: https://towardsdatascience.com/importing-data-to-google-colab-the-clean-way-5ceef9e9e3c8\r\n",
        "2.   Natural language processing youtube tutorial with TensorFlow/Keras: https://youtu.be/Y_hzMnRXjhI\r\n",
        "3.   Kaggles sarcasm LSTM reference: https://www.kaggle.com/yosrbali/sarcasm\r\n",
        "4.   Kaggle sarcasm Feed-Forward reference: https://www.kaggle.com/aaakk5/sarcasm-feedforward-nn-and-exploratory-analysis\r\n",
        "5.   Kaggle sarcasm notebook (specifically the model testing cell at the end) reference: https://www.kaggle.com/abhinavschwarz/sarcasm-detection-86-accuracy\r\n",
        "5.   Short 10 min tensorflow neural network youtube video: https://www.youtube.com/watch?v=NxNrIwejnPI  \r\n",
        "6.   SureStart curriculum DeepLearning/NeuralNetwork article: https://serokell.io/blog/deep-learning-and-neural-network-guide\r\n",
        "7.   SureStart curriculum Keras article: https://www.datacamp.com/community/tutorials/deep-learning-python\r\n",
        "8.   SureStart curriculum TensorFlow article: https://www.datacamp.com/community/tutorials/tensorflow-tutorial\r\n",
        "\r\n"
      ]
    },
    {
      "cell_type": "markdown",
      "metadata": {
        "id": "Q-yCwC1QNIia"
      },
      "source": [
        "### Import Libraries -"
      ]
    },
    {
      "cell_type": "code",
      "metadata": {
        "colab": {
          "base_uri": "https://localhost:8080/"
        },
        "id": "DtNGeEh1J3Ie",
        "outputId": "b23c685e-e9f1-4e59-9ccf-93470b0ac256"
      },
      "source": [
        "import numpy as np\r\n",
        "import pandas as pd\r\n",
        "from tensorflow.keras.models import Sequential\r\n",
        "from tensorflow.keras.layers import Dense, Embedding, LSTM\r\n",
        "from tensorflow.keras.preprocessing.sequence import pad_sequences\r\n",
        "from tensorflow.keras.preprocessing.text import Tokenizer\r\n",
        "from sklearn.model_selection import train_test_split\r\n",
        "\r\n",
        "print(\"Libraries imported!\")"
      ],
      "execution_count": null,
      "outputs": [
        {
          "output_type": "stream",
          "text": [
            "Libraries imported!\n"
          ],
          "name": "stdout"
        }
      ]
    },
    {
      "cell_type": "markdown",
      "metadata": {
        "id": "o2FZk4KENNID"
      },
      "source": [
        "### Test the environment for all the required items -\r\n"
      ]
    },
    {
      "cell_type": "code",
      "metadata": {
        "colab": {
          "base_uri": "https://localhost:8080/"
        },
        "id": "MZ4ZRyYlNSko",
        "outputId": "5ab1cf4c-fe47-49a2-e123-985d49cb0851"
      },
      "source": [
        "# Make sure the dataset exists.\r\n",
        "import os\r\n",
        "dataExists = os.path.exists('/content/Sarcasm_Headlines_Dataset_v2.json')\r\n",
        "if dataExists:\r\n",
        "  print(f\"Dataset Exists: {dataExists}\")\r\n",
        "else:\r\n",
        "  print(f\"Dataset does not exist! Try importing it:\")\r\n",
        "  from google.colab import files\r\n",
        "  uploaded = files.upload()\r\n",
        "\r\n",
        "\r\n",
        "# Check for GPU\r\n",
        "import tensorflow as tf\r\n",
        "deviceName = tf.test.gpu_device_name()\r\n",
        "if deviceName != \"/device:GPU:0\":\r\n",
        "  print(f\"GPU not found!\")\r\n",
        "print(f\"Found GPU: {device_name}\")"
      ],
      "execution_count": null,
      "outputs": [
        {
          "output_type": "stream",
          "text": [
            "Dataset Exists: True\n",
            "Found GPU: /device:GPU:0\n"
          ],
          "name": "stdout"
        }
      ]
    },
    {
      "cell_type": "markdown",
      "metadata": {
        "id": "RmWugWK_LA-7"
      },
      "source": [
        "### Read Data -"
      ]
    },
    {
      "cell_type": "code",
      "metadata": {
        "colab": {
          "base_uri": "https://localhost:8080/",
          "height": 204
        },
        "id": "6zVxCt8yK9FL",
        "outputId": "c4ab64b2-4e4f-4c2b-93d5-f6b9e7ffad0e"
      },
      "source": [
        "\r\n",
        "pd_dataframe = pd.read_json(\"/content/Sarcasm_Headlines_Dataset_v2.json\", lines=True)\r\n",
        "pd_dataframe.head()"
      ],
      "execution_count": null,
      "outputs": [
        {
          "output_type": "execute_result",
          "data": {
            "text/html": [
              "<div>\n",
              "<style scoped>\n",
              "    .dataframe tbody tr th:only-of-type {\n",
              "        vertical-align: middle;\n",
              "    }\n",
              "\n",
              "    .dataframe tbody tr th {\n",
              "        vertical-align: top;\n",
              "    }\n",
              "\n",
              "    .dataframe thead th {\n",
              "        text-align: right;\n",
              "    }\n",
              "</style>\n",
              "<table border=\"1\" class=\"dataframe\">\n",
              "  <thead>\n",
              "    <tr style=\"text-align: right;\">\n",
              "      <th></th>\n",
              "      <th>is_sarcastic</th>\n",
              "      <th>headline</th>\n",
              "      <th>article_link</th>\n",
              "    </tr>\n",
              "  </thead>\n",
              "  <tbody>\n",
              "    <tr>\n",
              "      <th>0</th>\n",
              "      <td>1</td>\n",
              "      <td>thirtysomething scientists unveil doomsday clo...</td>\n",
              "      <td>https://www.theonion.com/thirtysomething-scien...</td>\n",
              "    </tr>\n",
              "    <tr>\n",
              "      <th>1</th>\n",
              "      <td>0</td>\n",
              "      <td>dem rep. totally nails why congress is falling...</td>\n",
              "      <td>https://www.huffingtonpost.com/entry/donna-edw...</td>\n",
              "    </tr>\n",
              "    <tr>\n",
              "      <th>2</th>\n",
              "      <td>0</td>\n",
              "      <td>eat your veggies: 9 deliciously different recipes</td>\n",
              "      <td>https://www.huffingtonpost.com/entry/eat-your-...</td>\n",
              "    </tr>\n",
              "    <tr>\n",
              "      <th>3</th>\n",
              "      <td>1</td>\n",
              "      <td>inclement weather prevents liar from getting t...</td>\n",
              "      <td>https://local.theonion.com/inclement-weather-p...</td>\n",
              "    </tr>\n",
              "    <tr>\n",
              "      <th>4</th>\n",
              "      <td>1</td>\n",
              "      <td>mother comes pretty close to using word 'strea...</td>\n",
              "      <td>https://www.theonion.com/mother-comes-pretty-c...</td>\n",
              "    </tr>\n",
              "  </tbody>\n",
              "</table>\n",
              "</div>"
            ],
            "text/plain": [
              "   is_sarcastic  ...                                       article_link\n",
              "0             1  ...  https://www.theonion.com/thirtysomething-scien...\n",
              "1             0  ...  https://www.huffingtonpost.com/entry/donna-edw...\n",
              "2             0  ...  https://www.huffingtonpost.com/entry/eat-your-...\n",
              "3             1  ...  https://local.theonion.com/inclement-weather-p...\n",
              "4             1  ...  https://www.theonion.com/mother-comes-pretty-c...\n",
              "\n",
              "[5 rows x 3 columns]"
            ]
          },
          "metadata": {
            "tags": []
          },
          "execution_count": 8
        }
      ]
    },
    {
      "cell_type": "markdown",
      "metadata": {
        "id": "RdK9kloILf-J"
      },
      "source": [
        "### Split the data into training data and testing data (90:10 split) -\r\n",
        "I chose an arbritrary split of 90:10, but I'm not sure how much that ratio matters."
      ]
    },
    {
      "cell_type": "code",
      "metadata": {
        "colab": {
          "base_uri": "https://localhost:8080/"
        },
        "id": "vgBWNc83Ldap",
        "outputId": "5bd2869f-555c-405b-8497-b7b20bba08fc"
      },
      "source": [
        "trainX, testX, trainY, testY = train_test_split(pd_dataframe['is_sarcastic'], pd_dataframe['headline'], test_size=0.1)\r\n",
        "trainX = trainX.to_numpy()\r\n",
        "testX = testX.to_numpy()\r\n",
        "trainY = trainY.to_numpy()\r\n",
        "testY = testY.to_numpy()\r\n",
        "\r\n",
        "# print(testX)\r\n",
        "print(len(trainX), len(testX))\r\n",
        "print(len(trainY), len(testY))"
      ],
      "execution_count": null,
      "outputs": [
        {
          "output_type": "stream",
          "text": [
            "25757 2862\n",
            "25757 2862\n"
          ],
          "name": "stdout"
        }
      ]
    },
    {
      "cell_type": "markdown",
      "metadata": {
        "id": "uJ5BOmO4LzUz"
      },
      "source": [
        "### Tokenize the training data strings and sequence them -"
      ]
    },
    {
      "cell_type": "code",
      "metadata": {
        "id": "cbsblfqdL6hB"
      },
      "source": [
        "model_tokenizer = Tokenizer()\r\n",
        "model_tokenizer.fit_on_texts(trainY)\r\n",
        "\r\n",
        "trainingSequences = model_tokenizer.texts_to_sequences(trainY)\r\n",
        "trainingPadded = pad_sequences(trainingSequences, 100)\r\n",
        "\r\n",
        "testingSequences = model_tokenizer.texts_to_sequences(testY)\r\n",
        "testingPadded = pad_sequences(testingSequences, 100)\r\n",
        "\r\n",
        "# print(trainingSequences)\r\n",
        "# print(trainY)\r\n",
        "# print(testingSequences)\r\n",
        "# print(trainX)"
      ],
      "execution_count": 56,
      "outputs": []
    },
    {
      "cell_type": "markdown",
      "metadata": {
        "id": "R9YnkIMIMIR3"
      },
      "source": [
        "### Create the model and layers, then compile and fit -\r\n"
      ]
    },
    {
      "cell_type": "code",
      "metadata": {
        "colab": {
          "base_uri": "https://localhost:8080/"
        },
        "id": "X3pp628rK6wY",
        "outputId": "59082ed4-81b4-4327-dba4-37ea2dd2cf4b"
      },
      "source": [
        "model = Sequential()\r\n",
        "\r\n",
        "model.add(Embedding(100000, 12, input_length=100))\r\n",
        "model.add(LSTM(128))\r\n",
        "model.add(Dense(30, activation='relu'))\r\n",
        "model.add(Dense(1, activation='sigmoid'))\r\n",
        "\r\n",
        "model.compile(optimizer='adam', loss='binary_crossentropy', metrics=['accuracy'])\r\n",
        "trainingHistory = model.fit(trainingPadded, trainX, epochs=25, validation_data=(testingPadded, testX), batch_size=256)\r\n"
      ],
      "execution_count": null,
      "outputs": [
        {
          "output_type": "stream",
          "text": [
            "Epoch 1/25\n",
            "101/101 [==============================] - 4s 29ms/step - loss: 0.6554 - accuracy: 0.5913 - val_loss: 0.3663 - val_accuracy: 0.8375\n",
            "Epoch 2/25\n",
            "101/101 [==============================] - 2s 23ms/step - loss: 0.2778 - accuracy: 0.8890 - val_loss: 0.3146 - val_accuracy: 0.8655\n",
            "Epoch 3/25\n",
            "101/101 [==============================] - 2s 24ms/step - loss: 0.1539 - accuracy: 0.9481 - val_loss: 0.3548 - val_accuracy: 0.8613\n",
            "Epoch 4/25\n",
            "101/101 [==============================] - 2s 24ms/step - loss: 0.0859 - accuracy: 0.9742 - val_loss: 0.4067 - val_accuracy: 0.8532\n",
            "Epoch 5/25\n",
            "101/101 [==============================] - 2s 24ms/step - loss: 0.0482 - accuracy: 0.9873 - val_loss: 0.5088 - val_accuracy: 0.8515\n",
            "Epoch 6/25\n",
            "101/101 [==============================] - 2s 24ms/step - loss: 0.0276 - accuracy: 0.9925 - val_loss: 0.6547 - val_accuracy: 0.8431\n",
            "Epoch 7/25\n",
            "101/101 [==============================] - 2s 24ms/step - loss: 0.0201 - accuracy: 0.9948 - val_loss: 0.7406 - val_accuracy: 0.8407\n",
            "Epoch 8/25\n",
            "101/101 [==============================] - 2s 24ms/step - loss: 0.0111 - accuracy: 0.9972 - val_loss: 0.7897 - val_accuracy: 0.8361\n",
            "Epoch 9/25\n",
            "101/101 [==============================] - 2s 24ms/step - loss: 0.0142 - accuracy: 0.9964 - val_loss: 0.8365 - val_accuracy: 0.8340\n",
            "Epoch 10/25\n",
            "101/101 [==============================] - 2s 24ms/step - loss: 0.0084 - accuracy: 0.9976 - val_loss: 0.8795 - val_accuracy: 0.8358\n",
            "Epoch 11/25\n",
            "101/101 [==============================] - 2s 23ms/step - loss: 0.0055 - accuracy: 0.9986 - val_loss: 0.9447 - val_accuracy: 0.8372\n",
            "Epoch 12/25\n",
            "101/101 [==============================] - 2s 24ms/step - loss: 0.0066 - accuracy: 0.9984 - val_loss: 1.0135 - val_accuracy: 0.8410\n",
            "Epoch 13/25\n",
            "101/101 [==============================] - 2s 23ms/step - loss: 0.0050 - accuracy: 0.9984 - val_loss: 1.0650 - val_accuracy: 0.8326\n",
            "Epoch 14/25\n",
            "101/101 [==============================] - 2s 24ms/step - loss: 0.0071 - accuracy: 0.9984 - val_loss: 1.0409 - val_accuracy: 0.8333\n",
            "Epoch 15/25\n",
            "101/101 [==============================] - 2s 24ms/step - loss: 0.0039 - accuracy: 0.9989 - val_loss: 1.2012 - val_accuracy: 0.8344\n",
            "Epoch 16/25\n",
            "101/101 [==============================] - 2s 24ms/step - loss: 0.0043 - accuracy: 0.9989 - val_loss: 1.2151 - val_accuracy: 0.8319\n",
            "Epoch 17/25\n",
            "101/101 [==============================] - 2s 24ms/step - loss: 0.0078 - accuracy: 0.9978 - val_loss: 1.1105 - val_accuracy: 0.8316\n",
            "Epoch 18/25\n",
            "101/101 [==============================] - 2s 24ms/step - loss: 0.0043 - accuracy: 0.9987 - val_loss: 1.2990 - val_accuracy: 0.8319\n",
            "Epoch 19/25\n",
            "101/101 [==============================] - 2s 24ms/step - loss: 0.0030 - accuracy: 0.9991 - val_loss: 1.2994 - val_accuracy: 0.8337\n",
            "Epoch 20/25\n",
            "101/101 [==============================] - 2s 24ms/step - loss: 0.0028 - accuracy: 0.9994 - val_loss: 1.3099 - val_accuracy: 0.8298\n",
            "Epoch 21/25\n",
            "101/101 [==============================] - 2s 24ms/step - loss: 0.0026 - accuracy: 0.9991 - val_loss: 1.2999 - val_accuracy: 0.8326\n",
            "Epoch 22/25\n",
            "101/101 [==============================] - 2s 24ms/step - loss: 0.0017 - accuracy: 0.9995 - val_loss: 1.4386 - val_accuracy: 0.8284\n",
            "Epoch 23/25\n",
            "101/101 [==============================] - 2s 24ms/step - loss: 0.0013 - accuracy: 0.9995 - val_loss: 1.5688 - val_accuracy: 0.8249\n",
            "Epoch 24/25\n",
            "101/101 [==============================] - 2s 24ms/step - loss: 5.3949e-04 - accuracy: 0.9999 - val_loss: 1.5550 - val_accuracy: 0.8274\n",
            "Epoch 25/25\n",
            "101/101 [==============================] - 2s 24ms/step - loss: 0.0011 - accuracy: 0.9996 - val_loss: 1.5643 - val_accuracy: 0.8225\n"
          ],
          "name": "stdout"
        }
      ]
    },
    {
      "cell_type": "markdown",
      "metadata": {
        "id": "AIhcLTi6MocL"
      },
      "source": [
        "### Visualize the training history -"
      ]
    },
    {
      "cell_type": "code",
      "metadata": {
        "colab": {
          "base_uri": "https://localhost:8080/",
          "height": 541
        },
        "id": "QYf4zWrAMrfq",
        "outputId": "d23104d2-2eba-43af-9166-128c6c693fa3"
      },
      "source": [
        "import matplotlib.pyplot as plt\r\n",
        "def plot_graphs(history, string):\r\n",
        "  plt.plot(trainingHistory.history[string])\r\n",
        "  plt.plot(trainingHistory.history['val_'+string])\r\n",
        "  plt.xlabel(\"Epochs\")\r\n",
        "  plt.ylabel(string)\r\n",
        "  plt.legend([string, 'val_'+string])\r\n",
        "  plt.show()\r\n",
        "  \r\n",
        "plot_graphs(trainingHistory, \"accuracy\")\r\n",
        "plot_graphs(trainingHistory, \"loss\")"
      ],
      "execution_count": null,
      "outputs": [
        {
          "output_type": "display_data",
          "data": {
            "image/png": "[encoded data removed]",
            "text/plain": [
              "<Figure size 432x288 with 1 Axes>"
            ]
          },
          "metadata": {
            "tags": [],
            "needs_background": "light"
          }
        },
        {
          "output_type": "display_data",
          "data": {
            "image/png": "[encoded data removed]",
            "text/plain": [
              "<Figure size 432x288 with 1 Axes>"
            ]
          },
          "metadata": {
            "tags": [],
            "needs_background": "light"
          }
        }
      ]
    },
    {
      "cell_type": "markdown",
      "metadata": {
        "id": "hC0As5nlSIby"
      },
      "source": [
        "### Testing -"
      ]
    },
    {
      "cell_type": "code",
      "metadata": {
        "colab": {
          "base_uri": "https://localhost:8080/"
        },
        "id": "Tadtr7ItSMBd",
        "outputId": "b823be02-5550-4a18-b459-4065d987a3db"
      },
      "source": [
        "# I didn't know what to write for example sentences :P\r\n",
        "testSentences = [\"Man finds himself falling off a cliff after working a late shift at an Amazon warehouse\", \"Elon Musk is now the richest man in the world!\"]\r\n",
        "testSequences = model_tokenizer.texts_to_sequences(testSentences)\r\n",
        "testPadded = pad_sequences(testSequences, maxlen=2, padding='post')\r\n",
        "print(model.predict(testPadded))\r\n",
        "\r\n",
        "# modelEvaluation = model.evaluate(testingPadded, testX)\r\n",
        "# print(f'Validation_loss: {modelEvaluation[0]}')\r\n",
        "# print(f'Accuracy: {modelEvaluation[1]}')\r\n"
      ],
      "execution_count": 79,
      "outputs": [
        {
          "output_type": "stream",
          "text": [
            "[[0.98822325]\n",
            " [0.00278841]]\n"
          ],
          "name": "stdout"
        }
      ]
    }
  ]
}