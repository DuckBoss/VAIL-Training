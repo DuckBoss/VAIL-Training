{
  "nbformat": 4,
  "nbformat_minor": 0,
  "metadata": {
    "colab": {
      "name": "day11_model_prediction_test.ipynb",
      "provenance": [],
      "collapsed_sections": [],
      "toc_visible": true
    },
    "kernelspec": {
      "name": "python3",
      "display_name": "Python 3"
    }
  },
  "cells": [
    {
      "cell_type": "markdown",
      "metadata": {
        "id": "xF1x34yI2TNz"
      },
      "source": [
        "### Import the required libraries -"
      ]
    },
    {
      "cell_type": "code",
      "metadata": {
        "colab": {
          "base_uri": "https://localhost:8080/"
        },
        "id": "ePbSzyRs2Nc_",
        "outputId": "d23aced5-9c4c-45ac-c650-ffe2cd653ced"
      },
      "source": [
        "import numpy as np # linear algebra\r\n",
        "import pandas as pd # data processing, CSV file I/O (e.g. pd.read_csv)\r\n",
        "import seaborn as sns\r\n",
        "import matplotlib.pyplot as plt\r\n",
        "# import warnings\r\n",
        "import warnings\r\n",
        "# filter warnings\r\n",
        "warnings.filterwarnings('ignore')\r\n",
        "import os\r\n",
        "from google.colab import files\r\n",
        "from tensorflow.keras.preprocessing.image import load_img, img_to_array\r\n",
        "from tensorflow.keras.models import load_model\r\n",
        "\r\n",
        "!pip install h5py\r\n",
        "\r\n",
        "print(\"Imported libraries!\")"
      ],
      "execution_count": 9,
      "outputs": [
        {
          "output_type": "stream",
          "text": [
            "Requirement already satisfied: h5py in /usr/local/lib/python3.6/dist-packages (2.10.0)\n",
            "Requirement already satisfied: numpy>=1.7 in /usr/local/lib/python3.6/dist-packages (from h5py) (1.19.5)\n",
            "Requirement already satisfied: six in /usr/local/lib/python3.6/dist-packages (from h5py) (1.15.0)\n",
            "Imported libraries!\n"
          ],
          "name": "stdout"
        }
      ]
    },
    {
      "cell_type": "markdown",
      "metadata": {
        "id": "f4OQWx7S2WC8"
      },
      "source": [
        "### Prepare the prediction image -"
      ]
    },
    {
      "cell_type": "code",
      "metadata": {
        "colab": {
          "base_uri": "https://localhost:8080/"
        },
        "id": "51a6doi12YKx",
        "outputId": "6929594f-58a6-48e3-da7f-97039e4b1bf6"
      },
      "source": [
        "# Import the image to predict\r\n",
        "predictionImage = os.path.exists('/content/sample_image.png')\r\n",
        "if predictionImage:\r\n",
        "  print(f\"Prediction image exists: {predictionImage}\")\r\n",
        "else:\r\n",
        "  print(f\"Prediction image does not exist! Try importing it:\")\r\n",
        "  files.upload()\r\n",
        "\r\n",
        "img = load_img('/content/sample_image.png', grayscale=True, target_size=(28, 28))\r\n",
        "\r\n",
        "# Convert the image data to an array\r\n",
        "img = img_to_array(img)\r\n",
        "\r\n",
        "# Reshape the image data\r\n",
        "img = img.reshape(1, 28, 28, 1)\r\n",
        "\r\n",
        "# Convert the image data into floats\r\n",
        "img = img.astype('float32')\r\n",
        "\r\n",
        "# Normalize the image data\r\n",
        "img = img / 255.0"
      ],
      "execution_count": 10,
      "outputs": [
        {
          "output_type": "stream",
          "text": [
            "Prediction image exists: True\n"
          ],
          "name": "stdout"
        }
      ]
    },
    {
      "cell_type": "markdown",
      "metadata": {
        "id": "Q3-Bf2mK2caO"
      },
      "source": [
        "### Load the pretrained Mnist model from the file -"
      ]
    },
    {
      "cell_type": "code",
      "metadata": {
        "colab": {
          "base_uri": "https://localhost:8080/"
        },
        "id": "FO1d9Fo_2joB",
        "outputId": "326b0e25-c9bc-4eac-921c-6cc75cfccb1d"
      },
      "source": [
        "# Make sure the model exists.\r\n",
        "pretrainedModel = os.path.exists('/content/MnistTrainedModel.h5')\r\n",
        "if pretrainedModel:\r\n",
        "  print(f\"Pretrained model exists: {pretrainedModel}\")\r\n",
        "else:\r\n",
        "  print(f\"Pretrained model does not exist! Try importing it:\")\r\n",
        "  files.upload()\r\n",
        "\r\n",
        "model = load_model('/content/MnistTrainedModel.h5')"
      ],
      "execution_count": 12,
      "outputs": [
        {
          "output_type": "stream",
          "text": [
            "Pretrained model exists: True\n"
          ],
          "name": "stdout"
        }
      ]
    },
    {
      "cell_type": "markdown",
      "metadata": {
        "id": "SDCYoBGZ3ERn"
      },
      "source": [
        "### Evaluate the pretrained model -"
      ]
    },
    {
      "cell_type": "code",
      "metadata": {
        "colab": {
          "base_uri": "https://localhost:8080/"
        },
        "id": "QMb_cb2a3GmB",
        "outputId": "374de547-fd03-4ba8-e9ee-fc59678a26d7"
      },
      "source": [
        "digit = model.predict_classes(img)\r\n",
        "print(f\"Prediction: {digit[0]}\")"
      ],
      "execution_count": 15,
      "outputs": [
        {
          "output_type": "stream",
          "text": [
            "Prediction: 7\n"
          ],
          "name": "stdout"
        }
      ]
    }
  ]
}