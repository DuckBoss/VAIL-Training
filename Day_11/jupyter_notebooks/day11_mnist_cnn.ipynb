{
  "nbformat": 4,
  "nbformat_minor": 0,
  "metadata": {
    "colab": {
      "name": "day10_mnist_cnn.ipynb",
      "provenance": []
    },
    "kernelspec": {
      "name": "python3",
      "display_name": "Python 3"
    },
    "accelerator": "GPU"
  },
  "cells": [
    {
      "cell_type": "markdown",
      "metadata": {
        "id": "ef9CB_ljscpV"
      },
      "source": [
        "### Import the required libraries -"
      ]
    },
    {
      "cell_type": "code",
      "metadata": {
        "colab": {
          "base_uri": "https://localhost:8080/"
        },
        "id": "qiXkPWi5sZOx",
        "outputId": "d65a91ed-d524-4fd4-b6f5-263c1fe7cfc6"
      },
      "source": [
        "import numpy as np # linear algebra\r\n",
        "import pandas as pd # data processing, CSV file I/O (e.g. pd.read_csv)\r\n",
        "import seaborn as sns\r\n",
        "import matplotlib.pyplot as plt\r\n",
        "# import warnings\r\n",
        "import warnings\r\n",
        "# filter warnings\r\n",
        "warnings.filterwarnings('ignore')\r\n",
        "import os\r\n",
        "from tensorflow.keras.models import Sequential\r\n",
        "from tensorflow.keras.layers import Dense, Flatten, Conv2D, MaxPool2D, BatchNormalization\r\n",
        "from sklearn.model_selection import train_test_split\r\n",
        "from tensorflow.keras.datasets import mnist\r\n",
        "from tensorflow.keras.utils import to_categorical\r\n",
        "from tensorflow.keras.optimizers import SGD\r\n",
        "from sklearn.model_selection import KFold\r\n",
        "\r\n",
        "print(\"Imported libraries!\")"
      ],
      "execution_count": 22,
      "outputs": [
        {
          "output_type": "stream",
          "text": [
            "Imported libraries!\n"
          ],
          "name": "stdout"
        }
      ]
    },
    {
      "cell_type": "markdown",
      "metadata": {
        "id": "SAAJA5LIsnnm"
      },
      "source": [
        "### Prepare training/testing data -"
      ]
    },
    {
      "cell_type": "code",
      "metadata": {
        "id": "FvuPKZO6srUk"
      },
      "source": [
        "# Import MNIST dataset\r\n",
        "(trainX, trainY), (testX, testY) = mnist.load_data()\r\n",
        "\r\n",
        "# Reshape the dataset\r\n",
        "trainX = trainX.reshape((trainX.shape[0], 28, 28, 1))\r\n",
        "testX = testX.reshape((testX.shape[0], 28, 28, 1))\r\n",
        "\r\n",
        "# One-hot encode the values\r\n",
        "trainY = to_categorical(trainY)\r\n",
        "testY = to_categorical(testY)\r\n",
        "\r\n",
        "# Convert the pixel data into floats\r\n",
        "trainX = trainX.astype('float32')\r\n",
        "testX = testY.astype('float32')\r\n",
        "\r\n",
        "# Normalize the pixel data\r\n",
        "trainX = trainX / 255.0\r\n",
        "testX = testX / 255.0\r\n"
      ],
      "execution_count": 23,
      "outputs": []
    },
    {
      "cell_type": "markdown",
      "metadata": {
        "id": "_ZMXtyrZtutY"
      },
      "source": [
        "### Prepare the CNN model -"
      ]
    },
    {
      "cell_type": "code",
      "metadata": {
        "id": "5AJd26P9tLdU"
      },
      "source": [
        "def makeCNNModel():\r\n",
        "  cnnModel = Sequential()\r\n",
        "  cnnModel.add(Conv2D(32, (3, 3), activation='relu', kernel_initializer='he_uniform', input_shape=(28, 28, 1)))\r\n",
        "  cnnModel.add(BatchNormalization())\r\n",
        "  cnnModel.add(MaxPool2D(pool_size=(2, 2)))\r\n",
        "  cnnModel.add(Flatten())\r\n",
        "  cnnModel.add(Dense(100, activation='relu', kernel_initializer='he_uniform'))\r\n",
        "  cnnModel.add(BatchNormalization())\r\n",
        "  cnnModel.add(Dense(10, activation='softmax'))\r\n",
        "\r\n",
        "  optimizer = SGD(lr=0.01, momentum=0.9)\r\n",
        "  cnnModel.compile(optimizer=optimizer, loss='categorical_crossentropy', metrics=['accuracy'])\r\n",
        "  return cnnModel\r\n"
      ],
      "execution_count": 24,
      "outputs": []
    },
    {
      "cell_type": "markdown",
      "metadata": {
        "id": "QBa9lMycupHL"
      },
      "source": [
        "### Evaluate the model -"
      ]
    },
    {
      "cell_type": "code",
      "metadata": {
        "id": "GZtcoDyOuq_L"
      },
      "source": [
        "def evaluateCNNModel(dataX, dataY, nFolds = 5):\r\n",
        "  cnnScores = list()\r\n",
        "  cnnHistories = list()\r\n",
        "\r\n",
        "  kFold = KFold(nFolds, shuffle=True, random_state=1)\r\n",
        "  for train_ix, test_ix in kFold.split(dataX):\r\n",
        "    # define\r\n",
        "    curModel = makeCNNModel()\r\n",
        "    # get training/testing data\r\n",
        "    trainX, trainY, testX, testY = dataX[train_ix], dataY[train_ix], dataX[test_ix], dataY[test_ix]\r\n",
        "    # fit the model\r\n",
        "    curHistory = curModel.fit(trainX, trainY, epochs=10, batch_size=32, validation_data=(testX, testY), verbose=1)\r\n",
        "    # evaluate the model\r\n",
        "    _, acc = curModel.evaluate(testX, testY, verbose=0)\r\n",
        "    # store scores in lists\r\n",
        "    cnnScores.append(acc)\r\n",
        "    cnnHistories.append(curHistory)\r\n",
        "  return cnnScores, cnnHistories\r\n"
      ],
      "execution_count": 25,
      "outputs": []
    },
    {
      "cell_type": "markdown",
      "metadata": {
        "id": "5UNFnIR_wwbu"
      },
      "source": [
        "### Run and plot the evaluation results -"
      ]
    },
    {
      "cell_type": "code",
      "metadata": {
        "colab": {
          "base_uri": "https://localhost:8080/",
          "height": 1000
        },
        "id": "_0U5J2Viw03r",
        "outputId": "2076cd9d-d2b2-4a49-91ec-2bf2e831d508"
      },
      "source": [
        "scores, histories = evaluateCNNModel(trainX, trainY)\r\n",
        "\r\n",
        "for i, item in enumerate(histories):\r\n",
        "  # plot loss\r\n",
        "  plt.subplot(2, 1, 1)\r\n",
        "  plt.title('Cross Entropy Loss')\r\n",
        "  plt.plot(item.history['loss'], color='blue', label='train')\r\n",
        "  plt.plot(item.history['val_loss'], color='orange', label='test')\r\n",
        "  # plot accuracy\r\n",
        "  plt.subplot(2, 1, 2)\r\n",
        "  plt.title('Classification Accuracy')\r\n",
        "  plt.plot(item.history['accuracy'], color='blue', label='train')\r\n",
        "  plt.plot(item.history['val_accuracy'], color='orange', label='test')\r\n",
        "plt.show()\r\n",
        "\r\n",
        "print(f\"Accuracy: mean={(np.mean(scores)*100):.3f} std={(np.std(scores)*100):.3f}, n={len(scores)}\")\r\n",
        "plt.boxplot(scores)\r\n",
        "plt.show()"
      ],
      "execution_count": 26,
      "outputs": [
        {
          "output_type": "stream",
          "text": [
            "Epoch 1/10\n",
            "1500/1500 [==============================] - 6s 3ms/step - loss: 0.2393 - accuracy: 0.9252 - val_loss: 0.0656 - val_accuracy: 0.9817\n",
            "Epoch 2/10\n",
            "1500/1500 [==============================] - 5s 3ms/step - loss: 0.0528 - accuracy: 0.9843 - val_loss: 0.0556 - val_accuracy: 0.9842\n",
            "Epoch 3/10\n",
            "1500/1500 [==============================] - 5s 3ms/step - loss: 0.0281 - accuracy: 0.9918 - val_loss: 0.0555 - val_accuracy: 0.9847\n",
            "Epoch 4/10\n",
            "1500/1500 [==============================] - 5s 3ms/step - loss: 0.0181 - accuracy: 0.9948 - val_loss: 0.0519 - val_accuracy: 0.9855\n",
            "Epoch 5/10\n",
            "1500/1500 [==============================] - 5s 3ms/step - loss: 0.0132 - accuracy: 0.9963 - val_loss: 0.0526 - val_accuracy: 0.9853\n",
            "Epoch 6/10\n",
            "1500/1500 [==============================] - 5s 3ms/step - loss: 0.0094 - accuracy: 0.9977 - val_loss: 0.0555 - val_accuracy: 0.9847\n",
            "Epoch 7/10\n",
            "1500/1500 [==============================] - 5s 3ms/step - loss: 0.0072 - accuracy: 0.9981 - val_loss: 0.0603 - val_accuracy: 0.9851\n",
            "Epoch 8/10\n",
            "1500/1500 [==============================] - 5s 3ms/step - loss: 0.0061 - accuracy: 0.9983 - val_loss: 0.0570 - val_accuracy: 0.9849\n",
            "Epoch 9/10\n",
            "1500/1500 [==============================] - 5s 3ms/step - loss: 0.0054 - accuracy: 0.9988 - val_loss: 0.0562 - val_accuracy: 0.9857\n",
            "Epoch 10/10\n",
            "1500/1500 [==============================] - 5s 3ms/step - loss: 0.0037 - accuracy: 0.9992 - val_loss: 0.0531 - val_accuracy: 0.9869\n",
            "Epoch 1/10\n",
            "1500/1500 [==============================] - 5s 3ms/step - loss: 0.2241 - accuracy: 0.9303 - val_loss: 0.0737 - val_accuracy: 0.9772\n",
            "Epoch 2/10\n",
            "1500/1500 [==============================] - 5s 3ms/step - loss: 0.0527 - accuracy: 0.9842 - val_loss: 0.0591 - val_accuracy: 0.9809\n",
            "Epoch 3/10\n",
            "1500/1500 [==============================] - 5s 3ms/step - loss: 0.0323 - accuracy: 0.9902 - val_loss: 0.0527 - val_accuracy: 0.9841\n",
            "Epoch 4/10\n",
            "1500/1500 [==============================] - 5s 3ms/step - loss: 0.0195 - accuracy: 0.9944 - val_loss: 0.0511 - val_accuracy: 0.9859\n",
            "Epoch 5/10\n",
            "1500/1500 [==============================] - 5s 3ms/step - loss: 0.0126 - accuracy: 0.9966 - val_loss: 0.0521 - val_accuracy: 0.9858\n",
            "Epoch 6/10\n",
            "1500/1500 [==============================] - 5s 3ms/step - loss: 0.0083 - accuracy: 0.9980 - val_loss: 0.0509 - val_accuracy: 0.9859\n",
            "Epoch 7/10\n",
            "1500/1500 [==============================] - 5s 3ms/step - loss: 0.0065 - accuracy: 0.9984 - val_loss: 0.0506 - val_accuracy: 0.9855\n",
            "Epoch 8/10\n",
            "1500/1500 [==============================] - 5s 3ms/step - loss: 0.0047 - accuracy: 0.9992 - val_loss: 0.0524 - val_accuracy: 0.9858\n",
            "Epoch 9/10\n",
            "1500/1500 [==============================] - 5s 3ms/step - loss: 0.0034 - accuracy: 0.9993 - val_loss: 0.0524 - val_accuracy: 0.9858\n",
            "Epoch 10/10\n",
            "1500/1500 [==============================] - 5s 3ms/step - loss: 0.0038 - accuracy: 0.9990 - val_loss: 0.0538 - val_accuracy: 0.9849\n",
            "Epoch 1/10\n",
            "1500/1500 [==============================] - 5s 3ms/step - loss: 0.2549 - accuracy: 0.9227 - val_loss: 0.0852 - val_accuracy: 0.9768\n",
            "Epoch 2/10\n",
            "1500/1500 [==============================] - 5s 3ms/step - loss: 0.0553 - accuracy: 0.9847 - val_loss: 0.0700 - val_accuracy: 0.9798\n",
            "Epoch 3/10\n",
            "1500/1500 [==============================] - 5s 3ms/step - loss: 0.0336 - accuracy: 0.9902 - val_loss: 0.0654 - val_accuracy: 0.9831\n",
            "Epoch 4/10\n",
            "1500/1500 [==============================] - 5s 3ms/step - loss: 0.0246 - accuracy: 0.9923 - val_loss: 0.0564 - val_accuracy: 0.9838\n",
            "Epoch 5/10\n",
            "1500/1500 [==============================] - 5s 3ms/step - loss: 0.0167 - accuracy: 0.9955 - val_loss: 0.0587 - val_accuracy: 0.9854\n",
            "Epoch 6/10\n",
            "1500/1500 [==============================] - 5s 3ms/step - loss: 0.0104 - accuracy: 0.9973 - val_loss: 0.0598 - val_accuracy: 0.9848\n",
            "Epoch 7/10\n",
            "1500/1500 [==============================] - 5s 3ms/step - loss: 0.0084 - accuracy: 0.9983 - val_loss: 0.0571 - val_accuracy: 0.9866\n",
            "Epoch 8/10\n",
            "1500/1500 [==============================] - 5s 3ms/step - loss: 0.0061 - accuracy: 0.9986 - val_loss: 0.0554 - val_accuracy: 0.9874\n",
            "Epoch 9/10\n",
            "1500/1500 [==============================] - 5s 3ms/step - loss: 0.0045 - accuracy: 0.9990 - val_loss: 0.0610 - val_accuracy: 0.9872\n",
            "Epoch 10/10\n",
            "1500/1500 [==============================] - 5s 3ms/step - loss: 0.0045 - accuracy: 0.9990 - val_loss: 0.0616 - val_accuracy: 0.9869\n",
            "Epoch 1/10\n",
            "1500/1500 [==============================] - 5s 3ms/step - loss: 0.2323 - accuracy: 0.9308 - val_loss: 0.0544 - val_accuracy: 0.9833\n",
            "Epoch 2/10\n",
            "1500/1500 [==============================] - 5s 3ms/step - loss: 0.0523 - accuracy: 0.9849 - val_loss: 0.0503 - val_accuracy: 0.9842\n",
            "Epoch 3/10\n",
            "1500/1500 [==============================] - 5s 3ms/step - loss: 0.0320 - accuracy: 0.9900 - val_loss: 0.0436 - val_accuracy: 0.9868\n",
            "Epoch 4/10\n",
            "1500/1500 [==============================] - 5s 3ms/step - loss: 0.0207 - accuracy: 0.9936 - val_loss: 0.0402 - val_accuracy: 0.9862\n",
            "Epoch 5/10\n",
            "1500/1500 [==============================] - 5s 3ms/step - loss: 0.0138 - accuracy: 0.9960 - val_loss: 0.0413 - val_accuracy: 0.9874\n",
            "Epoch 6/10\n",
            "1500/1500 [==============================] - 5s 3ms/step - loss: 0.0092 - accuracy: 0.9980 - val_loss: 0.0385 - val_accuracy: 0.9879\n",
            "Epoch 7/10\n",
            "1500/1500 [==============================] - 5s 3ms/step - loss: 0.0071 - accuracy: 0.9984 - val_loss: 0.0353 - val_accuracy: 0.9893\n",
            "Epoch 8/10\n",
            "1500/1500 [==============================] - 5s 3ms/step - loss: 0.0049 - accuracy: 0.9989 - val_loss: 0.0448 - val_accuracy: 0.9868\n",
            "Epoch 9/10\n",
            "1500/1500 [==============================] - 5s 3ms/step - loss: 0.0071 - accuracy: 0.9982 - val_loss: 0.0373 - val_accuracy: 0.9893\n",
            "Epoch 10/10\n",
            "1500/1500 [==============================] - 5s 3ms/step - loss: 0.0044 - accuracy: 0.9990 - val_loss: 0.0400 - val_accuracy: 0.9898\n",
            "Epoch 1/10\n",
            "1500/1500 [==============================] - 6s 3ms/step - loss: 0.2513 - accuracy: 0.9260 - val_loss: 0.0775 - val_accuracy: 0.9783\n",
            "Epoch 2/10\n",
            "1500/1500 [==============================] - 5s 3ms/step - loss: 0.0540 - accuracy: 0.9843 - val_loss: 0.0724 - val_accuracy: 0.9793\n",
            "Epoch 3/10\n",
            "1500/1500 [==============================] - 5s 3ms/step - loss: 0.0327 - accuracy: 0.9893 - val_loss: 0.0652 - val_accuracy: 0.9827\n",
            "Epoch 4/10\n",
            "1500/1500 [==============================] - 5s 3ms/step - loss: 0.0205 - accuracy: 0.9937 - val_loss: 0.0514 - val_accuracy: 0.9852\n",
            "Epoch 5/10\n",
            "1500/1500 [==============================] - 5s 3ms/step - loss: 0.0151 - accuracy: 0.9954 - val_loss: 0.0542 - val_accuracy: 0.9849\n",
            "Epoch 6/10\n",
            "1500/1500 [==============================] - 5s 3ms/step - loss: 0.0101 - accuracy: 0.9972 - val_loss: 0.0519 - val_accuracy: 0.9862\n",
            "Epoch 7/10\n",
            "1500/1500 [==============================] - 5s 3ms/step - loss: 0.0082 - accuracy: 0.9975 - val_loss: 0.0565 - val_accuracy: 0.9853\n",
            "Epoch 8/10\n",
            "1500/1500 [==============================] - 5s 3ms/step - loss: 0.0066 - accuracy: 0.9983 - val_loss: 0.0507 - val_accuracy: 0.9869\n",
            "Epoch 9/10\n",
            "1500/1500 [==============================] - 5s 3ms/step - loss: 0.0054 - accuracy: 0.9988 - val_loss: 0.0519 - val_accuracy: 0.9872\n",
            "Epoch 10/10\n",
            "1500/1500 [==============================] - 5s 3ms/step - loss: 0.0034 - accuracy: 0.9994 - val_loss: 0.0529 - val_accuracy: 0.9875\n"
          ],
          "name": "stdout"
        },
        {
          "output_type": "display_data",
          "data": {
            "image/png": "[encoded data removed]",
            "text/plain": [
              "<Figure size 432x288 with 2 Axes>"
            ]
          },
          "metadata": {
            "tags": [],
            "needs_background": "light"
          }
        },
        {
          "output_type": "stream",
          "text": [
            "Accuracy: mean=98.720 std=0.155, n=5\n"
          ],
          "name": "stdout"
        },
        {
          "output_type": "display_data",
          "data": {
            "image/png": "[encoded data removed]",
            "text/plain": [
              "<Figure size 432x288 with 1 Axes>"
            ]
          },
          "metadata": {
            "tags": [],
            "needs_background": "light"
          }
        }
      ]
    }
  ]
}